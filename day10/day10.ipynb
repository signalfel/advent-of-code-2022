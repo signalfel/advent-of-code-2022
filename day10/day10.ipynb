{
 "cells": [
  {
   "cell_type": "code",
   "execution_count": 5,
   "id": "f7f4ec99-191b-48a6-ba7d-48c6f323a000",
   "metadata": {},
   "outputs": [],
   "source": [
    "import pandas as pd"
   ]
  },
  {
   "cell_type": "code",
   "execution_count": 122,
   "id": "cf360fb3-11de-49ae-a709-38bcfbba01e5",
   "metadata": {},
   "outputs": [],
   "source": [
    "name = 'input'\n",
    "\n",
    "with open(f'{name}.txt') as f:\n",
    "    x = f.read().split('\\n')"
   ]
  },
  {
   "cell_type": "markdown",
   "id": "e0ffec95-0a6b-4d25-989c-cf9e64c57340",
   "metadata": {
    "tags": []
   },
   "source": [
    "## Part 1"
   ]
  },
  {
   "cell_type": "code",
   "execution_count": 123,
   "id": "3038f8c0-6f4a-402c-b074-96359c2d4072",
   "metadata": {},
   "outputs": [],
   "source": [
    "register = [1]\n",
    "for row in x:\n",
    "    X = register[-1]\n",
    "    \n",
    "    if row == 'noop':\n",
    "        # cycles += 1\n",
    "        register.append(X)\n",
    "    else:\n",
    "        n = int(row.split(' ')[-1])\n",
    "        register.append(X)\n",
    "        register.append(X + n)"
   ]
  },
  {
   "cell_type": "code",
   "execution_count": 124,
   "id": "580d1bc9-67e0-4c54-926b-b51ff5c66e37",
   "metadata": {},
   "outputs": [],
   "source": [
    "signal_strength_sum = 0\n",
    "for i in [20, 60, 100, 140, 180, 220]:\n",
    "    signal_strength_sum += register[i-1]*i"
   ]
  },
  {
   "cell_type": "code",
   "execution_count": 125,
   "id": "0a04aeee-ad15-4203-b71e-c3dbce796d28",
   "metadata": {},
   "outputs": [
    {
     "data": {
      "text/plain": [
       "14240"
      ]
     },
     "execution_count": 125,
     "metadata": {},
     "output_type": "execute_result"
    }
   ],
   "source": [
    "signal_strength_sum"
   ]
  },
  {
   "cell_type": "markdown",
   "id": "b02c9461-d1b4-4131-8f03-eecd51e6cb1e",
   "metadata": {},
   "source": [
    "## Part 2"
   ]
  },
  {
   "cell_type": "code",
   "execution_count": 126,
   "id": "19a60200-da14-4547-9ff5-de85d085f7c2",
   "metadata": {},
   "outputs": [],
   "source": [
    "def draw(sprite, pixel):\n",
    "    if pixel in sprite:\n",
    "        return '#'\n",
    "    else:\n",
    "        return '.'\n",
    "\n",
    "CRT = [['.']*40 for i in range(7)]\n",
    "X = 1\n",
    "sprite = list(range(X-1,X+2))\n",
    "cycle = 0\n",
    "for row in x:\n",
    "   \n",
    "    cycle += 1\n",
    "    if row == 'noop':\n",
    "        pixel = cycle%40\n",
    "        px = draw(sprite, pixel)\n",
    "        CRT[cycle//40][pixel] = px\n",
    "    else:\n",
    "        pixel = cycle%40\n",
    "        px = draw(sprite, pixel)\n",
    "        CRT[cycle//40][pixel] = px\n",
    "        \n",
    "        cycle += 1\n",
    "        n = int(row.split(' ')[-1])\n",
    "        X = X + n\n",
    "        sprite = list(range(X-1,X+2))\n",
    "        \n",
    "        pixel = cycle%40\n",
    "        px = draw(sprite, pixel)\n",
    "        CRT[cycle//40][pixel] = px\n",
    "\n",
    "CRT = [''.join(row) for row in CRT]"
   ]
  },
  {
   "cell_type": "code",
   "execution_count": 128,
   "id": "48b4a739-b6b0-4661-a702-6ec6cb67f6ee",
   "metadata": {},
   "outputs": [
    {
     "data": {
      "text/plain": [
       "['.##..#....#..#.#....#..#.###..####.#..#.',\n",
       " '#..#.#....#..#.#....#.#..#..#....#.#..#.',\n",
       " '#..#.#....#..#.#....##...###....#..####.',\n",
       " '###..#....#..#.#....#.#..#..#..#...#..#.',\n",
       " '#....#....#..#.#....#.#..#..#.#....#..#.',\n",
       " '#....####..##..####.#..#.###..####.#..#.',\n",
       " '........................................']"
      ]
     },
     "execution_count": 128,
     "metadata": {},
     "output_type": "execute_result"
    }
   ],
   "source": [
    "CRT"
   ]
  }
 ],
 "metadata": {
  "kernelspec": {
   "display_name": "Python 3 (ipykernel)",
   "language": "python",
   "name": "python3"
  },
  "language_info": {
   "codemirror_mode": {
    "name": "ipython",
    "version": 3
   },
   "file_extension": ".py",
   "mimetype": "text/x-python",
   "name": "python",
   "nbconvert_exporter": "python",
   "pygments_lexer": "ipython3",
   "version": "3.9.15"
  }
 },
 "nbformat": 4,
 "nbformat_minor": 5
}
