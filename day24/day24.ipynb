{
 "cells": [
  {
   "cell_type": "code",
   "execution_count": 1,
   "id": "6ad5c95d-63a0-4b38-9a17-bc60710c0ba4",
   "metadata": {},
   "outputs": [],
   "source": [
    "%load_ext autoreload\n",
    "%autoreload 2"
   ]
  },
  {
   "cell_type": "code",
   "execution_count": 2,
   "id": "57ac3de5-52ec-4a08-b420-2b770d8ed902",
   "metadata": {},
   "outputs": [],
   "source": [
    "def get_input(name):\n",
    "    with open(f'{name}.txt') as f:\n",
    "        return f.read().split('\\n')"
   ]
  },
  {
   "cell_type": "code",
   "execution_count": 154,
   "id": "3fec9628-01c2-480e-98a0-12e4b039bb63",
   "metadata": {},
   "outputs": [],
   "source": [
    "import numpy as np\n",
    "import networkx as nx\n",
    "import sys\n",
    "sys.path.insert(0, '../')\n",
    "from aoc_utils import get_grid_neighbours"
   ]
  },
  {
   "cell_type": "markdown",
   "id": "31482dcd-0265-476b-88b6-973326008722",
   "metadata": {},
   "source": [
    "### Valley plotting functions"
   ]
  },
  {
   "cell_type": "code",
   "execution_count": 143,
   "id": "3547792c-30e5-4326-af4a-b66e74652ddf",
   "metadata": {},
   "outputs": [],
   "source": [
    "def get_tile_to_plot(tile_list):\n",
    "    if len(tile_list) == 0:\n",
    "        return '.'\n",
    "    elif len(tile_list) == 1:\n",
    "        return tile_list[0]\n",
    "    else:\n",
    "        return f'{len(tile_list)}'\n",
    "\n",
    "def plot_valley_field(valley_field):\n",
    "    for row in valley_field:\n",
    "        print(''.join(get_tile_to_plot(tile_list) for tile_list in row))"
   ]
  },
  {
   "cell_type": "markdown",
   "id": "8b46e03b-009b-4fb6-8b93-93d3d4de13d2",
   "metadata": {},
   "source": [
    "### Propagating blizzards"
   ]
  },
  {
   "cell_type": "code",
   "execution_count": 185,
   "id": "ea3630b6-25a0-44a2-890f-74491916ca41",
   "metadata": {},
   "outputs": [],
   "source": [
    "wind_map = {'<': 'w', '^': 'n', '>': 'e', 'v': 's'}\n",
    "def get_neighbour(point, direction):\n",
    "    neis_4 = get_grid_neighbours(point, 4, as_dict=True)\n",
    "    nei = neis_4[wind_map[direction]]\n",
    "    return (nei[0] % M, nei[1] % N)\n",
    "\n",
    "def propagate_blizzards(valley_field):    \n",
    "    next_valley_field = [[[] for _ in range(N)] for _ in range(M)]\n",
    "    for i in range(M):\n",
    "        for j in range(N):\n",
    "            for blizzard in valley_field[i][j]:\n",
    "                next_i, next_j = get_neighbour((i,j), blizzard)\n",
    "                next_valley_field[next_i][next_j].append(blizzard)\n",
    "    return next_valley_field"
   ]
  },
  {
   "cell_type": "markdown",
   "id": "11ed4cf4-5a91-4c2e-9d5f-3ce743b14400",
   "metadata": {},
   "source": [
    "# Part 1"
   ]
  },
  {
   "cell_type": "code",
   "execution_count": 260,
   "id": "dd20362e-0a15-48f1-82fb-3ae6d6630bfe",
   "metadata": {},
   "outputs": [],
   "source": [
    "valley = get_input('input') \n",
    "M, N = len(valley)-2, len(valley[0])-2\n",
    "valley_field = [[[t] if (t != '.') else [] for t in list(row[1:-1])] for row in valley[1:-1]]\n",
    "end_node = (M, N-1)"
   ]
  },
  {
   "cell_type": "code",
   "execution_count": 261,
   "id": "7591f8dd-ff5b-48be-98b8-3ea878328066",
   "metadata": {},
   "outputs": [],
   "source": [
    "vf = valley_field.copy()\n",
    "valley_at_time_t = [vf]\n",
    "while True:\n",
    "    vf = propagate_blizzards(vf)\n",
    "    if vf == valley_field:\n",
    "        break\n",
    "    valley_at_time_t.append(vf)"
   ]
  },
  {
   "cell_type": "code",
   "execution_count": 262,
   "id": "1ccad0d9-3c4c-44b1-8fc8-7eb29b768b90",
   "metadata": {},
   "outputs": [],
   "source": [
    "g = nx.DiGraph()\n",
    "g.add_node((-1, 0, 0))\n",
    "time = list(range(len(valley_at_time_t)))\n",
    "\n",
    "for t0, t1, current_valley, next_valley in zip(time, time[1:] + [time[0]], valley_at_time_t, valley_at_time_t[1:] + [valley_at_time_t[0]]):\n",
    "    # handle start node\n",
    "    \n",
    "    # waiting at the start node is always allowed\n",
    "    g.add_edge((-1, 0, t0), (-1, 0, t1))\n",
    "    if not next_valley[0][0]:\n",
    "        # we can move out if there will be no blizzards there\n",
    "        g.add_edge((-1, 0, t0), (0, 0, t1))\n",
    "    \n",
    "    for i in range(M):\n",
    "        for j in range(N):\n",
    "            # we only need to consider tiles if they have no blizzards, since we cannot have ended up there otherwise\n",
    "            if not current_valley[i][j]:\n",
    "                \n",
    "                if not next_valley[i][j]:\n",
    "                    g.add_edge((i,j,t0), (i,j,t1))\n",
    "                    \n",
    "                for nei in get_grid_neighbours((i,j), 4):\n",
    "                    if ((ni := nei[0]) < 0) or ((nj := nei[1]) < 0) or (nei[0] > M - 1) or (nei[1] > N - 1):\n",
    "                        continue\n",
    "                    if not next_valley[ni][nj]:\n",
    "                        g.add_edge((i,j,t0), (ni,nj,t1))\n",
    "    \n",
    "    # handle end node\n",
    "    if not current_valley[M-1][N-1]:\n",
    "        g.add_edge((M-1, N-1, t0), end_node)"
   ]
  },
  {
   "cell_type": "code",
   "execution_count": 265,
   "id": "c4a83ef4-7fa7-4664-a263-a2593e13f24d",
   "metadata": {},
   "outputs": [
    {
     "data": {
      "text/plain": [
       "253"
      ]
     },
     "execution_count": 265,
     "metadata": {},
     "output_type": "execute_result"
    }
   ],
   "source": [
    "nx.dijkstra_path_length(g, (-1, 0, 0), end_node)"
   ]
  },
  {
   "cell_type": "markdown",
   "id": "a1da65ee-b4f4-4ddf-aa5c-e3c65ef0b1ad",
   "metadata": {},
   "source": [
    "# Part 2"
   ]
  },
  {
   "cell_type": "code",
   "execution_count": 266,
   "id": "a35bf4e0-ecdc-477e-9a8c-deb23bd64508",
   "metadata": {},
   "outputs": [],
   "source": [
    "for t in range(len(time)):\n",
    "    # we're always allowed to move to start node\n",
    "    g.add_edge((0, 0, t), (-1, 0))\n",
    "    t1 = (t+1)%len(time)\n",
    "    \n",
    "    # waiting at the end node is always allowed\n",
    "    g.add_edge((*end_node, t), (*end_node, t1))\n",
    "    \n",
    "    # we can move back out from the end node if there are no blizzards there\n",
    "    if not valley_at_time_t[t1][M-1][N-1]:\n",
    "        g.add_edge((*end_node, t), (M-1, N-1, t1))"
   ]
  },
  {
   "cell_type": "code",
   "execution_count": 267,
   "id": "68ef9567-8006-4d84-abf8-84ce0be0c8cb",
   "metadata": {},
   "outputs": [],
   "source": [
    "time_to_end = nx.dijkstra_path_length(g, (-1, 0, 0), end_node)\n",
    "time_back = nx.dijkstra_path_length(g, (*end_node, time_to_end % len(time)), (-1, 0))\n",
    "time_to_end_again = nx.dijkstra_path_length(g, (-1, 0, (time_to_end+time_back)%len(time)), end_node)"
   ]
  },
  {
   "cell_type": "code",
   "execution_count": 268,
   "id": "08bfe25f-f99a-41ce-b7f7-9f91e681584c",
   "metadata": {},
   "outputs": [
    {
     "name": "stdout",
     "output_type": "stream",
     "text": [
      "794\n"
     ]
    }
   ],
   "source": [
    "print(time_to_end + time_back + time_to_end_again)"
   ]
  }
 ],
 "metadata": {
  "kernelspec": {
   "display_name": "Python 3 (ipykernel)",
   "language": "python",
   "name": "python3"
  },
  "language_info": {
   "codemirror_mode": {
    "name": "ipython",
    "version": 3
   },
   "file_extension": ".py",
   "mimetype": "text/x-python",
   "name": "python",
   "nbconvert_exporter": "python",
   "pygments_lexer": "ipython3",
   "version": "3.9.15"
  }
 },
 "nbformat": 4,
 "nbformat_minor": 5
}
