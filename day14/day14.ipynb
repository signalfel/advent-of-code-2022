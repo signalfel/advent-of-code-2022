{
 "cells": [
  {
   "cell_type": "code",
   "execution_count": 6,
   "id": "c4fe7f51-4177-4949-8c82-bc1491e01dde",
   "metadata": {},
   "outputs": [],
   "source": [
    "import numpy as np"
   ]
  },
  {
   "cell_type": "code",
   "execution_count": 7,
   "id": "57ac3de5-52ec-4a08-b420-2b770d8ed902",
   "metadata": {},
   "outputs": [],
   "source": [
    "def get_input(name):\n",
    "    with open(f'{name}.txt') as f:\n",
    "        return f.read().split('\\n')"
   ]
  },
  {
   "cell_type": "code",
   "execution_count": 8,
   "id": "becaf77a-79f8-41a4-92b5-3242a7161a58",
   "metadata": {},
   "outputs": [],
   "source": [
    "def get_rocks(x):\n",
    "    rocks = []\n",
    "    for row in x:\n",
    "        points = [(int(x), int(y)) for x,y in [p.split(',') for p in row.split(' -> ')]]\n",
    "        for s,d in zip(points[:-1], points[1:]):\n",
    "            x1,y1 = s\n",
    "            x2,y2 = d\n",
    "            dx = x2-x1\n",
    "            dy = y2-y1\n",
    "\n",
    "            if abs(dx) > 0:\n",
    "                step = np.sign(dx)\n",
    "                xs = x1 + np.arange(0, dx+step, step)\n",
    "                ys = np.repeat(y1, xs.shape[0])\n",
    "            elif abs(dy) > 0:\n",
    "                step = np.sign(dy)\n",
    "                ys = y1 + np.arange(0, dy+step, step)\n",
    "                xs = np.repeat(x1, ys.shape[0])\n",
    "            else:\n",
    "                raise ValueError('No diff.')\n",
    "\n",
    "            rocks += [(x,y) for (x,y) in zip(xs, ys)]\n",
    "    return rocks"
   ]
  },
  {
   "cell_type": "code",
   "execution_count": 9,
   "id": "8ab5f2a0-2e06-4ece-9ee8-44d64722f055",
   "metadata": {},
   "outputs": [],
   "source": [
    "def shift_rocks(rocks, dx):\n",
    "    to_subtract = 500 - (dx - 1)//2\n",
    "    rocks = [(x-to_subtract, y) for x,y in rocks]\n",
    "    return rocks, (500 - to_subtract, 0)"
   ]
  },
  {
   "cell_type": "code",
   "execution_count": 10,
   "id": "a308eb94-4ffb-4546-9249-cdc073bf78b1",
   "metadata": {},
   "outputs": [],
   "source": [
    "def add(tuple1, tuple2):\n",
    "    return tuple(map(lambda x, y: x + y, tuple1, tuple2))"
   ]
  },
  {
   "cell_type": "code",
   "execution_count": 11,
   "id": "04fff6d1-dd4c-432c-b072-f2611f882150",
   "metadata": {},
   "outputs": [],
   "source": [
    "def create_sand(A):\n",
    "    sand_loc = sand_origin\n",
    "    \n",
    "    stopped = False\n",
    "    abyss = False\n",
    "    while not (stopped or abyss):\n",
    "        \n",
    "        d = add(sand_loc, (0, 1))\n",
    "        dl = add(sand_loc, (-1, 1))\n",
    "        dr = add(sand_loc, (1, 1))\n",
    "        \n",
    "        if not A[d]:\n",
    "            sand_loc = d\n",
    "            if sand_loc[1] > rock_max:\n",
    "                abyss = True\n",
    "        elif not A[dl]:\n",
    "            sand_loc = dl\n",
    "        elif not A[dr]:\n",
    "            sand_loc = dr\n",
    "        else:\n",
    "            A[sand_loc] = -1\n",
    "            stopped = True\n",
    "    \n",
    "    return abyss, A"
   ]
  },
  {
   "cell_type": "markdown",
   "id": "11ed4cf4-5a91-4c2e-9d5f-3ce743b14400",
   "metadata": {},
   "source": [
    "# Part 1"
   ]
  },
  {
   "cell_type": "code",
   "execution_count": 12,
   "id": "eabfdce3-a01e-41bf-8899-99f73ee97886",
   "metadata": {},
   "outputs": [],
   "source": [
    "x = get_input('input')"
   ]
  },
  {
   "cell_type": "code",
   "execution_count": 13,
   "id": "8fe6d5ab-b24d-4fb8-b002-86a712517fdd",
   "metadata": {},
   "outputs": [],
   "source": [
    "rocks = get_rocks(x)\n",
    "\n",
    "ymin = 0\n",
    "ymax = max(rocks, key=lambda t: t[1])[1] + 2\n",
    "rock_max = ymax-2\n",
    "\n",
    "dy = ymax - ymin\n",
    "dx = (2*dy - 1) + 2\n",
    "\n",
    "rocks, sand_origin = shift_rocks(rocks, dx)\n",
    "\n",
    "A = np.zeros((dx, dy))\n",
    "for r in rocks:\n",
    "    A[r] = 1"
   ]
  },
  {
   "cell_type": "code",
   "execution_count": 14,
   "id": "05ac4880-f7f1-4baa-b541-e3cbd656c7d7",
   "metadata": {},
   "outputs": [],
   "source": [
    "sand = []\n",
    "abyss = False\n",
    "while not abyss:\n",
    "    abyss, A = create_sand(A)"
   ]
  },
  {
   "cell_type": "code",
   "execution_count": 15,
   "id": "278799f1-d412-4f98-9c0e-85510288d66c",
   "metadata": {},
   "outputs": [
    {
     "data": {
      "text/plain": [
       "1330"
      ]
     },
     "execution_count": 15,
     "metadata": {},
     "output_type": "execute_result"
    }
   ],
   "source": [
    "sum(sum(A==-1))"
   ]
  },
  {
   "cell_type": "markdown",
   "id": "0ddbe99f-b40d-4db1-a33d-6a5d529da55a",
   "metadata": {},
   "source": [
    "# Part 2"
   ]
  },
  {
   "cell_type": "code",
   "execution_count": 16,
   "id": "cb106f50-4096-44f9-aacb-2463b7ed8dfd",
   "metadata": {},
   "outputs": [],
   "source": [
    "def create_sand_part_2(A):\n",
    "    sand_loc = sand_origin\n",
    "    \n",
    "    filled = False\n",
    "    while not filled:\n",
    "        \n",
    "        if A[sand_origin] == -1:\n",
    "            filled = True\n",
    "            break\n",
    "        \n",
    "        d = add(sand_loc, (0, 1))\n",
    "        dl = add(sand_loc, (-1, 1))\n",
    "        dr = add(sand_loc, (1, 1))\n",
    "        \n",
    "        if sand_loc[1] == (ymax - 1):\n",
    "            A[sand_loc] = -1\n",
    "            break\n",
    "        elif not A[d]:\n",
    "            sand_loc = d\n",
    "        elif not A[dl]:\n",
    "            sand_loc = dl\n",
    "        elif not A[dr]:\n",
    "            sand_loc = dr\n",
    "        else:\n",
    "            A[sand_loc] = -1\n",
    "            break\n",
    "            \n",
    "    return filled, A"
   ]
  },
  {
   "cell_type": "code",
   "execution_count": 17,
   "id": "67025a2b-f036-4685-9ebf-7541c809fb06",
   "metadata": {},
   "outputs": [],
   "source": [
    "x = get_input('input')\n",
    "\n",
    "rocks = get_rocks(x)\n",
    "\n",
    "ymin = 0\n",
    "ymax = max(rocks, key=lambda t: t[1])[1] + 2\n",
    "rock_max = ymax-2\n",
    "\n",
    "dy = ymax - ymin\n",
    "dx = (2*dy - 1) + 2\n",
    "\n",
    "rocks, sand_origin = shift_rocks(rocks, dx)\n",
    "\n",
    "A = np.zeros((dx, dy))\n",
    "for r in rocks:\n",
    "    A[r] = 1"
   ]
  },
  {
   "cell_type": "code",
   "execution_count": 18,
   "id": "beefe402-651b-4686-af6e-e8ee7f5ff8b4",
   "metadata": {},
   "outputs": [],
   "source": [
    "filled = False\n",
    "while not filled:\n",
    "    filled, A = create_sand_part_2(A)"
   ]
  },
  {
   "cell_type": "code",
   "execution_count": 19,
   "id": "5930b4e2-458e-4238-9b62-a0759cd691c7",
   "metadata": {},
   "outputs": [
    {
     "data": {
      "text/plain": [
       "26139"
      ]
     },
     "execution_count": 19,
     "metadata": {},
     "output_type": "execute_result"
    }
   ],
   "source": [
    "sum(sum(A==-1))"
   ]
  }
 ],
 "metadata": {
  "kernelspec": {
   "display_name": "Python 3 (ipykernel)",
   "language": "python",
   "name": "python3"
  },
  "language_info": {
   "codemirror_mode": {
    "name": "ipython",
    "version": 3
   },
   "file_extension": ".py",
   "mimetype": "text/x-python",
   "name": "python",
   "nbconvert_exporter": "python",
   "pygments_lexer": "ipython3",
   "version": "3.9.15"
  }
 },
 "nbformat": 4,
 "nbformat_minor": 5
}
