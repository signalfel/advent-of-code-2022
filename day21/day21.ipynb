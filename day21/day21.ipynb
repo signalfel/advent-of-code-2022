{
 "cells": [
  {
   "cell_type": "code",
   "execution_count": 1,
   "id": "aeff0c76-a552-4470-a628-e0bfc5eaac3d",
   "metadata": {},
   "outputs": [],
   "source": [
    "from sympy import Symbol\n",
    "from sympy.solvers import solve"
   ]
  },
  {
   "cell_type": "code",
   "execution_count": 2,
   "id": "57ac3de5-52ec-4a08-b420-2b770d8ed902",
   "metadata": {},
   "outputs": [],
   "source": [
    "def get_input(name):\n",
    "    with open(f'{name}.txt') as f:\n",
    "        return f.read().split('\\n')"
   ]
  },
  {
   "cell_type": "markdown",
   "id": "11ed4cf4-5a91-4c2e-9d5f-3ce743b14400",
   "metadata": {},
   "source": [
    "# Part 1"
   ]
  },
  {
   "cell_type": "code",
   "execution_count": null,
   "id": "b2e2effd-00a7-49a5-b260-e7f4091c7587",
   "metadata": {},
   "outputs": [],
   "source": [
    "x = get_input('input')"
   ]
  },
  {
   "cell_type": "code",
   "execution_count": null,
   "id": "7d701064-fe38-4c1b-a55c-f7c3a2776491",
   "metadata": {},
   "outputs": [],
   "source": [
    "x = [i.replace(':', ' =') for i in x]"
   ]
  },
  {
   "cell_type": "code",
   "execution_count": null,
   "id": "d33c0e67-c498-486d-9c0b-9bdc23a7631e",
   "metadata": {},
   "outputs": [],
   "source": [
    "if 'root' in locals():\n",
    "    del root\n",
    "while not 'root' in locals():\n",
    "    for line in x:\n",
    "        try:\n",
    "            exec(line)\n",
    "        except NameError:\n",
    "            pass"
   ]
  },
  {
   "cell_type": "code",
   "execution_count": null,
   "id": "c981e757-fd31-463f-be7f-a117316708fc",
   "metadata": {},
   "outputs": [],
   "source": [
    "root"
   ]
  },
  {
   "cell_type": "markdown",
   "id": "0ddbe99f-b40d-4db1-a33d-6a5d529da55a",
   "metadata": {},
   "source": [
    "# Part 2"
   ]
  },
  {
   "cell_type": "code",
   "execution_count": 3,
   "id": "e2887474-9387-4ee1-bb5d-c8894eff6c6a",
   "metadata": {},
   "outputs": [],
   "source": [
    "x = get_input('input')\n",
    "\n",
    "x = [i.replace(':', ' =') for i in x]\n",
    "criterion = [k for k in x if 'root = ' in k]\n",
    "x = [i for i in x if not ('humn = ' in i) and not (i in criterion)]\n",
    "needed_variables = criterion[0][7:].split(' + ')\n",
    "\n",
    "humn = Symbol('humn')"
   ]
  },
  {
   "cell_type": "code",
   "execution_count": 4,
   "id": "4a8371c5-7b67-475c-be5a-522f769e1a8f",
   "metadata": {},
   "outputs": [],
   "source": [
    "for v in needed_variables:\n",
    "    if v in globals():\n",
    "        exec(f'del {v}')\n",
    "\n",
    "have_what_we_need = False\n",
    "\n",
    "while not have_what_we_need:\n",
    "    for line in x:\n",
    "        try:\n",
    "            exec(line)\n",
    "        except NameError:\n",
    "            pass\n",
    "    \n",
    "    have_what_we_need = all([v in globals() for v in needed_variables])"
   ]
  },
  {
   "cell_type": "code",
   "execution_count": 5,
   "id": "2420c841-ad38-4708-802d-a79a6ca8a36c",
   "metadata": {},
   "outputs": [
    {
     "data": {
      "text/plain": [
       "['root = cwtl + wqpn']"
      ]
     },
     "execution_count": 5,
     "metadata": {},
     "output_type": "execute_result"
    }
   ],
   "source": [
    "criterion"
   ]
  },
  {
   "cell_type": "code",
   "execution_count": 6,
   "id": "8beff39e-c683-4bb2-957a-b010a7fafb55",
   "metadata": {},
   "outputs": [
    {
     "data": {
      "text/plain": [
       "55897899750372.0"
      ]
     },
     "execution_count": 6,
     "metadata": {},
     "output_type": "execute_result"
    }
   ],
   "source": [
    "wqpn"
   ]
  },
  {
   "cell_type": "code",
   "execution_count": 7,
   "id": "f8a21776-e455-4e39-9220-c3e51fd0f774",
   "metadata": {},
   "outputs": [
    {
     "data": {
      "text/latex": [
       "$\\displaystyle 113627984519865.0 - \\frac{160 humn}{9}$"
      ],
      "text/plain": [
       "113627984519865.0 - 160*humn/9"
      ]
     },
     "execution_count": 7,
     "metadata": {},
     "output_type": "execute_result"
    }
   ],
   "source": [
    "cwtl"
   ]
  },
  {
   "cell_type": "code",
   "execution_count": 8,
   "id": "fbc45688-426f-4a5a-af0b-939d74472bbe",
   "metadata": {},
   "outputs": [
    {
     "data": {
      "text/plain": [
       "[3247317268284.00]"
      ]
     },
     "execution_count": 8,
     "metadata": {},
     "output_type": "execute_result"
    }
   ],
   "source": [
    "solve(cwtl  - wqpn, humn)"
   ]
  },
  {
   "cell_type": "code",
   "execution_count": null,
   "id": "fd53cac7-dd6b-4303-a416-9a6dd4a5c117",
   "metadata": {},
   "outputs": [],
   "source": []
  }
 ],
 "metadata": {
  "kernelspec": {
   "display_name": "Python 3 (ipykernel)",
   "language": "python",
   "name": "python3"
  },
  "language_info": {
   "codemirror_mode": {
    "name": "ipython",
    "version": 3
   },
   "file_extension": ".py",
   "mimetype": "text/x-python",
   "name": "python",
   "nbconvert_exporter": "python",
   "pygments_lexer": "ipython3",
   "version": "3.9.15"
  }
 },
 "nbformat": 4,
 "nbformat_minor": 5
}
