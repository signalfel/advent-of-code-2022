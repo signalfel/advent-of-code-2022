{
 "cells": [
  {
   "cell_type": "code",
   "execution_count": 4,
   "id": "d55ffff0-25e4-4b7a-8326-744c215fff4c",
   "metadata": {},
   "outputs": [],
   "source": [
    "name = 'input'\n",
    "\n",
    "with open(f'{name}.txt') as f:\n",
    "    x = f.read().split('\\n')"
   ]
  },
  {
   "cell_type": "code",
   "execution_count": 48,
   "id": "77a8aad5-d25b-43c1-9370-d9ba2c545ee5",
   "metadata": {},
   "outputs": [],
   "source": [
    "def get_priority(letter):\n",
    "    if letter.islower():\n",
    "        letter = letter.upper()\n",
    "        offset = 64\n",
    "    else:\n",
    "        letter = letter.lower()\n",
    "        offset = 64 + 6\n",
    "        \n",
    "    return ord(letter) - offset"
   ]
  },
  {
   "cell_type": "markdown",
   "id": "83b9661e-94a8-4996-8264-4c1acd3f8ed1",
   "metadata": {},
   "source": [
    "## Part 1"
   ]
  },
  {
   "cell_type": "code",
   "execution_count": 52,
   "id": "5037ea90-8c6e-46bb-972f-752f38c6aa1a",
   "metadata": {},
   "outputs": [
    {
     "name": "stdout",
     "output_type": "stream",
     "text": [
      "8401\n"
     ]
    }
   ],
   "source": [
    "total_sum = 0\n",
    "for rucksack in x:\n",
    "    firstpart, secondpart = rucksack[:len(rucksack)//2], rucksack[len(rucksack)//2:]\n",
    "    common_characters = ''.join(set(firstpart).intersection(secondpart))\n",
    "    \n",
    "    for c in common_characters:\n",
    "        total_sum += get_priority(c)\n",
    "print(total_sum)"
   ]
  },
  {
   "cell_type": "markdown",
   "id": "d5c7fd9d-c392-4c1b-8fd8-910c4597e90d",
   "metadata": {},
   "source": [
    "## Part 2"
   ]
  },
  {
   "cell_type": "code",
   "execution_count": 53,
   "id": "a64796c3-47bc-4a7d-ab0d-2d88d3f1a0c4",
   "metadata": {},
   "outputs": [],
   "source": [
    "def chunker(seq, size):\n",
    "    return (seq[pos:pos + size] for pos in range(0, len(seq), size))"
   ]
  },
  {
   "cell_type": "code",
   "execution_count": 61,
   "id": "c8047ce2-891f-48a2-8c3e-30eeaa609ebb",
   "metadata": {},
   "outputs": [
    {
     "name": "stdout",
     "output_type": "stream",
     "text": [
      "2641\n"
     ]
    }
   ],
   "source": [
    "total_sum = 0\n",
    "for rucksack_group in chunker(x, 3):\n",
    "    rucksack_sets = [set(r) for r in rucksack_group]\n",
    "    badge = set.intersection(*rucksack_sets).pop()\n",
    "    total_sum += get_priority(badge)\n",
    "print(total_sum)"
   ]
  }
 ],
 "metadata": {
  "kernelspec": {
   "display_name": "Python 3 (ipykernel)",
   "language": "python",
   "name": "python3"
  },
  "language_info": {
   "codemirror_mode": {
    "name": "ipython",
    "version": 3
   },
   "file_extension": ".py",
   "mimetype": "text/x-python",
   "name": "python",
   "nbconvert_exporter": "python",
   "pygments_lexer": "ipython3",
   "version": "3.9.15"
  }
 },
 "nbformat": 4,
 "nbformat_minor": 5
}
