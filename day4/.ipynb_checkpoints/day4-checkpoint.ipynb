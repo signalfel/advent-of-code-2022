{
 "cells": [
  {
   "cell_type": "code",
   "execution_count": null,
   "id": "d55ffff0-25e4-4b7a-8326-744c215fff4c",
   "metadata": {},
   "outputs": [],
   "source": [
    "name = 'input'\n",
    "\n",
    "with open(f'{name}.txt') as f:\n",
    "    x = f.read().split('\\n')"
   ]
  },
  {
   "cell_type": "code",
   "execution_count": null,
   "id": "8fdbd40b-9a9b-481d-a4b5-b935ec8729d3",
   "metadata": {},
   "outputs": [],
   "source": [
    "import pandas as pd"
   ]
  },
  {
   "cell_type": "code",
   "execution_count": null,
   "id": "b8fdfb09-7dba-41ca-8884-55442be044b5",
   "metadata": {},
   "outputs": [],
   "source": [
    "def get_sorted_intervals(line):\n",
    "    return sorted([pd.Interval(*[int(n) for n in interval.split('-')], closed='both') for interval in line.split(',')])"
   ]
  },
  {
   "cell_type": "markdown",
   "id": "83b9661e-94a8-4996-8264-4c1acd3f8ed1",
   "metadata": {},
   "source": [
    "## Part 1"
   ]
  },
  {
   "cell_type": "code",
   "execution_count": null,
   "id": "da5aa6b8-bae9-47ef-b386-dedd7e132913",
   "metadata": {},
   "outputs": [],
   "source": [
    "n_contains = 0\n",
    "for line in x:\n",
    "    int1,int2 = get_sorted_intervals(line)\n",
    "    if int1.overlaps(int2):\n",
    "        if int1.left == int2.left:\n",
    "            n_contains += 1\n",
    "        elif int1.right >= int2.right:\n",
    "            n_contains += 1\n",
    "print(n_contains)"
   ]
  },
  {
   "cell_type": "markdown",
   "id": "d5c7fd9d-c392-4c1b-8fd8-910c4597e90d",
   "metadata": {},
   "source": [
    "## Part 2"
   ]
  },
  {
   "cell_type": "code",
   "execution_count": null,
   "id": "c8047ce2-891f-48a2-8c3e-30eeaa609ebb",
   "metadata": {},
   "outputs": [],
   "source": [
    "n_overlaps = 0\n",
    "for line in x:\n",
    "    int1,int2 = get_sorted_intervals(line)\n",
    "    if int1.overlaps(int2):\n",
    "        n_overlaps += 1\n",
    "print(n_overlaps)"
   ]
  }
 ],
 "metadata": {
  "kernelspec": {
   "display_name": "Python 3 (ipykernel)",
   "language": "python",
   "name": "python3"
  },
  "language_info": {
   "codemirror_mode": {
    "name": "ipython",
    "version": 3
   },
   "file_extension": ".py",
   "mimetype": "text/x-python",
   "name": "python",
   "nbconvert_exporter": "python",
   "pygments_lexer": "ipython3",
   "version": "3.9.15"
  }
 },
 "nbformat": 4,
 "nbformat_minor": 5
}
