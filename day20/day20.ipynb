{
 "cells": [
  {
   "cell_type": "code",
   "execution_count": 1,
   "id": "d0b2a83b-eef7-4d89-9526-a584b36620b3",
   "metadata": {},
   "outputs": [],
   "source": [
    "import pandas as pd\n",
    "import numpy as np\n",
    "from IPython.core.debugger import set_trace"
   ]
  },
  {
   "cell_type": "code",
   "execution_count": 2,
   "id": "57ac3de5-52ec-4a08-b420-2b770d8ed902",
   "metadata": {},
   "outputs": [],
   "source": [
    "def get_input(name):\n",
    "    with open(f'{name}.txt') as f:\n",
    "        return [int(i) for i in f.read().split('\\n')]"
   ]
  },
  {
   "cell_type": "markdown",
   "id": "11ed4cf4-5a91-4c2e-9d5f-3ce743b14400",
   "metadata": {},
   "source": [
    "# Part 1"
   ]
  },
  {
   "cell_type": "markdown",
   "id": "43880d81-67b1-4088-8633-0dcbf8b53ef4",
   "metadata": {},
   "source": [
    "#### This does not work"
   ]
  },
  {
   "cell_type": "code",
   "execution_count": 234,
   "id": "ea9d5509-a500-4894-9848-4f9abe4aeb71",
   "metadata": {},
   "outputs": [
    {
     "data": {
      "text/plain": [
       "-18994"
      ]
     },
     "execution_count": 234,
     "metadata": {},
     "output_type": "execute_result"
    }
   ],
   "source": [
    "def move_by_index(df, index):\n",
    "    to_move = df.loc[index, 'value']\n",
    "    sgn = np.sign(to_move)\n",
    "    \n",
    "    current_row = df.index.get_loc(index) \n",
    "    df.loc[index, 'dummy'] = df.iloc[(current_row + to_move) % len(df), 1] + sgn*0.5\n",
    "    df.sort_values(by='dummy', inplace=True)\n",
    "    new_row = df.index.get_loc(index)\n",
    "    df['dummy'] = range(len(x))\n",
    "    \n",
    "    return df\n",
    "\n",
    "x = get_input('input')\n",
    "df = pd.DataFrame({'value': x, 'dummy': range(len(x))})\n",
    "\n",
    "for i in range(len(x)):\n",
    "    df = move_by_index(df, i)\n",
    "    \n",
    "zero_iloc = np.where(df.value == 0)[0][0]\n",
    "sum([df.iloc[(zero_row + c) % len(df)].value for c in [1000, 2000, 3000]])"
   ]
  },
  {
   "cell_type": "markdown",
   "id": "515ce0cf-28ff-4616-825e-ba99374ee1c3",
   "metadata": {},
   "source": [
    "### Solved with numpy"
   ]
  },
  {
   "cell_type": "code",
   "execution_count": 223,
   "id": "8222d01c-39c6-4982-a933-df045db0320d",
   "metadata": {},
   "outputs": [],
   "source": [
    "def mix_matrix(mat):\n",
    "    for i in range(len(mat)):\n",
    "        row_n = np.where(mat[:,0] == i)[0][0]\n",
    "        row = mat[row_n, :]\n",
    "\n",
    "        mat2 = np.delete(mat, row_n, 0)\n",
    "        mat2 = np.roll(mat2, -row[1], 0)\n",
    "        mat = np.insert(mat2, row_n, row, 0)\n",
    "    return mat"
   ]
  },
  {
   "cell_type": "code",
   "execution_count": 224,
   "id": "0e924d5f-fec5-4442-b6cf-45bfb1968e75",
   "metadata": {},
   "outputs": [],
   "source": [
    "x = get_input('input')\n",
    "mat = np.array(list( zip( range(len(x)), x)) )\n",
    "mat = mix_matrix(mat)"
   ]
  },
  {
   "cell_type": "code",
   "execution_count": 225,
   "id": "6e51f920-3350-473d-846a-22d55f4ebfe9",
   "metadata": {},
   "outputs": [
    {
     "data": {
      "text/plain": [
       "15297"
      ]
     },
     "execution_count": 225,
     "metadata": {},
     "output_type": "execute_result"
    }
   ],
   "source": [
    "zero_row = np.where(mat[:,1] == 0)[0][0]\n",
    "sum([mat[(zero_row + c) % len(mat), 1] for c in [1000, 2000, 3000]])"
   ]
  },
  {
   "cell_type": "markdown",
   "id": "8da1b972-8b6c-4653-89e3-07d71f31d160",
   "metadata": {},
   "source": [
    "# Part 2"
   ]
  },
  {
   "cell_type": "code",
   "execution_count": 232,
   "id": "d31026ac-e5c8-4495-a7d3-a36a1416bcf0",
   "metadata": {},
   "outputs": [],
   "source": [
    "x = get_input('input')\n",
    "decryption_key = 811589153\n",
    "x = [decryption_key*i for i in x]\n",
    "\n",
    "mat = np.array(list( zip( range(len(x)), x)) )\n",
    "for i in range(10):\n",
    "    mat = mix_matrix(mat)"
   ]
  },
  {
   "cell_type": "code",
   "execution_count": 233,
   "id": "cb8b6d19-af38-438c-aee0-5f954f1d5b3a",
   "metadata": {},
   "outputs": [
    {
     "data": {
      "text/plain": [
       "2897373276210"
      ]
     },
     "execution_count": 233,
     "metadata": {},
     "output_type": "execute_result"
    }
   ],
   "source": [
    "zero_row = np.where(mat[:,1] == 0)[0][0]\n",
    "sum([mat[(zero_row + c) % len(mat), 1] for c in [1000, 2000, 3000]])"
   ]
  }
 ],
 "metadata": {
  "kernelspec": {
   "display_name": "Python 3 (ipykernel)",
   "language": "python",
   "name": "python3"
  },
  "language_info": {
   "codemirror_mode": {
    "name": "ipython",
    "version": 3
   },
   "file_extension": ".py",
   "mimetype": "text/x-python",
   "name": "python",
   "nbconvert_exporter": "python",
   "pygments_lexer": "ipython3",
   "version": "3.9.15"
  }
 },
 "nbformat": 4,
 "nbformat_minor": 5
}
