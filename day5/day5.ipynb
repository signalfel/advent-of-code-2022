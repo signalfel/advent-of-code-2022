{
 "cells": [
  {
   "cell_type": "code",
   "execution_count": 109,
   "id": "cf360fb3-11de-49ae-a709-38bcfbba01e5",
   "metadata": {},
   "outputs": [],
   "source": [
    "name = 'start'\n",
    "with open(f'{name}.txt') as f:\n",
    "    start = f.read().split('\\n')\n",
    "\n",
    "name = 'movements'\n",
    "with open(f'{name}.txt') as f:\n",
    "    movements = f.read().split('\\n')\n",
    "    \n",
    "rows = start.pop().split('   ')\n",
    "stacks = {k.strip(' '):[] for k in rows}"
   ]
  },
  {
   "cell_type": "code",
   "execution_count": 110,
   "id": "b8bfbe72-1a32-4ba9-b49e-c5faaafd3001",
   "metadata": {},
   "outputs": [],
   "source": [
    "for line in reversed(start):\n",
    "    for istack,crate in enumerate(line.split(' ')):\n",
    "        crate_id = crate[1]\n",
    "        if crate_id != '0':\n",
    "            stacks[str(istack+1)].append(crate_id)"
   ]
  },
  {
   "cell_type": "code",
   "execution_count": 111,
   "id": "fb178611-50a3-41c1-823a-a15f78dfc1bd",
   "metadata": {},
   "outputs": [
    {
     "data": {
      "text/plain": [
       "{'1': ['S', 'T', 'H', 'F', 'W', 'R'],\n",
       " '2': ['S', 'G', 'D', 'Q', 'W'],\n",
       " '3': ['B', 'T', 'W'],\n",
       " '4': ['D', 'R', 'W', 'T', 'N', 'Q', 'Z', 'J'],\n",
       " '5': ['F', 'B', 'H', 'G', 'L', 'V', 'T', 'Z'],\n",
       " '6': ['L', 'P', 'T', 'C', 'V', 'B', 'S', 'G'],\n",
       " '7': ['Z', 'B', 'R', 'T', 'W', 'G', 'P'],\n",
       " '8': ['N', 'G', 'M', 'T', 'C', 'J', 'R'],\n",
       " '9': ['L', 'G', 'B', 'W']}"
      ]
     },
     "execution_count": 111,
     "metadata": {},
     "output_type": "execute_result"
    }
   ],
   "source": [
    "stacks"
   ]
  },
  {
   "cell_type": "code",
   "execution_count": 105,
   "id": "f0cd1e3e-0aae-4565-ae10-96a8ed40b57a",
   "metadata": {},
   "outputs": [],
   "source": [
    "def perform_movement_part_1(instruction):\n",
    "    _,amount,_,source,_,target = instruction.split(' ')\n",
    "    for i in range(int(amount)):\n",
    "        del mylist[:2]\n",
    "        del mylist[-2:]\n",
    "        \n",
    "        box = stacks[source].pop()\n",
    "        stacks[target].append(box)"
   ]
  },
  {
   "cell_type": "code",
   "execution_count": 112,
   "id": "39dcfa30-5de1-4f7f-b532-5f5a26959c00",
   "metadata": {},
   "outputs": [],
   "source": [
    "def perform_movement_part_2(instruction):\n",
    "    _,amount,_,source,_,target = instruction.split(' ')\n",
    "    boxes = stacks[source][-int(amount):]\n",
    "    del stacks[source][-int(amount):]\n",
    "    for b in boxes:\n",
    "        stacks[target].append(b)"
   ]
  },
  {
   "cell_type": "markdown",
   "id": "e0ffec95-0a6b-4d25-989c-cf9e64c57340",
   "metadata": {},
   "source": [
    "## Part 1"
   ]
  },
  {
   "cell_type": "code",
   "execution_count": 92,
   "id": "b6e96b5b-7dee-4a63-8835-6ba914eb5742",
   "metadata": {},
   "outputs": [
    {
     "name": "stdout",
     "output_type": "stream",
     "text": [
      "ZRLJGSCTR\n"
     ]
    }
   ],
   "source": [
    "for instruction in movements:\n",
    "    perform_movement_part_1(instruction)\n",
    "message = ''.join([stack[-1] for stack in stacks.values()])\n",
    "print(message)"
   ]
  },
  {
   "cell_type": "markdown",
   "id": "b02c9461-d1b4-4131-8f03-eecd51e6cb1e",
   "metadata": {},
   "source": [
    "## Part 2"
   ]
  },
  {
   "cell_type": "code",
   "execution_count": 113,
   "id": "ada10add-dcae-4db1-bbab-9819f8a72485",
   "metadata": {},
   "outputs": [
    {
     "name": "stdout",
     "output_type": "stream",
     "text": [
      "PRTTGRFPB\n"
     ]
    }
   ],
   "source": [
    "for instruction in movements:\n",
    "    perform_movement_part_2(instruction)\n",
    "message = ''.join([stack[-1] for stack in stacks.values()])\n",
    "print(message)"
   ]
  }
 ],
 "metadata": {
  "kernelspec": {
   "display_name": "Python 3 (ipykernel)",
   "language": "python",
   "name": "python3"
  },
  "language_info": {
   "codemirror_mode": {
    "name": "ipython",
    "version": 3
   },
   "file_extension": ".py",
   "mimetype": "text/x-python",
   "name": "python",
   "nbconvert_exporter": "python",
   "pygments_lexer": "ipython3",
   "version": "3.9.15"
  }
 },
 "nbformat": 4,
 "nbformat_minor": 5
}
