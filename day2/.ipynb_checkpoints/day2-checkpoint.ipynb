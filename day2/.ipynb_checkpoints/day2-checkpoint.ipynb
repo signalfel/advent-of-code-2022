{
 "cells": [
  {
   "cell_type": "code",
   "execution_count": 30,
   "id": "d55ffff0-25e4-4b7a-8326-744c215fff4c",
   "metadata": {},
   "outputs": [],
   "source": [
    "name = 'input'\n",
    "\n",
    "with open(f'{name}.txt') as f:\n",
    "    x = f.read().split('\\n')"
   ]
  },
  {
   "cell_type": "code",
   "execution_count": 32,
   "id": "29e8940b-a176-4e03-97f9-97d34a2341ba",
   "metadata": {},
   "outputs": [],
   "source": [
    "selection_score = {'rock' : 1, 'paper': 2, 'scissors': 3}\n",
    "opp_map = {'A': 'rock', 'B': 'paper', 'C': 'scissors'}\n",
    "\n",
    "def play_round(yc, oc):    \n",
    "    ss = selection_score[yc]\n",
    "    \n",
    "    if oc == yc:\n",
    "        return ss + 3\n",
    "     \n",
    "    if yc == 'rock':\n",
    "        if oc == 'paper':\n",
    "            return 0 + ss\n",
    "        if oc == 'scissors':\n",
    "            return 6 + ss\n",
    "    \n",
    "    if yc == 'paper':\n",
    "        if oc == 'rock':\n",
    "            return 6 + ss\n",
    "        if oc == 'scissors':\n",
    "            return 0 + ss\n",
    "        \n",
    "    if yc == 'scissors':\n",
    "        if oc == 'rock':\n",
    "            return 0 + ss\n",
    "        if oc == 'paper':\n",
    "            return 6 + ss"
   ]
  },
  {
   "cell_type": "markdown",
   "id": "83b9661e-94a8-4996-8264-4c1acd3f8ed1",
   "metadata": {},
   "source": [
    "## Part 1"
   ]
  },
  {
   "cell_type": "code",
   "execution_count": 33,
   "id": "0eed9749-8bd4-415d-b3d0-944bc257b85e",
   "metadata": {},
   "outputs": [
    {
     "name": "stdout",
     "output_type": "stream",
     "text": [
      "10718\n"
     ]
    }
   ],
   "source": [
    "your_map = {'X': 'rock', 'Y': 'paper', 'Z': 'scissors'}\n",
    "\n",
    "total_score = 0\n",
    "for game in x:\n",
    "    yc = your_map[game[2]]\n",
    "    oc = opp_map[game[0]]\n",
    "    \n",
    "    s = play_round(yc, oc)\n",
    "    total_score += s\n",
    "print(total_score)"
   ]
  },
  {
   "cell_type": "markdown",
   "id": "d5c7fd9d-c392-4c1b-8fd8-910c4597e90d",
   "metadata": {},
   "source": [
    "## Part 2"
   ]
  },
  {
   "cell_type": "code",
   "execution_count": 34,
   "id": "c1e64a56-c80f-41c4-a9fe-3ed81a5e9827",
   "metadata": {},
   "outputs": [
    {
     "name": "stdout",
     "output_type": "stream",
     "text": [
      "14652\n"
     ]
    }
   ],
   "source": [
    "strategy_map = {'Z': {'rock': 'paper',    'paper': 'scissors', 'scissors': 'rock'}, # win\n",
    "                'Y': {'rock': 'rock',     'paper': 'paper',    'scissors': 'scissors'}, # draw\n",
    "                'X': {'rock': 'scissors', 'paper': 'rock',     'scissors': 'paper'}} # lose\n",
    "                \n",
    "total_score = 0\n",
    "for game in x:\n",
    "    oc = opp_map[game[0]]\n",
    "    yc = strategy_map[game[2]][oc]\n",
    "    \n",
    "    s = play_round(yc, oc)\n",
    "    total_score += s\n",
    "print(total_score)"
   ]
  }
 ],
 "metadata": {
  "kernelspec": {
   "display_name": "Python 3 (ipykernel)",
   "language": "python",
   "name": "python3"
  },
  "language_info": {
   "codemirror_mode": {
    "name": "ipython",
    "version": 3
   },
   "file_extension": ".py",
   "mimetype": "text/x-python",
   "name": "python",
   "nbconvert_exporter": "python",
   "pygments_lexer": "ipython3",
   "version": "3.9.15"
  }
 },
 "nbformat": 4,
 "nbformat_minor": 5
}
