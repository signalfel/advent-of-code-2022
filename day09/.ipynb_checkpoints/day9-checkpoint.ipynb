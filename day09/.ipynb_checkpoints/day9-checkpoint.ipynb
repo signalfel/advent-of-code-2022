{
 "cells": [
  {
   "cell_type": "code",
   "execution_count": 720,
   "id": "a0f39c9d-d28e-40ce-aae3-b012d29113ad",
   "metadata": {},
   "outputs": [],
   "source": [
    "import numpy as np\n",
    "pt = np.array"
   ]
  },
  {
   "cell_type": "code",
   "execution_count": 934,
   "id": "cf360fb3-11de-49ae-a709-38bcfbba01e5",
   "metadata": {},
   "outputs": [],
   "source": [
    "name = 'input'\n",
    "\n",
    "with open(f'{name}.txt') as f:\n",
    "    x = f.read().split('\\n')"
   ]
  },
  {
   "cell_type": "code",
   "execution_count": 935,
   "id": "98181a04-5d22-46c8-855d-573325d2603d",
   "metadata": {},
   "outputs": [],
   "source": [
    "class knot:\n",
    "    def __init__(self, start):\n",
    "        self.loc = start\n",
    "        self.visited = set([tuple(start)])\n",
    "        \n",
    "    def __repr__(self):\n",
    "        return f'{len(self.visited)}'"
   ]
  },
  {
   "cell_type": "code",
   "execution_count": 936,
   "id": "bf6454d6-790f-47ee-9bc2-e1df7fda23fe",
   "metadata": {},
   "outputs": [],
   "source": [
    "direction_map = {'R': pt([1, 0]),\n",
    "                 'L': pt([-1, 0]),\n",
    "                 'U': pt([0, -1]),\n",
    "                 'D': pt([0, 1])}\n",
    "\n",
    "def move_head(head, tail, instr):\n",
    "    direction, steps = instr.split(' ')\n",
    "    vector = direction_map[direction]\n",
    "    for step in range(int(steps)):\n",
    "        head.loc += vector\n",
    "        tail = move_tail(head, tail)\n",
    "    \n",
    "    return head, tail\n",
    "\n",
    "def move_tail(head, tail):\n",
    "\n",
    "    diff = head.loc - tail.loc\n",
    "    if max(abs(diff)) > 1:\n",
    "        tail.loc += np.sign(diff)\n",
    "        \n",
    "    tail.visited.add(tuple(tail.loc))\n",
    "    return tail"
   ]
  },
  {
   "cell_type": "markdown",
   "id": "e0ffec95-0a6b-4d25-989c-cf9e64c57340",
   "metadata": {
    "tags": []
   },
   "source": [
    "## Part 1"
   ]
  },
  {
   "cell_type": "code",
   "execution_count": 937,
   "id": "3b57cd63-e3f6-4e55-aa9c-b03c0832b285",
   "metadata": {
    "tags": []
   },
   "outputs": [
    {
     "data": {
      "text/plain": [
       "5981"
      ]
     },
     "execution_count": 937,
     "metadata": {},
     "output_type": "execute_result"
    }
   ],
   "source": [
    "head = knot(pt([0,0]))\n",
    "tail = knot(pt([0,0]))\n",
    "\n",
    "for instr in x:\n",
    "    head, tail = move_head(head, tail, instr)\n",
    "    \n",
    "len(tail.visited)"
   ]
  },
  {
   "cell_type": "markdown",
   "id": "b02c9461-d1b4-4131-8f03-eecd51e6cb1e",
   "metadata": {},
   "source": [
    "## Part 2"
   ]
  },
  {
   "cell_type": "code",
   "execution_count": 938,
   "id": "fc3d0d0d-1d97-414d-a7f9-9f5da731af59",
   "metadata": {},
   "outputs": [],
   "source": [
    "def move_rope(rope, instr):\n",
    "    direction, steps = instr.split(' ')\n",
    "    vector = direction_map[direction]\n",
    "    for step in range(int(steps)):\n",
    "        rope[0].loc += vector\n",
    "        \n",
    "        for iknot in range( len(rope)-1 ):\n",
    "            rope[iknot+1] = move_tail(rope[iknot], rope[iknot+1])\n",
    "            \n",
    "    return rope"
   ]
  },
  {
   "cell_type": "code",
   "execution_count": 939,
   "id": "112b4a89-2e67-4bc9-b618-9607c07fee05",
   "metadata": {
    "tags": []
   },
   "outputs": [],
   "source": [
    "rope = [knot(pt([0,0])) for i in range(10)]\n",
    "\n",
    "for instr in x:\n",
    "    rope = move_rope(rope, instr)"
   ]
  },
  {
   "cell_type": "code",
   "execution_count": 942,
   "id": "2afd1340-3bc6-4ad6-8007-6ddf5e634dc4",
   "metadata": {},
   "outputs": [
    {
     "name": "stdout",
     "output_type": "stream",
     "text": [
      "2352\n"
     ]
    }
   ],
   "source": [
    "print(len(rope[-1].visited))"
   ]
  },
  {
   "cell_type": "code",
   "execution_count": 943,
   "id": "b2fe935c-72e5-4bd3-bd82-83997f26e33a",
   "metadata": {},
   "outputs": [
    {
     "data": {
      "text/plain": [
       "[1, 5981, 5245, 4620, 4060, 3573, 3174, 2871, 2597, 2352]"
      ]
     },
     "execution_count": 943,
     "metadata": {},
     "output_type": "execute_result"
    }
   ],
   "source": [
    "rope"
   ]
  },
  {
   "cell_type": "code",
   "execution_count": 932,
   "id": "a9be80a9-3cf4-4a24-910a-9108da380134",
   "metadata": {},
   "outputs": [],
   "source": [
    "M, N = 0, 0\n",
    "for v in rope[-1].visited:\n",
    "    if v[0] >= M:\n",
    "        M = int(v[0])\n",
    "    if v[1] >= N:\n",
    "        N = int(v[1])\n",
    "        \n",
    "stt = [''.join(['# ' if (m,n) in rope[-1].visited else '. ' for n in range(-N-1,N+1)]) for m in range(-M-1, M+1)]"
   ]
  },
  {
   "cell_type": "code",
   "execution_count": 933,
   "id": "a9267f83-1539-4292-b9d1-c49641515dc8",
   "metadata": {
    "tags": []
   },
   "outputs": [
    {
     "name": "stdout",
     "output_type": "stream",
     "text": [
      "# # # . . . . . . . . . \n",
      ". . . # . . . . . . . . \n",
      ". . . . # . . . . . . . \n",
      ". . . . . # . . . . . . \n",
      ". . . . . . # . . . . . \n",
      ". . . . . . . # . . . . \n",
      ". . . . . . . . # . . . \n",
      ". . . . . . . . . # . . \n",
      ". . . . . . . . . . # . \n",
      ". . . . . . . . . . . # \n",
      ". . . . . . . . . . . # \n",
      ". . . . . . # . . . . # \n",
      ". . . # . # . . . . . # \n",
      ". . # . # . . . . . . # \n",
      ". # . . . . . . . . . # \n",
      ". # . . . . . . . . . # \n",
      ". # . . . . . . . . . # \n",
      ". . # . . . . . . . # . \n",
      ". . . # . . . . . # . . \n",
      ". . . . # . . . # . . . \n",
      ". . . . . # . # . . . . \n",
      ". . . . . . # . . . . . \n"
     ]
    }
   ],
   "source": [
    "print('\\n'.join(stt))"
   ]
  }
 ],
 "metadata": {
  "kernelspec": {
   "display_name": "Python 3 (ipykernel)",
   "language": "python",
   "name": "python3"
  },
  "language_info": {
   "codemirror_mode": {
    "name": "ipython",
    "version": 3
   },
   "file_extension": ".py",
   "mimetype": "text/x-python",
   "name": "python",
   "nbconvert_exporter": "python",
   "pygments_lexer": "ipython3",
   "version": "3.9.15"
  }
 },
 "nbformat": 4,
 "nbformat_minor": 5
}
