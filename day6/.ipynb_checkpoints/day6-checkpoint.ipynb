{
 "cells": [
  {
   "cell_type": "code",
   "execution_count": 1,
   "id": "cf360fb3-11de-49ae-a709-38bcfbba01e5",
   "metadata": {},
   "outputs": [],
   "source": [
    "name = 'input'\n",
    "\n",
    "with open(f'{name}.txt') as f:\n",
    "    x = f.read().split('\\n')[0]"
   ]
  },
  {
   "cell_type": "code",
   "execution_count": 2,
   "id": "9ce47e4c-4ddb-4658-918b-01e110664de7",
   "metadata": {},
   "outputs": [],
   "source": [
    "def get_index_of_substring(string, length):\n",
    "    for i in range(len(string)-(length - 1)):\n",
    "        substr = string[i:i+length]\n",
    "        if len(set(substr)) == length:\n",
    "            return i + length"
   ]
  },
  {
   "cell_type": "markdown",
   "id": "e0ffec95-0a6b-4d25-989c-cf9e64c57340",
   "metadata": {},
   "source": [
    "## Part 1"
   ]
  },
  {
   "cell_type": "code",
   "execution_count": 3,
   "id": "b6e96b5b-7dee-4a63-8835-6ba914eb5742",
   "metadata": {},
   "outputs": [
    {
     "data": {
      "text/plain": [
       "1300"
      ]
     },
     "execution_count": 3,
     "metadata": {},
     "output_type": "execute_result"
    }
   ],
   "source": [
    "get_index_of_substring(x, 4)"
   ]
  },
  {
   "cell_type": "markdown",
   "id": "b02c9461-d1b4-4131-8f03-eecd51e6cb1e",
   "metadata": {},
   "source": [
    "## Part 2"
   ]
  },
  {
   "cell_type": "code",
   "execution_count": 4,
   "id": "ada10add-dcae-4db1-bbab-9819f8a72485",
   "metadata": {},
   "outputs": [
    {
     "data": {
      "text/plain": [
       "3986"
      ]
     },
     "execution_count": 4,
     "metadata": {},
     "output_type": "execute_result"
    }
   ],
   "source": [
    "get_index_of_substring(x, 14)"
   ]
  }
 ],
 "metadata": {
  "kernelspec": {
   "display_name": "Python 3 (ipykernel)",
   "language": "python",
   "name": "python3"
  },
  "language_info": {
   "codemirror_mode": {
    "name": "ipython",
    "version": 3
   },
   "file_extension": ".py",
   "mimetype": "text/x-python",
   "name": "python",
   "nbconvert_exporter": "python",
   "pygments_lexer": "ipython3",
   "version": "3.9.15"
  }
 },
 "nbformat": 4,
 "nbformat_minor": 5
}
