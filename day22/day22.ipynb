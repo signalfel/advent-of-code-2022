{
 "cells": [
  {
   "cell_type": "code",
   "execution_count": 1,
   "id": "57ac3de5-52ec-4a08-b420-2b770d8ed902",
   "metadata": {},
   "outputs": [],
   "source": [
    "def get_input(name):\n",
    "    with open(f'{name}.txt') as f:\n",
    "        return f.read().split('\\n')"
   ]
  },
  {
   "cell_type": "markdown",
   "id": "11ed4cf4-5a91-4c2e-9d5f-3ce743b14400",
   "metadata": {},
   "source": [
    "# Part 1"
   ]
  },
  {
   "cell_type": "code",
   "execution_count": 2,
   "id": "f8df56a2-ba0a-4be8-9827-064afbaf6373",
   "metadata": {},
   "outputs": [],
   "source": [
    "def trajectory_to_actions(trajectory):\n",
    "    ''' split the string of movements into a list of tiles to move as int and a rotation as string\n",
    "        e.g. 10R5L2 -> [10, 'R', 5, 'L', 2] '''\n",
    "    actions = []\n",
    "    last = []\n",
    "    for c in trajectory:\n",
    "        try:\n",
    "            int(c)\n",
    "            last.append(c)\n",
    "        except ValueError:\n",
    "            actions.append(int(''.join(last)))\n",
    "            last = []\n",
    "            actions.append(c)\n",
    "    actions.append(int(''.join(last)))\n",
    "    return actions\n",
    "\n",
    "def get_nodes(field_list, n):\n",
    "    ''' from a list of lists that is the read data, this creates a dict of the nodes that are present. '''\n",
    "    nodes = dict()\n",
    "    for imag in range(M):\n",
    "        for real in range(N):\n",
    "            c = field_list[imag][real]\n",
    "            if c == '.':\n",
    "                nodes[complex(real, imag)] = ['open', (imag // n, real // n)]\n",
    "            elif c == '#':\n",
    "                nodes[complex(real, imag)] = ['solid', (imag // n, real // n)]\n",
    "    return nodes"
   ]
  },
  {
   "cell_type": "code",
   "execution_count": 3,
   "id": "1f9541c5-28ed-478f-804b-be2b5e150c7e",
   "metadata": {},
   "outputs": [],
   "source": [
    "rotations = {'R': {'n': 'e', 'e': 's', 's': 'w', 'w': 'n'},\n",
    "             'L': {'n': 'w', 'w': 's', 's': 'e', 'e': 'n'}}\n",
    "facings = {'n': complex(0, -1), 's': complex(0, 1), 'w': complex(-1, 0), 'e': complex(1, 0)}\n",
    "\n",
    "class myself:\n",
    "    def __init__(self, start_location, start_facing, nodes):\n",
    "        self.state = dict()\n",
    "        self.location = start_location\n",
    "        self.facing = start_facing\n",
    "        \n",
    "        self.nodes = nodes\n",
    "    \n",
    "    def perform_action(self, action):\n",
    "        if isinstance(action, int):\n",
    "            self.move(action)\n",
    "        else:\n",
    "            self.rotate(action)\n",
    "    \n",
    "    def move(self, steps):\n",
    "        for _ in range(steps):\n",
    "            to_move = self.location + facings[self.facing]\n",
    "            new_facing = self.facing\n",
    "            \n",
    "            if not to_move in self.nodes:\n",
    "                to_move, new_facing = wrap_around(self.location, self.facing, self.nodes)\n",
    "                \n",
    "            if nodes[to_move][0] == 'solid':\n",
    "                pass\n",
    "            \n",
    "            else:\n",
    "                self.location = to_move\n",
    "                self.facing = new_facing\n",
    "            \n",
    "    def rotate(self, direction):\n",
    "        self.facing = rotations[direction][self.facing]\n",
    "        \n",
    "    def __repr__(self):\n",
    "        return f'loc: {self.location}, facing: {self.facing}'"
   ]
  },
  {
   "cell_type": "code",
   "execution_count": 4,
   "id": "f4186a25-fa3b-4c59-8958-b7a16fbae305",
   "metadata": {},
   "outputs": [],
   "source": [
    "options = {'n': [max, 'real'], \n",
    "           's': [min, 'real'],\n",
    "           'w': [max, 'imag'],\n",
    "           'e': [min, 'imag']}\n",
    "other_attr = {'real': 'imag',\n",
    "              'imag': 'real'}\n",
    "\n",
    "def wrap_around(node, facing, nodes):\n",
    "    func, attr = options[facing]\n",
    "    same_row_or_col = [c for c in nodes.keys() if getattr(c, attr) == getattr(node, attr)] \n",
    "    return func(same_row_or_col, key = lambda c: getattr(c, other_attr[attr])), facing"
   ]
  },
  {
   "cell_type": "code",
   "execution_count": 5,
   "id": "b2e2effd-00a7-49a5-b260-e7f4091c7587",
   "metadata": {},
   "outputs": [],
   "source": [
    "x = get_input('test')\n",
    "trajectory = x[-1]\n",
    "field_list = [list(row)+[' ']*(len(max(x, key=len))- len(row)) for row in x[:-2]]\n",
    "M, N = len(field_list), len(field_list[0])"
   ]
  },
  {
   "cell_type": "code",
   "execution_count": 6,
   "id": "1a04a092-c218-4777-89f1-629b8271b038",
   "metadata": {},
   "outputs": [],
   "source": [
    "actions = trajectory_to_actions(trajectory)\n",
    "nodes = get_nodes(field_list, 4)\n",
    "\n",
    "top_row = min(nodes.keys(), key=lambda c: c.imag).imag\n",
    "start_node = min([c for c in nodes if c.imag == top_row], key=lambda c: c.real)\n",
    "start_facing = 'e'"
   ]
  },
  {
   "cell_type": "code",
   "execution_count": 7,
   "id": "abdd709d-614b-4376-8bce-622fcf378e5a",
   "metadata": {},
   "outputs": [
    {
     "name": "stdout",
     "output_type": "stream",
     "text": [
      "6032.0\n"
     ]
    }
   ],
   "source": [
    "me = myself(start_node, start_facing, nodes)\n",
    "\n",
    "for action in actions:\n",
    "    me.perform_action(action)\n",
    "\n",
    "facing_map = {'e': 0, 's': 1, 'w': 2, 'n': 3}\n",
    "print( 1000*(me.location.imag+1) + 4*(me.location.real + 1) + facing_map[me.facing])"
   ]
  },
  {
   "cell_type": "markdown",
   "id": "0e2a278d-8a22-49dd-ac7a-3e813aa7a7f9",
   "metadata": {},
   "source": [
    "# Part 2\n",
    "\n"
   ]
  },
  {
   "cell_type": "code",
   "execution_count": 13,
   "id": "fe8d9078-d2cc-410a-b23b-700b22a80039",
   "metadata": {},
   "outputs": [],
   "source": [
    "test_cube = {\n",
    "    (0, 2): {\n",
    "        'n': [(1,0), 'n', 'odd'],\n",
    "        'e': [(2,3), 'e', 'odd'],\n",
    "        's': [(1,2), 'n', 'even'],\n",
    "        'w': [(1,1), 'n', 'even'],\n",
    "    },\n",
    "    (1, 0): {\n",
    "        'n': [(0,2), 'n', 'odd'],\n",
    "        'e': [(1,1), 'w', 'even'],\n",
    "        's': [(2,2), 's', 'odd'],\n",
    "        'w': [(2,3), 's', 'odd'],\n",
    "    },\n",
    "    (1, 1): {\n",
    "        'n': [(0,2), 'w', 'even'],\n",
    "        'e': [(1,2), 'w', 'even'],\n",
    "        's': [(2,2), 'w', 'odd'],\n",
    "        'w': [(1,0), 'e', 'even'],\n",
    "    },\n",
    "    (1, 2): {\n",
    "        'n': [(0,2), 's', 'even'],\n",
    "        'e': [(2,3), 'n', 'odd'],\n",
    "        's': [(2,2), 'n', 'even'],\n",
    "        'w': [(1,1), 'e', 'even'],\n",
    "    },\n",
    "    (2, 2): {\n",
    "        'n': [(1,2), 's', 'even'],\n",
    "        'e': [(2,3), 'w', 'even'],\n",
    "        's': [(1,0), 's', 'odd'],\n",
    "        'w': [(1,1), 's', 'odd'],\n",
    "    },\n",
    "    (2, 3): {\n",
    "        'n': [(1,2), 'e', 'odd'],\n",
    "        'e': [(0,2), 'e', 'odd'],\n",
    "        's': [(1,0), 'w', 'odd'],\n",
    "        'w': [(2,2), 'e', 'even'],\n",
    "    },\n",
    "}\n",
    "\n",
    "input_cube = {\n",
    "    (0, 1): {\n",
    "        'n': [(3,0), 'w', 'even'],\n",
    "        'w': [(2,0), 'w', 'odd'],\n",
    "    },\n",
    "    (0, 2): {\n",
    "        'n': [(3,0), 's', 'even'],\n",
    "        'e': [(2,1), 'e', 'odd'],\n",
    "        's': [(1,1), 'e', 'even'],\n",
    "    },\n",
    "    (1, 1): {\n",
    "        'e': [(0,2), 's', 'even'],\n",
    "        'w': [(2,0), 'n', 'even'],\n",
    "    },\n",
    "    (2, 0): {\n",
    "        'n': [(1,1), 'w', 'even'],\n",
    "        'w': [(0,1), 'w', 'odd'],\n",
    "    },\n",
    "    (2, 1): {\n",
    "        'e': [(0,2), 'e', 'odd'],\n",
    "        's': [(3,0), 'e', 'even'],\n",
    "    },\n",
    "    (3, 0): {\n",
    "        'w': [(0,1), 'n', 'even'],\n",
    "        'e': [(2,1), 's', 'even'],\n",
    "        's': [(0,2), 'n', 'even'],\n",
    "    },\n",
    "}\n",
    "\n",
    "options = {'n': [min, 'imag'],\n",
    "           'e': [max, 'real'],\n",
    "           's': [max, 'imag'],\n",
    "           'w': [min, 'real']}\n",
    "\n",
    "other_attr = {'real': 'imag',\n",
    "              'imag': 'real'}\n",
    "\n",
    "new_facings = {'n': 's',\n",
    "               'e': 'w',\n",
    "               's': 'n',\n",
    "               'w': 'e'}\n",
    "\n",
    "def get_tiles(nodes):\n",
    "    tiles = dict()\n",
    "    for node,info in nodes.items():\n",
    "        if info[1] not in tiles:\n",
    "            tiles[info[1]] = [node]\n",
    "        else:\n",
    "            tiles[info[1]].append(node)\n",
    "    return tiles\n",
    "\n",
    "\n",
    "def get_sorted_edge(tile, edge):\n",
    "    func, attr = options[edge]\n",
    "    tile_nodes = tiles[tile]\n",
    "    desired_attr = getattr(func(tile_nodes, key=lambda c: getattr(c, attr)), attr)\n",
    "    return sorted([t for t in tile_nodes if getattr(t, attr) == desired_attr], key=lambda c: getattr(c, other_attr[attr]))\n",
    "    \n",
    "        \n",
    "def wrap_around(node, facing, nodes):\n",
    "    this_tile = nodes[node][1]\n",
    "    index = get_sorted_edge(this_tile, facing).index(node)\n",
    "    \n",
    "    \n",
    "    other_tile, other_edge, parity = input_cube[this_tile][facing]\n",
    "    candidate_tiles = get_sorted_edge(other_tile, other_edge)\n",
    "    \n",
    "    new_facing = new_facings[other_edge]\n",
    "    if parity == 'even':\n",
    "        return candidate_tiles[index], new_facing\n",
    "    else:\n",
    "        return candidate_tiles[::-1][index], new_facing\n",
    "    "
   ]
  },
  {
   "cell_type": "code",
   "execution_count": 15,
   "id": "1c39dbdf-7487-41e6-b014-9a313bc93442",
   "metadata": {},
   "outputs": [],
   "source": [
    "x = get_input('input')\n",
    "trajectory = x[-1]\n",
    "field_list = [list(row)+[' ']*(len(max(x, key=len))- len(row)) for row in x[:-2]]\n",
    "M, N = len(field_list), len(field_list[0])"
   ]
  },
  {
   "cell_type": "code",
   "execution_count": 16,
   "id": "8169cb7a-a293-480c-861f-d34ad60ee374",
   "metadata": {},
   "outputs": [],
   "source": [
    "actions = trajectory_to_actions(trajectory)\n",
    "nodes = get_nodes(field_list, 50)\n",
    "tiles = get_tiles(nodes)\n",
    "\n",
    "top_row = min(nodes.keys(), key=lambda c: c.imag).imag\n",
    "start_node = min([c for c in nodes if c.imag == top_row], key=lambda c: c.real)\n",
    "start_facing = 'e'"
   ]
  },
  {
   "cell_type": "code",
   "execution_count": 17,
   "id": "3ce8c07a-ac9e-4a23-a2bf-cb753dd95b84",
   "metadata": {},
   "outputs": [
    {
     "name": "stdout",
     "output_type": "stream",
     "text": [
      "19534.0\n"
     ]
    }
   ],
   "source": [
    "me = myself(start_node, start_facing, nodes)\n",
    "\n",
    "for action in actions:\n",
    "    me.perform_action(action)\n",
    "\n",
    "facing_map = {'e': 0, 's': 1, 'w': 2, 'n': 3}\n",
    "print( 1000*(me.location.imag+1) + 4*(me.location.real + 1) + facing_map[me.facing])"
   ]
  }
 ],
 "metadata": {
  "kernelspec": {
   "display_name": "Python 3 (ipykernel)",
   "language": "python",
   "name": "python3"
  },
  "language_info": {
   "codemirror_mode": {
    "name": "ipython",
    "version": 3
   },
   "file_extension": ".py",
   "mimetype": "text/x-python",
   "name": "python",
   "nbconvert_exporter": "python",
   "pygments_lexer": "ipython3",
   "version": "3.9.15"
  }
 },
 "nbformat": 4,
 "nbformat_minor": 5
}
