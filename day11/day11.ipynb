{
 "cells": [
  {
   "cell_type": "code",
   "execution_count": 4,
   "id": "3473dfb5-0d11-47c7-9c50-cf55e9d51f70",
   "metadata": {},
   "outputs": [],
   "source": [
    "import re"
   ]
  },
  {
   "cell_type": "code",
   "execution_count": 119,
   "id": "cf360fb3-11de-49ae-a709-38bcfbba01e5",
   "metadata": {},
   "outputs": [],
   "source": [
    "name = 'input'\n",
    "\n",
    "with open(f'{name}.txt') as f:\n",
    "    x = f.read().split('\\n\\n')"
   ]
  },
  {
   "cell_type": "code",
   "execution_count": 138,
   "id": "a53b5cbe-c136-42f0-8e6f-adaa4897e2dd",
   "metadata": {},
   "outputs": [],
   "source": [
    "class Monkey():\n",
    "    def __init__(self, starting_items, operation, test_number):\n",
    "        self.items = starting_items\n",
    "        self.operation = operation\n",
    "        self.test_number = test_number\n",
    "        self.inspected = 0\n",
    "        self.test_product = None\n",
    "        \n",
    "    def assign_recipients(self, true_monkey, false_monkey):\n",
    "        self.true_monkey = true_monkey\n",
    "        self.false_monkey = false_monkey\n",
    "\n",
    "    def update_worry(self, worry, problem_part):\n",
    "        if problem_part == 1:\n",
    "            return int(worry // 3)\n",
    "        elif problem_part == 2:\n",
    "             return int(worry % self.test_product)\n",
    "        else:\n",
    "            raise ValueError('Invalid problem part.')\n",
    "    \n",
    "    def inspect(self, problem_part):\n",
    "        \n",
    "        ldict = {'old': self.items.pop(0)}\n",
    "        exec(self.operation, globals(), ldict)\n",
    "        worry = ldict['new']\n",
    "        \n",
    "        worry = self.update_worry(worry, problem_part)\n",
    "        if (worry % self.test_number) == 0:\n",
    "            self.true_monkey.items.append(worry)\n",
    "        else:\n",
    "            self.false_monkey.items.append(worry)  \n",
    "            \n",
    "            \n",
    "    def play_round(self, problem_part):\n",
    "        while self.items:\n",
    "            self.inspected += 1\n",
    "            self.inspect(problem_part)\n",
    "            \n",
    "    def __repr__(self):\n",
    "        return f'{self.inspected}'\n",
    "    \n",
    "def initialize_monkeys(monkey_setup):\n",
    "    monkeys = []\n",
    "    test_product = 1\n",
    "    for m in monkey_setup:\n",
    "        starting_items = [int(i) for i in re.findall('Starting items: (.*)\\n', m)[0].split(',')]\n",
    "        operation = re.findall('Operation: (.*)\\n', m)[0]\n",
    "        test_number = int(re.findall('Test: divisible by (.*)\\n', m)[0])\n",
    "        monkeys.append( Monkey(starting_items, operation, test_number) )\n",
    "        test_product *= test_number\n",
    "\n",
    "    for m,monkey in zip(monkey_setup, monkeys):\n",
    "        true_monkey = int(re.findall('If true: throw to monkey (.*)\\n', m)[0])\n",
    "        false_monkey = int(re.findall('If false: throw to monkey (.*)', m)[0])\n",
    "\n",
    "        monkey.assign_recipients(monkeys[true_monkey], monkeys[false_monkey])\n",
    "        monkey.test_product = test_product\n",
    "    \n",
    "    return monkeys"
   ]
  },
  {
   "cell_type": "markdown",
   "id": "e0ffec95-0a6b-4d25-989c-cf9e64c57340",
   "metadata": {
    "tags": []
   },
   "source": [
    "## Part 1"
   ]
  },
  {
   "cell_type": "code",
   "execution_count": 139,
   "id": "be870d26-c575-46e6-a5a7-6023b392d271",
   "metadata": {},
   "outputs": [],
   "source": [
    "monkeys = initialize_monkeys(x)\n",
    "\n",
    "for iround in range(20):\n",
    "    for monkey in monkeys:\n",
    "        monkey.play_round(problem_part=1)"
   ]
  },
  {
   "cell_type": "code",
   "execution_count": 140,
   "id": "f13e3c0e-4bfa-4c42-9d16-788a307e51b9",
   "metadata": {},
   "outputs": [
    {
     "name": "stdout",
     "output_type": "stream",
     "text": [
      "69918\n"
     ]
    }
   ],
   "source": [
    "inspects = sorted([m.inspected for m in monkeys])\n",
    "print(inspects[-2]*inspects[-1])"
   ]
  },
  {
   "cell_type": "markdown",
   "id": "b02c9461-d1b4-4131-8f03-eecd51e6cb1e",
   "metadata": {},
   "source": [
    "## Part 2"
   ]
  },
  {
   "cell_type": "code",
   "execution_count": 141,
   "id": "cc31de57-6c6d-4d40-920e-2dd19a9c978b",
   "metadata": {},
   "outputs": [],
   "source": [
    "monkeys = initialize_monkeys(x)\n",
    "\n",
    "for iround in range(10000):\n",
    "    for monkey in monkeys:\n",
    "        monkey.play_round(problem_part=2)"
   ]
  },
  {
   "cell_type": "code",
   "execution_count": 142,
   "id": "c464628a-9815-43c4-8b0a-9f5d6365aebb",
   "metadata": {},
   "outputs": [
    {
     "name": "stdout",
     "output_type": "stream",
     "text": [
      "19573408701\n"
     ]
    }
   ],
   "source": [
    "inspects = sorted([m.inspected for m in monkeys])\n",
    "print(inspects[-2]*inspects[-1])"
   ]
  }
 ],
 "metadata": {
  "kernelspec": {
   "display_name": "Python 3 (ipykernel)",
   "language": "python",
   "name": "python3"
  },
  "language_info": {
   "codemirror_mode": {
    "name": "ipython",
    "version": 3
   },
   "file_extension": ".py",
   "mimetype": "text/x-python",
   "name": "python",
   "nbconvert_exporter": "python",
   "pygments_lexer": "ipython3",
   "version": "3.9.15"
  }
 },
 "nbformat": 4,
 "nbformat_minor": 5
}
