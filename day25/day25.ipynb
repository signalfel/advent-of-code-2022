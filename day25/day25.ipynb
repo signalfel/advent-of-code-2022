{
 "cells": [
  {
   "cell_type": "code",
   "execution_count": 1,
   "id": "57ac3de5-52ec-4a08-b420-2b770d8ed902",
   "metadata": {},
   "outputs": [],
   "source": [
    "def get_input(name):\n",
    "    with open(f'{name}.txt') as f:\n",
    "        return f.read().split('\\n')"
   ]
  },
  {
   "cell_type": "markdown",
   "id": "11ed4cf4-5a91-4c2e-9d5f-3ce743b14400",
   "metadata": {},
   "source": [
    "# Part 1"
   ]
  },
  {
   "cell_type": "code",
   "execution_count": null,
   "id": "179682e9-42df-4f72-a47e-ea39f8e6aa9f",
   "metadata": {},
   "outputs": [],
   "source": [
    "snafumap = {'=': -2, '-': -1, '0': 0, '1': 1, '2': 2}\n",
    "def snafu_to_dec(n):\n",
    "    dec_n = 0\n",
    "    digits = [snafumap[d] for d in n]\n",
    "    for i,digit in enumerate(reversed(digits)):\n",
    "        dec_n += digit*5**i\n",
    "    return dec_n"
   ]
  },
  {
   "cell_type": "code",
   "execution_count": 102,
   "id": "8d6f4f6d-d5f0-45d3-94d1-647b5a4e32eb",
   "metadata": {},
   "outputs": [],
   "source": [
    "def dec_to_five(n):\n",
    "    s = \"\"\n",
    "    n = int(n)\n",
    "    while n:\n",
    "        s = str(n % 5) + s\n",
    "        n //= 5\n",
    "    return s\n",
    "\n",
    "dec_to_snafu_map = {3: '=', 4: '-', 0: '0'}\n",
    "def five_to_snafu(n):\n",
    "    reversed_digits = [int(d) for d in n][::-1]\n",
    "    for i in range(len(reversed_digits)):\n",
    "        digit = reversed_digits[i] \n",
    "        if digit > 2:\n",
    "            reversed_digits[i] = dec_to_snafu_map[digit % 5]\n",
    "            try:\n",
    "                reversed_digits[i+1] += 1 + (digit-1) // 5\n",
    "            except IndexError:\n",
    "                reversed_digits.append(1 + (digit-1) // 5)\n",
    "        \n",
    "    return ''.join([str(d) for d in reversed_digits[::-1]])\n",
    "\n",
    "def dec_to_snafu(n):\n",
    "    return five_to_snafu(dec_to_five(n))\n"
   ]
  },
  {
   "cell_type": "code",
   "execution_count": 111,
   "id": "88e4e888-5656-4c22-9123-9b36a5b52ccf",
   "metadata": {},
   "outputs": [
    {
     "data": {
      "text/plain": [
       "'20-==01-2-=1-2---1-0'"
      ]
     },
     "execution_count": 111,
     "metadata": {},
     "output_type": "execute_result"
    }
   ],
   "source": [
    "x = get_input('input')\n",
    "dec_to_snafu(sum([snafu_to_dec(i) for i in x]))"
   ]
  },
  {
   "cell_type": "markdown",
   "id": "a1da65ee-b4f4-4ddf-aa5c-e3c65ef0b1ad",
   "metadata": {},
   "source": [
    "# Part 1 with no decimal inbetween\n",
    "\n",
    "Experimental"
   ]
  },
  {
   "cell_type": "code",
   "execution_count": 209,
   "id": "d7048927-8da7-4446-8558-6324d2456857",
   "metadata": {},
   "outputs": [],
   "source": [
    "from IPython.core.debugger import set_trace"
   ]
  },
  {
   "cell_type": "code",
   "execution_count": 210,
   "id": "426a4cf8-5b6d-458a-82c9-4420fbbbca2f",
   "metadata": {},
   "outputs": [],
   "source": [
    "def sign_mod(n, base):\n",
    "    return n - int(n/base) * base"
   ]
  },
  {
   "cell_type": "code",
   "execution_count": 234,
   "id": "2723ff0f-06eb-43c4-8149-18431faa81c3",
   "metadata": {},
   "outputs": [],
   "source": [
    "snafu_org_map = {-4: '1', -3: '2', -2: '=', -1: '-', 0: '0', 1: 1, 2: 2, 3: '=', 4: '-'}\n",
    "def organize_snafu(snafu):\n",
    "    reversed_digits = [int(d) for d in snafu][::-1]\n",
    "    for i in range(len(reversed_digits)):\n",
    "        # set_trace()\n",
    "        digit = reversed_digits[i]\n",
    "        if abs(digit) > 2:\n",
    "            to_add = np.sign(digit) * ((1+(abs(digit)-1) // 5) + (digit % 5 > 2))\n",
    "            try:\n",
    "                reversed_digits[i+1] += to_add\n",
    "            except IndexError:\n",
    "                reversed_digits.append(to_add)\n",
    "                \n",
    "        reversed_digits[i] = snafu_org_map[sign_mod(digit, 5)]\n",
    "        \n",
    "    return ''.join([str(d) for d in reversed_digits[::-1]])"
   ]
  },
  {
   "cell_type": "code",
   "execution_count": 235,
   "id": "18ee8c78-e221-4a0b-aee5-8c0b52d004ed",
   "metadata": {},
   "outputs": [],
   "source": [
    "import numpy as np\n",
    "x = get_input('input')\n",
    "\n",
    "maxlen = len(max(x, key=len))\n",
    "snafus = np.array([np.array([0]*(maxlen - len(snafu)) + [snafumap[d] for d in list(snafu)]) for snafu in x])\n",
    "snafu = np.sum(snafus, axis=0)"
   ]
  },
  {
   "cell_type": "code",
   "execution_count": 236,
   "id": "e77a27b4-a42e-4b24-ba97-dcb9bc260b17",
   "metadata": {},
   "outputs": [
    {
     "data": {
      "text/plain": [
       "array([  1,   2,  10,  16,   5,  12,  12,  19,   1,   1,  12,  -1,  34,\n",
       "        -1,   9,  27,  -8, -39,   2, -15])"
      ]
     },
     "execution_count": 236,
     "metadata": {},
     "output_type": "execute_result"
    }
   ],
   "source": [
    "snafu"
   ]
  },
  {
   "cell_type": "code",
   "execution_count": 237,
   "id": "e2a84db4-011c-47dd-bd9d-c6c93aed40cd",
   "metadata": {},
   "outputs": [
    {
     "data": {
      "text/plain": [
       "'200--12-20-21=-2-1-0'"
      ]
     },
     "execution_count": 237,
     "metadata": {},
     "output_type": "execute_result"
    }
   ],
   "source": [
    "organize_snafu(snafu)"
   ]
  }
 ],
 "metadata": {
  "kernelspec": {
   "display_name": "Python 3 (ipykernel)",
   "language": "python",
   "name": "python3"
  },
  "language_info": {
   "codemirror_mode": {
    "name": "ipython",
    "version": 3
   },
   "file_extension": ".py",
   "mimetype": "text/x-python",
   "name": "python",
   "nbconvert_exporter": "python",
   "pygments_lexer": "ipython3",
   "version": "3.9.15"
  }
 },
 "nbformat": 4,
 "nbformat_minor": 5
}
