{
 "cells": [
  {
   "cell_type": "code",
   "execution_count": 146,
   "id": "f2dfd2af-49dd-43a6-babf-1ff52c97ca2c",
   "metadata": {},
   "outputs": [],
   "source": [
    "from anytree import Node, RenderTree, PreOrderIter"
   ]
  },
  {
   "cell_type": "code",
   "execution_count": 147,
   "id": "cf360fb3-11de-49ae-a709-38bcfbba01e5",
   "metadata": {},
   "outputs": [],
   "source": [
    "name = 'input'\n",
    "\n",
    "with open(f'{name}.txt') as f:\n",
    "    x = f.read().split('\\n')"
   ]
  },
  {
   "cell_type": "markdown",
   "id": "e0ffec95-0a6b-4d25-989c-cf9e64c57340",
   "metadata": {},
   "source": [
    "## Part 1"
   ]
  },
  {
   "cell_type": "code",
   "execution_count": 148,
   "id": "8362fa1f-492f-4986-814b-729ca98eb2cc",
   "metadata": {},
   "outputs": [],
   "source": [
    "root = Node('root')\n",
    "root.data = []\n",
    "root.direct_size = 0\n",
    "current_node = None\n",
    "\n",
    "for command in x:\n",
    "    if command[:4] == '$ cd':\n",
    "\n",
    "        arg = command[5:]\n",
    "        if arg == '..':\n",
    "            current_node = current_node.parent\n",
    "        elif arg == '/':\n",
    "            current_node = root\n",
    "        else:\n",
    "            new_node = Node(arg, parent=current_node)\n",
    "            new_node.data = []\n",
    "            new_node.direct_size = 0\n",
    "            current_node = new_node\n",
    "    elif command[:3] == 'dir':\n",
    "        pass\n",
    "    elif command[:4] == '$ ls':\n",
    "        pass\n",
    "    else:\n",
    "        current_node.data.append(command)\n",
    "        current_node.direct_size += int(command.split(' ')[0])"
   ]
  },
  {
   "cell_type": "code",
   "execution_count": 149,
   "id": "e4226e18-a259-404f-9085-e545409453ad",
   "metadata": {},
   "outputs": [],
   "source": [
    "def get_total_size(node):\n",
    "    if not node.children:\n",
    "        node.total_size = node.direct_size\n",
    "        return node.direct_size\n",
    "    else:\n",
    "        child_size = sum(get_total_size(child) for child in node.children)\n",
    "        node.total_size = node.direct_size + child_size\n",
    "        return node.total_size"
   ]
  },
  {
   "cell_type": "code",
   "execution_count": 150,
   "id": "5047ca9d-5aa2-47b5-a89a-2ffe67d79d69",
   "metadata": {},
   "outputs": [
    {
     "data": {
      "text/plain": [
       "43598596"
      ]
     },
     "execution_count": 150,
     "metadata": {},
     "output_type": "execute_result"
    }
   ],
   "source": [
    "get_total_size(root)"
   ]
  },
  {
   "cell_type": "code",
   "execution_count": 132,
   "id": "5baaa023-c7c7-4a58-8090-b42ed361ce63",
   "metadata": {},
   "outputs": [
    {
     "data": {
      "text/plain": [
       "1582412"
      ]
     },
     "execution_count": 132,
     "metadata": {},
     "output_type": "execute_result"
    }
   ],
   "source": [
    "sum([node.total_size for node in PreOrderIter(root, filter_=lambda n: n.total_size < 100000)])"
   ]
  },
  {
   "cell_type": "markdown",
   "id": "b02c9461-d1b4-4131-8f03-eecd51e6cb1e",
   "metadata": {},
   "source": [
    "## Part 2"
   ]
  },
  {
   "cell_type": "code",
   "execution_count": 138,
   "id": "ada10add-dcae-4db1-bbab-9819f8a72485",
   "metadata": {},
   "outputs": [],
   "source": [
    "system_size = 70000000\n",
    "needed_space = 30000000\n",
    "total_used_space = root.total_size\n",
    "\n",
    "space_remaining = system_size - total_used_space\n",
    "wanted_space = needed_space - space_remaining"
   ]
  },
  {
   "cell_type": "code",
   "execution_count": 141,
   "id": "9545b396-fc0a-4e7a-a496-96d03ae5fc99",
   "metadata": {},
   "outputs": [
    {
     "data": {
      "text/plain": [
       "3696336"
      ]
     },
     "execution_count": 141,
     "metadata": {},
     "output_type": "execute_result"
    }
   ],
   "source": [
    "min([node.total_size for node in PreOrderIter(root, filter_=lambda n: n.total_size > wanted_space)])"
   ]
  },
  {
   "cell_type": "markdown",
   "id": "9129c9cb-0403-4f10-b8fd-3609c8b68307",
   "metadata": {},
   "source": [
    "# Render tree -- with sizes"
   ]
  },
  {
   "cell_type": "code",
   "execution_count": 158,
   "id": "8edd9aa0-59d4-459f-a96c-bf8f96c5fd90",
   "metadata": {},
   "outputs": [
    {
     "name": "stdout",
     "output_type": "stream",
     "text": [
      "root 1045905 43598596\n",
      "├── ltcqgnc 725392 31148261\n",
      "│   ├── cmdzcq 550481 3410567\n",
      "│   │   ├── pfmbt 165186 165186\n",
      "│   │   └── vmd 0 2694900\n",
      "│   │       ├── dnc 668812 2435494\n",
      "│   │       │   ├── dvndwjzs 264750 264750\n",
      "│   │       │   ├── gwhtzlpg 586684 903750\n",
      "│   │       │   │   ├── cfvhc 136528 136528\n",
      "│   │       │   │   └── prgbvj 180538 180538\n",
      "│   │       │   ├── lsfn 376315 376315\n",
      "│   │       │   └── lzcv 221867 221867\n",
      "│   │       └── rgftffp 259406 259406\n",
      "│   ├── dnbf 562831 1387204\n",
      "│   │   ├── bft 0 50020\n",
      "│   │   │   └── zdvj 50020 50020\n",
      "│   │   └── vpmvnmfj 774353 774353\n",
      "│   ├── frt 840247 9946870\n",
      "│   │   ├── bbsmm 467395 2544222\n",
      "│   │   │   ├── bbsmm 0 1653670\n",
      "│   │   │   │   ├── lnz 99970 99970\n",
      "│   │   │   │   ├── msmpndgh 0 17855\n",
      "│   │   │   │   │   └── sfsqwrhg 0 17855\n",
      "│   │   │   │   │       └── vfqg 17855 17855\n",
      "│   │   │   │   ├── ncpbn 0 247577\n",
      "│   │   │   │   │   └── nltglc 247577 247577\n",
      "│   │   │   │   └── wfr 536809 1288268\n",
      "│   │   │   │       ├── prg 319704 561687\n",
      "│   │   │   │       │   ├── nclpwh 104441 104441\n",
      "│   │   │   │       │   └── trrtpgd 137542 137542\n",
      "│   │   │   │       └── rwhffw 0 189772\n",
      "│   │   │   │           └── glsrf 189772 189772\n",
      "│   │   │   ├── rwhffw 0 104690\n",
      "│   │   │   │   └── bbsmm 104690 104690\n",
      "│   │   │   └── sgbnzbqt 318467 318467\n",
      "│   │   ├── cfvhc 72894 72894\n",
      "│   │   ├── fptlqh 162052 5039734\n",
      "│   │   │   ├── bbsmm 0 4194839\n",
      "│   │   │   │   ├── bbsmm 552193 1344436\n",
      "│   │   │   │   │   ├── vpwcmgq 0 746231\n",
      "│   │   │   │   │   │   ├── cfvhc 358253 358253\n",
      "│   │   │   │   │   │   ├── jvd 0 289471\n",
      "│   │   │   │   │   │   │   └── cfvhc 289471 289471\n",
      "│   │   │   │   │   │   └── zdvj 98507 98507\n",
      "│   │   │   │   │   └── znw 0 46012\n",
      "│   │   │   │   │       └── zdvj 46012 46012\n",
      "│   │   │   │   ├── pchdq 533102 1295725\n",
      "│   │   │   │   │   ├── cbssm 67525 67525\n",
      "│   │   │   │   │   └── rwhffw 503287 695098\n",
      "│   │   │   │   │       └── fncszbm 0 191811\n",
      "│   │   │   │   │           └── wzrlzvm 191811 191811\n",
      "│   │   │   │   └── rwhffw 733734 1554678\n",
      "│   │   │   │       ├── mzt 309611 309611\n",
      "│   │   │   │       └── qftlpdt 511333 511333\n",
      "│   │   │   ├── bdvp 0 210345\n",
      "│   │   │   │   └── lnvvwlm 210345 210345\n",
      "│   │   │   └── zshvq 472498 472498\n",
      "│   │   ├── hvwdzbsw 460685 590462\n",
      "│   │   │   ├── cfvhc 99722 99722\n",
      "│   │   │   └── zgprrg 0 30055\n",
      "│   │   │       └── brzpsnjl 0 30055\n",
      "│   │   │           └── qld 30055 30055\n",
      "│   │   └── nlm 619226 859311\n",
      "│   │       └── rwhffw 240085 240085\n",
      "│   ├── ngm 579742 13483986\n",
      "│   │   ├── czjzwl 347928 4083998\n",
      "│   │   │   ├── btnsjtl 76658 76658\n",
      "│   │   │   ├── cfvhc 454547 454547\n",
      "│   │   │   ├── gljbgjq 352405 2394795\n",
      "│   │   │   │   ├── ccqsnp 414409 1208032\n",
      "│   │   │   │   │   ├── mbmsfgtb 617046 617046\n",
      "│   │   │   │   │   └── qbpnbsv 176577 176577\n",
      "│   │   │   │   └── fng 297662 834358\n",
      "│   │   │   │       ├── hvhwh 87079 87079\n",
      "│   │   │   │       └── rtcsp 0 449617\n",
      "│   │   │   │           └── zdvj 449617 449617\n",
      "│   │   │   └── qld 810070 810070\n",
      "│   │   ├── gjwws 0 2111786\n",
      "│   │   │   ├── bpzsc 388397 1660598\n",
      "│   │   │   │   └── qld 518133 1272201\n",
      "│   │   │   │       ├── dpqgcc 0 199386\n",
      "│   │   │   │       │   └── rhqvcfd 199386 199386\n",
      "│   │   │   │       └── qld 554682 554682\n",
      "│   │   │   ├── cfvhc 0 273225\n",
      "│   │   │   │   └── nzd 273225 273225\n",
      "│   │   │   ├── fsnf 17887 17887\n",
      "│   │   │   └── zdvj 160076 160076\n",
      "│   │   ├── qjpgzsj 467426 467426\n",
      "│   │   ├── tvmpgrq 0 1008371\n",
      "│   │   │   ├── hdrsmnvc 0 377609\n",
      "│   │   │   │   ├── rjm 244666 244666\n",
      "│   │   │   │   └── zdvj 132943 132943\n",
      "│   │   │   └── psrjr 97306 630762\n",
      "│   │   │       ├── nfvllp 39707 39707\n",
      "│   │   │       ├── plfgfs 370436 370436\n",
      "│   │   │       └── zmp 123313 123313\n",
      "│   │   └── zdvj 230054 5232663\n",
      "│   │       ├── hzzs 375856 3696336\n",
      "│   │       │   ├── cfvhc 256186 256186\n",
      "│   │       │   ├── fbzpmc 0 193322\n",
      "│   │       │   │   └── cfvhc 193322 193322\n",
      "│   │       │   ├── fdtjp 482542 2750141\n",
      "│   │       │   │   ├── bbsmm 206896 206896\n",
      "│   │       │   │   ├── lcmpbs 0 1861230\n",
      "│   │       │   │   │   ├── bbsmm 235479 235479\n",
      "│   │       │   │   │   ├── cfvhc 314434 314434\n",
      "│   │       │   │   │   ├── rplqgm 0 817872\n",
      "│   │       │   │   │   │   ├── bbsmm 443285 443285\n",
      "│   │       │   │   │   │   ├── cfvhc 0 254454\n",
      "│   │       │   │   │   │   │   └── rfw 254454 254454\n",
      "│   │       │   │   │   │   └── mwhf 120133 120133\n",
      "│   │       │   │   │   ├── tmh 307273 307273\n",
      "│   │       │   │   │   └── zdvj 154441 186172\n",
      "│   │       │   │   │       └── jjj 31731 31731\n",
      "│   │       │   │   └── qvrd 199473 199473\n",
      "│   │       │   └── pmrv 120831 120831\n",
      "│   │       ├── rgwfsqdc 676154 676154\n",
      "│   │       └── zwtjr 630119 630119\n",
      "│   ├── ngsrlzc 318280 897279\n",
      "│   │   └── zdvj 372490 578999\n",
      "│   │       └── bbsmm 206509 206509\n",
      "│   ├── shjv 282929 282929\n",
      "│   └── wsvfbb 437744 1014034\n",
      "│       ├── bhbb 107036 107036\n",
      "│       ├── jgnl 0 39294\n",
      "│       │   └── qld 39294 39294\n",
      "│       └── qnddp 58723 429960\n",
      "│           └── vzmrb 371237 371237\n",
      "├── rbmstsf 186508 11318377\n",
      "│   ├── bbsmm 127718 5656467\n",
      "│   │   ├── cfvhc 133178 1084198\n",
      "│   │   │   ├── btmbjrw 0 606123\n",
      "│   │   │   │   ├── ftpvz 0 114380\n",
      "│   │   │   │   │   └── lqlrh 114380 114380\n",
      "│   │   │   │   ├── tjflfshs 274555 274555\n",
      "│   │   │   │   └── wvncjmf 0 217188\n",
      "│   │   │   │       └── nnrqcfmm 217188 217188\n",
      "│   │   │   └── pzq 344897 344897\n",
      "│   │   ├── gtvszgs 87661 87661\n",
      "│   │   ├── rfjfp 301940 3195994\n",
      "│   │   │   ├── lhf 336119 1960476\n",
      "│   │   │   │   ├── rmsggp 0 1252498\n",
      "│   │   │   │   │   ├── fznsmbq 0 325794\n",
      "│   │   │   │   │   │   ├── wqzwsspq 0 185410\n",
      "│   │   │   │   │   │   │   └── gbzfpfq 185410 185410\n",
      "│   │   │   │   │   │   └── zdvj 140384 140384\n",
      "│   │   │   │   │   ├── lhghnn 218793 218793\n",
      "│   │   │   │   │   └── zdvj 332762 707911\n",
      "│   │   │   │   │       └── rwhffw 375149 375149\n",
      "│   │   │   │   ├── tmf 141379 141379\n",
      "│   │   │   │   └── zdvj 230480 230480\n",
      "│   │   │   ├── qld 418830 832183\n",
      "│   │   │   │   └── zdvj 169434 413353\n",
      "│   │   │   │       └── cfvhc 243919 243919\n",
      "│   │   │   └── qwzj 101395 101395\n",
      "│   │   ├── rwhffw 455031 581490\n",
      "│   │   │   └── lzbmzw 0 126459\n",
      "│   │   │       └── dfrdczdj 126459 126459\n",
      "│   │   └── sbfshph 579406 579406\n",
      "│   ├── cfvhc 0 422111\n",
      "│   │   ├── cmr 227026 227026\n",
      "│   │   ├── jvh 0 96968\n",
      "│   │   │   └── qld 96968 96968\n",
      "│   │   └── mjs 98117 98117\n",
      "│   ├── mgzl 198793 198793\n",
      "│   ├── ngflwbmp 816878 4723959\n",
      "│   │   ├── bbsmm 492705 492705\n",
      "│   │   ├── jthnmqs 356636 2265786\n",
      "│   │   │   ├── bbsmm 310295 310295\n",
      "│   │   │   ├── cfdbp 0 241829\n",
      "│   │   │   │   └── grczc 241829 241829\n",
      "│   │   │   ├── dpwqmbw 287899 287899\n",
      "│   │   │   ├── rwhffw 321361 527183\n",
      "│   │   │   │   ├── ffzc 10583 10583\n",
      "│   │   │   │   └── nrs 195239 195239\n",
      "│   │   │   ├── sdtntw 255153 255153\n",
      "│   │   │   └── zdvj 0 286791\n",
      "│   │   │       └── smjvcql 0 286791\n",
      "│   │   │           └── qcqljj 286791 286791\n",
      "│   │   └── zdvj 539867 1148590\n",
      "│   │       ├── bcghd 106732 258421\n",
      "│   │       │   └── vtgsnb 0 151689\n",
      "│   │       │       └── gtj 151689 151689\n",
      "│   │       └── snqjl 350302 350302\n",
      "│   └── shvjprl 130539 130539\n",
      "└── twjcmp 86053 86053\n"
     ]
    }
   ],
   "source": [
    "for pre, fill, node in RenderTree(root):\n",
    "    print(\"%s%s %s %s\" % (pre, node.name, node.direct_size, node.total_size))"
   ]
  },
  {
   "cell_type": "code",
   "execution_count": null,
   "id": "b12bf933-e6ce-49a7-b99c-d81d5f3de96f",
   "metadata": {},
   "outputs": [],
   "source": []
  }
 ],
 "metadata": {
  "kernelspec": {
   "display_name": "Python 3 (ipykernel)",
   "language": "python",
   "name": "python3"
  },
  "language_info": {
   "codemirror_mode": {
    "name": "ipython",
    "version": 3
   },
   "file_extension": ".py",
   "mimetype": "text/x-python",
   "name": "python",
   "nbconvert_exporter": "python",
   "pygments_lexer": "ipython3",
   "version": "3.9.15"
  }
 },
 "nbformat": 4,
 "nbformat_minor": 5
}
