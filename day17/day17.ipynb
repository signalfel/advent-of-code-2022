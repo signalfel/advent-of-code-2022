{
 "cells": [
  {
   "cell_type": "code",
   "execution_count": 1,
   "id": "c4fe7f51-4177-4949-8c82-bc1491e01dde",
   "metadata": {},
   "outputs": [],
   "source": [
    "import numpy as np\n",
    "import itertools\n",
    "from timeit import default_timer as timer\n",
    "from IPython.core.debugger import set_trace"
   ]
  },
  {
   "cell_type": "code",
   "execution_count": 2,
   "id": "57ac3de5-52ec-4a08-b420-2b770d8ed902",
   "metadata": {},
   "outputs": [],
   "source": [
    "def get_input(name):\n",
    "    with open(f'{name}.txt') as f:\n",
    "        return f.read()"
   ]
  },
  {
   "cell_type": "markdown",
   "id": "11ed4cf4-5a91-4c2e-9d5f-3ce743b14400",
   "metadata": {},
   "source": [
    "# Part 1"
   ]
  },
  {
   "cell_type": "code",
   "execution_count": 3,
   "id": "d5c9d106-4b74-4f5d-a7e6-ab6f7b59f01b",
   "metadata": {},
   "outputs": [],
   "source": [
    "class Rock:\n",
    "    rock_shapes = [ \n",
    "        [[3, 3, 3, 3], [0, 1, 2, 3]], # I, lying down\n",
    "        [[1, 2, 2, 2, 3], [1, 0, 1, 2, 1]], # plus\n",
    "        [[1, 2, 3, 3, 3], [2, 2, 2, 1, 0]], # backwards L\n",
    "        [[0, 1, 2, 3], [0, 0, 0, 0]] , # I, standing up\n",
    "        [[2, 2, 3, 3], [0, 1, 0, 1]]  , # box\n",
    "          ]\n",
    "    rock_heights = [1, 3, 3, 4, 2]\n",
    "    \n",
    "    def __init__(self, y, rock_shape):\n",
    "        self.x = 2\n",
    "        self.y = y\n",
    "        self.shape = rock_shape\n",
    "    \n",
    "    def max_y(self):\n",
    "        return self.y + HITBOX_SIZE - self.rock_heights[self.shape]\n",
    "         \n",
    "    def image(self):\n",
    "        return zip(*self.rock_shapes[self.shape])"
   ]
  },
  {
   "cell_type": "code",
   "execution_count": 4,
   "id": "360bc9ee-57e2-4fa1-8c26-7112a2cdf911",
   "metadata": {},
   "outputs": [],
   "source": [
    "class Cave:\n",
    "    n_rocks = 0\n",
    "    state = 'active'\n",
    "    height_outside_of_view = 0\n",
    "    rolled_field = None\n",
    "    n_rocks_at_last_update = 0\n",
    "    current_rock_at_last_update = None\n",
    "    \n",
    "    def __init__(self, height, width, rock_limit, jet_streams):\n",
    "        self.height = height\n",
    "        self.current_height = height\n",
    "        self.width = width\n",
    "        self.field = np.zeros([height+1, width+2])\n",
    "        self.rock_limit = rock_limit\n",
    "        self.rock_cycle = itertools.cycle([0, 1, 2, 3, 4])\n",
    "          \n",
    "    def intersects(self):\n",
    "        intersection = False\n",
    "        for i,j in self.rock.image():\n",
    "            if i + self.rock.y > self.height - 1 or \\\n",
    "                    j + self.rock.x > self.width - 1 or \\\n",
    "                    j + self.rock.x < 0 or \\\n",
    "                    self.field[i + self.rock.y][j + self.rock.x] > 0:\n",
    "                intersection = True\n",
    "        return intersection\n",
    "    \n",
    "    def new_rock(self):\n",
    "        self.rock = Rock(self.current_height - HITBOX_SIZE - 3, next(self.rock_cycle))\n",
    "        \n",
    "    def freeze(self):\n",
    "        for i,j in self.rock.image():\n",
    "            self.field[i + self.rock.y][j + self.rock.x] = 1\n",
    "        \n",
    "        self.n_rocks += 1\n",
    "        self.current_height = min(self.current_height, self.rock.max_y())\n",
    "        \n",
    "        if self.current_height < 2*HITBOX_SIZE:\n",
    "            self.update_field()\n",
    "            \n",
    "        if self.n_rocks == self.rock_limit:\n",
    "            self.state = 'finished'\n",
    "        else:\n",
    "            self.new_rock()\n",
    "            \n",
    "    def fall_down(self):\n",
    "        self.rock.y += 1\n",
    "        if self.intersects():\n",
    "            self.rock.y -= 1\n",
    "            self.freeze()\n",
    "            return True\n",
    "        return False\n",
    "\n",
    "    def go_side(self, jet_direction):\n",
    "        dx = -1 if jet_direction == '<' else 1\n",
    "        old_x = self.rock.x\n",
    "        self.rock.x += dx\n",
    "        if self.intersects():\n",
    "            self.rock.x = old_x\n",
    "    \n",
    "    \n",
    "    def get_col_heights(self):\n",
    "        nz = np.argwhere(self.field)\n",
    "        lowest_y_for_x = np.zeros(CAVE_WIDTH)\n",
    "        for x in range(CAVE_WIDTH):\n",
    "            if x in (cols_w_x := nz[:, 1]):\n",
    "                lowest_y_for_x[x] = nz[cols_w_x == x][:,0].min()\n",
    "            else: \n",
    "                lowest_y_for_x[x] = self.height\n",
    "        return lowest_y_for_x\n",
    "    \n",
    "    def update_field(self):\n",
    "        lowest_y_for_x = self.get_col_heights()\n",
    "        maxy = lowest_y_for_x.max()\n",
    "\n",
    "        to_roll = int(self.height - maxy)\n",
    "        self.field = np.roll(self.field, to_roll, axis=0)\n",
    "        self.field[:to_roll, :] = 0\n",
    "        \n",
    "        self.height_outside_of_view += to_roll\n",
    "        self.current_height += to_roll\n",
    "        \n",
    "        \n",
    "        \n",
    "        if (self.current_rock_at_last_update == self.rock.shape) & (self.field == self.rolled_field).all():\n",
    "            # cycle detected\n",
    "            print('cycle found in field update')\n",
    "            n_rocks_in_cycle = self.n_rocks - self.n_rocks_at_last_update\n",
    "            n_rocks_to_go = self.rock_limit - self.n_rocks\n",
    "            n_whole_cycles = n_rocks_to_go//n_rocks_in_cycle\n",
    "            self.height_outside_of_view += to_roll*n_whole_cycles\n",
    "            self.n_rocks += n_rocks_in_cycle*n_whole_cycles\n",
    "        else:\n",
    "            self.rolled_field = self.field.copy()\n",
    "            self.n_rocks_at_last_update = self.n_rocks\n",
    "            self.current_rock_at_last_update = self.rock.shape\n",
    "        \n",
    "        \n",
    "    def get_total_height(self):\n",
    "        return self.height_outside_of_view + self.height - self.current_height"
   ]
  },
  {
   "cell_type": "code",
   "execution_count": 62,
   "id": "c504cc18-58f5-4517-8f4a-cea1adb9a836",
   "metadata": {},
   "outputs": [],
   "source": [
    "def run_cave_sim(max_height, CAVE_WIDTH, max_rocks, jet_streams):\n",
    "    c = Cave(max_height, CAVE_WIDTH, max_rocks, jet_streams)\n",
    "    c.new_rock()\n",
    "    \n",
    "    height_at_last_check = 0\n",
    "    \n",
    "    jet_cycle = zip( itertools.cycle( range(len(jet_streams)) ), itertools.cycle( jet_streams )) \n",
    "    while not c.state == 'finished':\n",
    "        i_jet, jet_direction = next(jet_cycle)\n",
    "        \n",
    "        c.go_side(jet_direction)\n",
    "        did_freeze = c.fall_down()\n",
    "        \n",
    "        # THE c.rock.shape < 2 I do not understand fully, but it works. Origininally I thought it needed to be 0, so that we check\n",
    "        # for cycles when we are at the start of both the jet cycle and the rock cycle. 0 works for my input but not for the test\n",
    "        # For the test, it needs to equal 1. However, weirdly, if I catch both 1 and 0, both input and test work.....\n",
    "        if (i_jet == 0) and (c.rock.shape < 2):\n",
    "            delta_h = c.get_total_height() - height_at_last_check\n",
    "            \n",
    "            if delta_h > 0:\n",
    "                if ('saved_field' in locals()) and \\\n",
    "                   (c.field[c.current_height:c.current_height + delta_h, :] == saved_field[saved_current_height:saved_current_height + delta_h, :]).all():\n",
    "                    \n",
    "                    print('cycle found in jet cycle')\n",
    "                    n_rocks_in_cycle = c.n_rocks - n_rocks_at_last_check\n",
    "                    n_rocks_to_go = c.rock_limit - c.n_rocks\n",
    "                    n_whole_cycles = n_rocks_to_go//n_rocks_in_cycle\n",
    "                    \n",
    "                    c.height_outside_of_view += delta_h*n_whole_cycles\n",
    "                    c.n_rocks += n_rocks_in_cycle*n_whole_cycles\n",
    "                else:               \n",
    "                    height_at_last_check = c.get_total_height() \n",
    "                    rock_shape_at_last_check = c.rock.shape\n",
    "                    n_rocks_at_last_check = c.n_rocks\n",
    "                    saved_current_height = c.current_height\n",
    "                    saved_field = c.field.copy()\n",
    "    return c"
   ]
  },
  {
   "cell_type": "code",
   "execution_count": null,
   "id": "85088984-95e0-485a-a02b-5e56ff597fc6",
   "metadata": {},
   "outputs": [],
   "source": [
    "CAVE_WIDTH = 7\n",
    "HITBOX_SIZE = 4\n",
    "rock_limit = 2022\n",
    "max_height = 1500*HITBOX_SIZE\n",
    "\n",
    "jet_streams = get_input('test')\n",
    "\n",
    "c = run_cave_sim(max_height, CAVE_WIDTH, rock_limit, jet_streams)"
   ]
  },
  {
   "cell_type": "code",
   "execution_count": null,
   "id": "9f75703d-5682-48e8-8c0f-b5989ce1b4e2",
   "metadata": {},
   "outputs": [
    {
     "data": {
      "text/plain": [
       "3068"
      ]
     },
     "execution_count": 7,
     "metadata": {},
     "output_type": "execute_result"
    }
   ],
   "source": [
    "c.get_total_height()"
   ]
  },
  {
   "cell_type": "code",
   "execution_count": null,
   "id": "5670b2ac-bc22-412e-ae1b-78ea5b3f74ac",
   "metadata": {
    "tags": []
   },
   "outputs": [],
   "source": [
    "CRT = ''''''\n",
    "for row in c.field:\n",
    "    if any(row):\n",
    "        CRT += '|'\n",
    "        for pt in row:        \n",
    "            CRT += '#' if pt else '.'\n",
    "        CRT += '|\\n'\n",
    "print(CRT)"
   ]
  },
  {
   "cell_type": "markdown",
   "id": "c3595437-ffdc-461c-8398-86e6e1af9be4",
   "metadata": {},
   "source": [
    "## Part 2"
   ]
  },
  {
   "cell_type": "code",
   "execution_count": 64,
   "id": "d488a4b3-158e-41b8-9a8a-153b7b77b2b3",
   "metadata": {},
   "outputs": [
    {
     "name": "stdout",
     "output_type": "stream",
     "text": [
      "cycle found in jet cycle\n"
     ]
    }
   ],
   "source": [
    "CAVE_WIDTH = 7\n",
    "HITBOX_SIZE = 4\n",
    "rock_limit = 1000000000000\n",
    "max_height = 2000*HITBOX_SIZE\n",
    "\n",
    "jet_streams = get_input('input')\n",
    "\n",
    "c = run_cave_sim(max_height, CAVE_WIDTH, rock_limit, jet_streams)"
   ]
  },
  {
   "cell_type": "code",
   "execution_count": 58,
   "id": "93f3d119-24ba-4379-868f-d32a19a4a0c8",
   "metadata": {},
   "outputs": [
    {
     "data": {
      "text/plain": [
       "1542941176480"
      ]
     },
     "execution_count": 58,
     "metadata": {},
     "output_type": "execute_result"
    }
   ],
   "source": [
    "c.get_total_height()"
   ]
  },
  {
   "cell_type": "markdown",
   "id": "fa77d74b-4242-454f-8ff0-81bf400b670f",
   "metadata": {},
   "source": [
    "## Profiling"
   ]
  },
  {
   "cell_type": "code",
   "execution_count": null,
   "id": "a494e183-ca24-471b-bb87-8042d0457809",
   "metadata": {},
   "outputs": [],
   "source": [
    "n_rocks_in_cycle"
   ]
  },
  {
   "cell_type": "code",
   "execution_count": null,
   "id": "01efc91d-62e0-4a1e-b0a5-429d76f977a1",
   "metadata": {},
   "outputs": [],
   "source": [
    "%load_ext line_profiler"
   ]
  },
  {
   "cell_type": "code",
   "execution_count": null,
   "id": "b4a1da83-87cd-4188-9145-80a531ca7b1b",
   "metadata": {},
   "outputs": [],
   "source": [
    "CAVE_WIDTH = 7\n",
    "HITBOX_SIZE = 4\n",
    "rock_limit = 100000\n",
    "max_height = 1500*HITBOX_SIZE\n",
    "\n",
    "jet_streams = get_input('test')\n",
    "\n",
    "%lprun -f Cave.intersects run_cave_sim(max_height, CAVE_WIDTH, rock_limit, jet_streams)"
   ]
  },
  {
   "cell_type": "code",
   "execution_count": null,
   "id": "0f70ed32-fba9-43dd-af3c-5913a66e4fd2",
   "metadata": {},
   "outputs": [],
   "source": [
    "CAVE_WIDTH = 7\n",
    "HITBOX_SIZE = 4\n",
    "rock_limit = 100000\n",
    "max_height = 1500*HITBOX_SIZE\n",
    "\n",
    "jet_streams = get_input('test')\n",
    "\n",
    "%lprun -f Cave.intersects run_cave_sim(max_height, CAVE_WIDTH, rock_limit, jet_streams)"
   ]
  },
  {
   "cell_type": "code",
   "execution_count": null,
   "id": "cec5c772-aa04-45d2-b76a-25ef1a47f93e",
   "metadata": {
    "tags": []
   },
   "outputs": [],
   "source": [
    "times = []\n",
    "for rock_limit in [1, 10, 100, 1000, 10000, 100000]:\n",
    "    if c in locals():\n",
    "        del c\n",
    "    t0 = timer()\n",
    "    CAVE_WIDTH = 7\n",
    "    HITBOX_SIZE = 4\n",
    "    # rock_limit = 1000000000000\n",
    "    max_height = 2500*HITBOX_SIZE\n",
    "\n",
    "    jet_streams = get_input('test')\n",
    "\n",
    "    c = run_cave_sim(max_height, CAVE_WIDTH, rock_limit, jet_streams)\n",
    "    times.append(timer()-t0)"
   ]
  },
  {
   "cell_type": "code",
   "execution_count": null,
   "id": "dd4f4328-3637-429f-baae-79bb060484a8",
   "metadata": {},
   "outputs": [],
   "source": [
    "# 13 years runtime. Probably need to find another way"
   ]
  }
 ],
 "metadata": {
  "kernelspec": {
   "display_name": "Python 3 (ipykernel)",
   "language": "python",
   "name": "python3"
  },
  "language_info": {
   "codemirror_mode": {
    "name": "ipython",
    "version": 3
   },
   "file_extension": ".py",
   "mimetype": "text/x-python",
   "name": "python",
   "nbconvert_exporter": "python",
   "pygments_lexer": "ipython3",
   "version": "3.9.15"
  }
 },
 "nbformat": 4,
 "nbformat_minor": 5
}
