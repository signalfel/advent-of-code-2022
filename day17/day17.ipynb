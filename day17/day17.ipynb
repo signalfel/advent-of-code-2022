{
 "cells": [
  {
   "cell_type": "code",
   "execution_count": 1,
   "id": "c4fe7f51-4177-4949-8c82-bc1491e01dde",
   "metadata": {},
   "outputs": [],
   "source": [
    "import numpy as np\n",
    "import itertools\n",
    "from timeit import default_timer as timer"
   ]
  },
  {
   "cell_type": "code",
   "execution_count": 2,
   "id": "57ac3de5-52ec-4a08-b420-2b770d8ed902",
   "metadata": {},
   "outputs": [],
   "source": [
    "def get_input(name):\n",
    "    with open(f'{name}.txt') as f:\n",
    "        return f.read()"
   ]
  },
  {
   "cell_type": "markdown",
   "id": "11ed4cf4-5a91-4c2e-9d5f-3ce743b14400",
   "metadata": {},
   "source": [
    "# Part 1"
   ]
  },
  {
   "cell_type": "code",
   "execution_count": 3,
   "id": "d5c9d106-4b74-4f5d-a7e6-ab6f7b59f01b",
   "metadata": {},
   "outputs": [],
   "source": [
    "class Rock:\n",
    "    rock_shapes = [[12, 13, 14, 15], # I, lying down\n",
    "           [5, 8, 9, 10, 13], # plus\n",
    "           [6, 10, 14, 13, 12], # backwards L\n",
    "           [0, 4, 8, 12], # I, standing up\n",
    "           [8, 9, 12, 13], # box\n",
    "          ]\n",
    "    rock_heights = [1, 3, 3, 4, 2]\n",
    "    \n",
    "    def __init__(self, y, rock_shape):\n",
    "        self.x = 2\n",
    "        self.y = y\n",
    "        self.shape = rock_shape\n",
    "    \n",
    "    def max_y(self):\n",
    "        return self.y + HITBOX_SIZE - self.rock_heights[self.shape]\n",
    "         \n",
    "    def image(self):\n",
    "        return self.rock_shapes[self.shape]"
   ]
  },
  {
   "cell_type": "code",
   "execution_count": 99,
   "id": "360bc9ee-57e2-4fa1-8c26-7112a2cdf911",
   "metadata": {},
   "outputs": [],
   "source": [
    "class Cave:\n",
    "    n_rocks = 0\n",
    "    state = 'active'\n",
    "    height_outside_of_view = 0\n",
    "    \n",
    "    \n",
    "    def __init__(self, height, width, rock_limit, jet_streams):\n",
    "        self.height = height\n",
    "        self.current_height = height\n",
    "        self.width = width\n",
    "        self.field = np.zeros([height, width])\n",
    "        self.rock_limit = rock_limit\n",
    "        self.rock_cycle = itertools.cycle([0, 1, 2, 3, 4])\n",
    "        self.jet_cycle = itertools.cycle(jet_streams)\n",
    "        \n",
    "        \n",
    "    def intersects(self):\n",
    "        intersection = False\n",
    "        for i in range(HITBOX_SIZE):\n",
    "            for j in range(HITBOX_SIZE):\n",
    "                if i * HITBOX_SIZE + j in self.rock.image():\n",
    "                    if i + self.rock.y > self.height - 1 or \\\n",
    "                            j + self.rock.x > self.width - 1 or \\\n",
    "                            j + self.rock.x < 0 or \\\n",
    "                            self.field[i + self.rock.y][j + self.rock.x] > 0:\n",
    "                        intersection = True\n",
    "        return intersection\n",
    "    \n",
    "    \n",
    "    def new_rock(self):\n",
    "        self.rock = Rock(self.current_height - HITBOX_SIZE - 3, next(self.rock_cycle))\n",
    "        \n",
    "    def freeze(self):\n",
    "        for i in range(HITBOX_SIZE):\n",
    "            for j in range(HITBOX_SIZE):\n",
    "                if i * HITBOX_SIZE + j in self.rock.image():\n",
    "                    self.field[i + self.rock.y][j + self.rock.x] = 1\n",
    "        self.n_rocks += 1\n",
    "        \n",
    "        self.current_height = min(self.current_height, self.rock.max_y())\n",
    "        \n",
    "        if self.current_height < 2*HITBOX_SIZE:\n",
    "            self.update_field()\n",
    "            \n",
    "        if self.n_rocks == self.rock_limit:\n",
    "            self.state = 'finished'\n",
    "        else:\n",
    "            self.new_rock()\n",
    "            \n",
    "    def fall_down(self):\n",
    "        self.rock.y += 1\n",
    "        if self.intersects():\n",
    "            self.rock.y -= 1\n",
    "            self.freeze()\n",
    "\n",
    "    def go_side(self):\n",
    "        dx = -1 if next(self.jet_cycle) == '<' else 1\n",
    "        old_x = self.rock.x\n",
    "\n",
    "        self.rock.x += dx\n",
    "        if self.intersects():\n",
    "            self.rock.x = old_x\n",
    "    \n",
    "    \n",
    "    def get_col_heights(self):\n",
    "        nz = np.argwhere(self.field)\n",
    "        lowest_y_for_x = np.zeros(CAVE_WIDTH)\n",
    "        for x in range(CAVE_WIDTH):\n",
    "            if x in (cols_w_x := nz[:, 1]):\n",
    "                lowest_y_for_x[x] = nz[cols_w_x == x][:,0].min()\n",
    "            else: \n",
    "                lowest_y_for_x[x] = self.height\n",
    "        return lowest_y_for_x\n",
    "    \n",
    "    def update_field(self):\n",
    "        lowest_y_for_x = self.get_col_heights()\n",
    "        maxy = lowest_y_for_x.max()\n",
    "\n",
    "        to_roll = int(self.height - maxy)\n",
    "        self.field = np.roll(self.field, to_roll, axis=0)\n",
    "        self.field[:to_roll, :] = 0\n",
    "        \n",
    "        self.height_outside_of_view += to_roll\n",
    "        self.current_height += to_roll \n",
    "        \n",
    "    def get_total_height(self):\n",
    "        return self.height_outside_of_view + self.height - self.current_height"
   ]
  },
  {
   "cell_type": "code",
   "execution_count": 91,
   "id": "c504cc18-58f5-4517-8f4a-cea1adb9a836",
   "metadata": {},
   "outputs": [],
   "source": [
    "def run_cave_sim(max_height, CAVE_WIDTH, max_rocks, jet_streams):\n",
    "    c = Cave(max_height, CAVE_WIDTH, max_rocks, jet_streams)\n",
    "    c.new_rock()\n",
    "    while not c.state == 'finished':\n",
    "        c.go_side()\n",
    "        c.fall_down()\n",
    "    return c"
   ]
  },
  {
   "cell_type": "code",
   "execution_count": 95,
   "id": "85088984-95e0-485a-a02b-5e56ff597fc6",
   "metadata": {},
   "outputs": [],
   "source": [
    "CAVE_WIDTH = 7\n",
    "HITBOX_SIZE = 4\n",
    "rock_limit = 2022\n",
    "max_height = 1500*HITBOX_SIZE\n",
    "\n",
    "jet_streams = get_input('test')\n",
    "\n",
    "c = run_cave_sim(max_height, CAVE_WIDTH, rock_limit, jet_streams)"
   ]
  },
  {
   "cell_type": "code",
   "execution_count": null,
   "id": "5670b2ac-bc22-412e-ae1b-78ea5b3f74ac",
   "metadata": {
    "tags": []
   },
   "outputs": [],
   "source": [
    "CRT = ''''''\n",
    "for row in c.field:\n",
    "    if any(row):\n",
    "        CRT += '|'\n",
    "        for pt in row:        \n",
    "            CRT += '#' if pt else '.'\n",
    "        CRT += '|\\n'\n",
    "print(CRT)"
   ]
  },
  {
   "cell_type": "code",
   "execution_count": 97,
   "id": "01efc91d-62e0-4a1e-b0a5-429d76f977a1",
   "metadata": {},
   "outputs": [
    {
     "name": "stdout",
     "output_type": "stream",
     "text": [
      "The line_profiler extension is already loaded. To reload it, use:\n",
      "  %reload_ext line_profiler\n"
     ]
    }
   ],
   "source": [
    "%load_ext line_profiler"
   ]
  },
  {
   "cell_type": "code",
   "execution_count": 114,
   "id": "0f70ed32-fba9-43dd-af3c-5913a66e4fd2",
   "metadata": {},
   "outputs": [
    {
     "data": {
      "text/plain": [
       "Timer unit: 1e-07 s\n",
       "\n",
       "Total time: 9.33988 s\n",
       "File: C:\\Users\\a336214\\AppData\\Local\\Temp\\ipykernel_28100\\3793717076.py\n",
       "Function: go_side at line 56\n",
       "\n",
       "Line #      Hits         Time  Per Hit   % Time  Line Contents\n",
       "==============================================================\n",
       "    56                                               def go_side(self):\n",
       "    57    571421    1622536.0      2.8      1.7          dx = -1 if next(self.jet_cycle) == '<' else 1\n",
       "    58    571421    1233344.0      2.2      1.3          old_x = self.rock.x\n",
       "    59                                           \n",
       "    60    571421    1583484.0      2.8      1.7          self.rock.x += dx\n",
       "    61    465707   88682216.0    190.4     95.0          if self.intersects():\n",
       "    62    105714     277251.0      2.6      0.3              self.rock.x = old_x"
      ]
     },
     "metadata": {},
     "output_type": "display_data"
    }
   ],
   "source": [
    "CAVE_WIDTH = 7\n",
    "HITBOX_SIZE = 4\n",
    "rock_limit = 100000\n",
    "max_height = 1500*HITBOX_SIZE\n",
    "\n",
    "jet_streams = get_input('test')\n",
    "\n",
    "%lprun -f Cave.go_side run_cave_sim(max_height, CAVE_WIDTH, rock_limit, jet_streams)"
   ]
  },
  {
   "cell_type": "code",
   "execution_count": 106,
   "id": "cec5c772-aa04-45d2-b76a-25ef1a47f93e",
   "metadata": {
    "tags": []
   },
   "outputs": [],
   "source": [
    "times = []\n",
    "for rock_limit in [1, 10, 100, 1000, 10000, 100000]:\n",
    "    if c in locals():\n",
    "        del c\n",
    "    t0 = timer()\n",
    "    CAVE_WIDTH = 7\n",
    "    HITBOX_SIZE = 4\n",
    "    # rock_limit = 1000000000000\n",
    "    max_height = 1500*HITBOX_SIZE\n",
    "\n",
    "    jet_streams = get_input('test')\n",
    "\n",
    "    c = run_cave_sim(max_height, CAVE_WIDTH, rock_limit, jet_streams)\n",
    "    times.append(timer()-t0)"
   ]
  },
  {
   "cell_type": "code",
   "execution_count": 107,
   "id": "1c809e13-d5f0-42da-bf22-0a012c21f553",
   "metadata": {},
   "outputs": [
    {
     "data": {
      "text/plain": [
       "[0.008702499999799329,\n",
       " 0.0012867000000369444,\n",
       " 0.00917059999983394,\n",
       " 0.0826563000000533,\n",
       " 0.7166383999997379,\n",
       " 7.264314699999886]"
      ]
     },
     "execution_count": 107,
     "metadata": {},
     "output_type": "execute_result"
    }
   ],
   "source": [
    "times"
   ]
  },
  {
   "cell_type": "code",
   "execution_count": null,
   "id": "dd4f4328-3637-429f-baae-79bb060484a8",
   "metadata": {},
   "outputs": [],
   "source": [
    "# 13 years runtime. Probably need to find another way"
   ]
  },
  {
   "cell_type": "code",
   "execution_count": null,
   "id": "268c30ef-a874-4ec4-9a3d-faa259429744",
   "metadata": {
    "tags": []
   },
   "outputs": [],
   "source": [
    "CRT = ''''''\n",
    "for row in c.field:\n",
    "    if any(row):\n",
    "        CRT += '|'\n",
    "        for pt in row:        \n",
    "            CRT += '#' if pt else '.'\n",
    "        CRT += '|\\n'\n",
    "print(CRT)"
   ]
  },
  {
   "cell_type": "markdown",
   "id": "0ddbe99f-b40d-4db1-a33d-6a5d529da55a",
   "metadata": {},
   "source": [
    "# Part 2"
   ]
  },
  {
   "cell_type": "code",
   "execution_count": null,
   "id": "01f4a6ee-3827-47b8-abaf-7102a7e27fc5",
   "metadata": {},
   "outputs": [],
   "source": []
  }
 ],
 "metadata": {
  "kernelspec": {
   "display_name": "Python 3 (ipykernel)",
   "language": "python",
   "name": "python3"
  },
  "language_info": {
   "codemirror_mode": {
    "name": "ipython",
    "version": 3
   },
   "file_extension": ".py",
   "mimetype": "text/x-python",
   "name": "python",
   "nbconvert_exporter": "python",
   "pygments_lexer": "ipython3",
   "version": "3.9.15"
  }
 },
 "nbformat": 4,
 "nbformat_minor": 5
}
