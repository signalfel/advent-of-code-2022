{
 "cells": [
  {
   "cell_type": "code",
   "execution_count": 1,
   "id": "c4fe7f51-4177-4949-8c82-bc1491e01dde",
   "metadata": {},
   "outputs": [],
   "source": [
    "import numpy as np\n",
    "import itertools\n",
    "from timeit import default_timer as timer"
   ]
  },
  {
   "cell_type": "code",
   "execution_count": 2,
   "id": "57ac3de5-52ec-4a08-b420-2b770d8ed902",
   "metadata": {},
   "outputs": [],
   "source": [
    "def get_input(name):\n",
    "    with open(f'{name}.txt') as f:\n",
    "        return f.read()"
   ]
  },
  {
   "cell_type": "markdown",
   "id": "11ed4cf4-5a91-4c2e-9d5f-3ce743b14400",
   "metadata": {},
   "source": [
    "# Part 1"
   ]
  },
  {
   "cell_type": "code",
   "execution_count": 32,
   "id": "d5c9d106-4b74-4f5d-a7e6-ab6f7b59f01b",
   "metadata": {},
   "outputs": [],
   "source": [
    "class Rock:\n",
    "    rock_shapes = [ \n",
    "        [[3, 3, 3, 3], [0, 1, 2, 3]], # I, lying down\n",
    "        [[1, 2, 2, 2, 3], [1, 0, 1, 2, 1]], # plus\n",
    "        [[1, 2, 3, 3, 3], [2, 2, 2, 1, 0]], # backwards L\n",
    "        [[0, 1, 2, 3], [0, 0, 0, 0]] , # I, standing up\n",
    "        [[2, 2, 3, 3], [0, 1, 0, 1]]  , # box\n",
    "          ]\n",
    "    rock_heights = [1, 3, 3, 4, 2]\n",
    "    \n",
    "    def __init__(self, y, rock_shape):\n",
    "        self.x = 2\n",
    "        self.y = y\n",
    "        self.shape = rock_shape\n",
    "    \n",
    "    def max_y(self):\n",
    "        return self.y + HITBOX_SIZE - self.rock_heights[self.shape]\n",
    "         \n",
    "    def image(self):\n",
    "        return zip(*self.rock_shapes[self.shape])"
   ]
  },
  {
   "cell_type": "code",
   "execution_count": 33,
   "id": "360bc9ee-57e2-4fa1-8c26-7112a2cdf911",
   "metadata": {},
   "outputs": [],
   "source": [
    "class Cave:\n",
    "    n_rocks = 0\n",
    "    state = 'active'\n",
    "    height_outside_of_view = 0\n",
    "    \n",
    "    \n",
    "    def __init__(self, height, width, rock_limit, jet_streams):\n",
    "        self.height = height\n",
    "        self.current_height = height\n",
    "        self.width = width\n",
    "        self.field = np.zeros([height+1, width+2])\n",
    "        # self.field[:, 0] = 1\n",
    "        # self.field[:, -1] = 1\n",
    "        # self.field[-1, :] = 1\n",
    "        self.rock_limit = rock_limit\n",
    "        self.rock_cycle = itertools.cycle([0, 1, 2, 3, 4])\n",
    "        self.jet_cycle = itertools.cycle(jet_streams)\n",
    "          \n",
    "    def intersects(self):\n",
    "        intersection = False\n",
    "        for i,j in self.rock.image():\n",
    "            if i + self.rock.y > self.height - 1 or \\\n",
    "                    j + self.rock.x > self.width - 1 or \\\n",
    "                    j + self.rock.x < 0 or \\\n",
    "                    self.field[i + self.rock.y][j + self.rock.x] > 0:\n",
    "                intersection = True\n",
    "        return intersection\n",
    "    \n",
    "#     def intersects(self):\n",
    "#         intersection = False\n",
    "#         for i,j in self.rock.image():\n",
    "#             if self.field[i + self.rock.y][j + self.rock.x]:\n",
    "#                 intersection = True\n",
    "#         return intersection    \n",
    "    \n",
    "    def new_rock(self):\n",
    "        self.rock = Rock(self.current_height - HITBOX_SIZE - 3, next(self.rock_cycle))\n",
    "        \n",
    "    def freeze(self):\n",
    "        for i,j in self.rock.image():\n",
    "            self.field[i + self.rock.y][j + self.rock.x] = 1\n",
    "        \n",
    "        self.n_rocks += 1\n",
    "        self.current_height = min(self.current_height, self.rock.max_y())\n",
    "        \n",
    "        if self.current_height < 2*HITBOX_SIZE:\n",
    "            self.update_field()\n",
    "            \n",
    "        if self.n_rocks == self.rock_limit:\n",
    "            self.state = 'finished'\n",
    "        else:\n",
    "            self.new_rock()\n",
    "            \n",
    "    def fall_down(self):\n",
    "        self.rock.y += 1\n",
    "        if self.intersects():\n",
    "            self.rock.y -= 1\n",
    "            self.freeze()\n",
    "\n",
    "    def go_side(self):\n",
    "        dx = -1 if next(self.jet_cycle) == '<' else 1\n",
    "        old_x = self.rock.x\n",
    "        self.rock.x += dx\n",
    "        if self.intersects():\n",
    "            self.rock.x = old_x\n",
    "    \n",
    "    \n",
    "    def get_col_heights(self):\n",
    "        nz = np.argwhere(self.field)\n",
    "        lowest_y_for_x = np.zeros(CAVE_WIDTH)\n",
    "        for x in range(CAVE_WIDTH):\n",
    "            if x in (cols_w_x := nz[:, 1]):\n",
    "                lowest_y_for_x[x] = nz[cols_w_x == x][:,0].min()\n",
    "            else: \n",
    "                lowest_y_for_x[x] = self.height\n",
    "        return lowest_y_for_x\n",
    "    \n",
    "    def update_field(self):\n",
    "        lowest_y_for_x = self.get_col_heights()\n",
    "        maxy = lowest_y_for_x.max()\n",
    "\n",
    "        to_roll = int(self.height - maxy)\n",
    "        self.field = np.roll(self.field, to_roll, axis=0)\n",
    "        self.field[:to_roll, :] = 0\n",
    "        \n",
    "        self.height_outside_of_view += to_roll\n",
    "        self.current_height += to_roll \n",
    "        \n",
    "    def get_total_height(self):\n",
    "        return self.height_outside_of_view + self.height - self.current_height"
   ]
  },
  {
   "cell_type": "code",
   "execution_count": 34,
   "id": "c504cc18-58f5-4517-8f4a-cea1adb9a836",
   "metadata": {},
   "outputs": [],
   "source": [
    "def run_cave_sim(max_height, CAVE_WIDTH, max_rocks, jet_streams):\n",
    "    c = Cave(max_height, CAVE_WIDTH, max_rocks, jet_streams)\n",
    "    c.new_rock()\n",
    "    while not c.state == 'finished':\n",
    "        c.go_side()\n",
    "        c.fall_down()\n",
    "    return c"
   ]
  },
  {
   "cell_type": "code",
   "execution_count": 35,
   "id": "85088984-95e0-485a-a02b-5e56ff597fc6",
   "metadata": {},
   "outputs": [],
   "source": [
    "CAVE_WIDTH = 7\n",
    "HITBOX_SIZE = 4\n",
    "rock_limit = 2022\n",
    "max_height = 1500*HITBOX_SIZE\n",
    "\n",
    "jet_streams = get_input('test')\n",
    "\n",
    "c = run_cave_sim(max_height, CAVE_WIDTH, rock_limit, jet_streams)"
   ]
  },
  {
   "cell_type": "code",
   "execution_count": 36,
   "id": "9f75703d-5682-48e8-8c0f-b5989ce1b4e2",
   "metadata": {},
   "outputs": [
    {
     "data": {
      "text/plain": [
       "3068"
      ]
     },
     "execution_count": 36,
     "metadata": {},
     "output_type": "execute_result"
    }
   ],
   "source": [
    "c.get_total_height()"
   ]
  },
  {
   "cell_type": "code",
   "execution_count": null,
   "id": "5670b2ac-bc22-412e-ae1b-78ea5b3f74ac",
   "metadata": {
    "tags": []
   },
   "outputs": [],
   "source": [
    "CRT = ''''''\n",
    "for row in c.field:\n",
    "    if any(row):\n",
    "        CRT += '|'\n",
    "        for pt in row:        \n",
    "            CRT += '#' if pt else '.'\n",
    "        CRT += '|\\n'\n",
    "print(CRT)"
   ]
  },
  {
   "cell_type": "code",
   "execution_count": 8,
   "id": "01efc91d-62e0-4a1e-b0a5-429d76f977a1",
   "metadata": {},
   "outputs": [],
   "source": [
    "%load_ext line_profiler"
   ]
  },
  {
   "cell_type": "code",
   "execution_count": 37,
   "id": "b4a1da83-87cd-4188-9145-80a531ca7b1b",
   "metadata": {},
   "outputs": [
    {
     "data": {
      "text/plain": [
       "Timer unit: 1e-07 s\n",
       "\n",
       "Total time: 7.90848 s\n",
       "File: C:\\Users\\a336214\\AppData\\Local\\Temp\\ipykernel_29020\\2398074894.py\n",
       "Function: intersects at line 19\n",
       "\n",
       "Line #      Hits         Time  Per Hit   % Time  Line Contents\n",
       "==============================================================\n",
       "    19                                               def intersects(self):\n",
       "    20   1142842    1752891.0      1.5      2.2          intersection = False\n",
       "    21   4948506   15555189.0      3.1     19.7          for i,j in self.rock.image():\n",
       "    22   4948502   13135093.0      2.7     16.6              if i + self.rock.y > self.height - 1 or \\\n",
       "    23   4911358   12107860.0      2.5     15.3                      j + self.rock.x > self.width - 1 or \\\n",
       "    24   4828499   10289230.0      2.1     13.0                      j + self.rock.x < 0 or \\\n",
       "    25   4651369   23968424.0      5.2     30.3                      self.field[i + self.rock.y][j + self.rock.x] > 0:\n",
       "    26    297137     570784.0      1.9      0.7                  intersection = True\n",
       "    27   1142842    1705281.0      1.5      2.2          return intersection"
      ]
     },
     "metadata": {},
     "output_type": "display_data"
    }
   ],
   "source": [
    "CAVE_WIDTH = 7\n",
    "HITBOX_SIZE = 4\n",
    "rock_limit = 100000\n",
    "max_height = 1500*HITBOX_SIZE\n",
    "\n",
    "jet_streams = get_input('test')\n",
    "\n",
    "%lprun -f Cave.intersects run_cave_sim(max_height, CAVE_WIDTH, rock_limit, jet_streams)"
   ]
  },
  {
   "cell_type": "code",
   "execution_count": 115,
   "id": "0f70ed32-fba9-43dd-af3c-5913a66e4fd2",
   "metadata": {},
   "outputs": [
    {
     "data": {
      "text/plain": [
       "Timer unit: 1e-07 s\n",
       "\n",
       "Total time: 41.7057 s\n",
       "File: C:\\Users\\a336214\\AppData\\Local\\Temp\\ipykernel_28100\\3793717076.py\n",
       "Function: intersects at line 17\n",
       "\n",
       "Line #      Hits         Time  Per Hit   % Time  Line Contents\n",
       "==============================================================\n",
       "    17                                               def intersects(self):\n",
       "    18   1142842    3760005.0      3.3      0.9          intersection = False\n",
       "    19   4571368   19281059.0      4.2      4.6          for i in range(HITBOX_SIZE):\n",
       "    20  18285472   82973506.0      4.5     19.9              for j in range(HITBOX_SIZE):\n",
       "    21  13336966  162460631.0     12.2     39.0                  if i * HITBOX_SIZE + j in self.rock.image():\n",
       "    22   4948502   27550692.0      5.6      6.6                      if i + self.rock.y > self.height - 1 or \\\n",
       "    23   4911358   24135215.0      4.9      5.8                              j + self.rock.x > self.width - 1 or \\\n",
       "    24   4828499   21121232.0      4.4      5.1                              j + self.rock.x < 0 or \\\n",
       "    25   4651369   70957706.0     15.3     17.0                              self.field[i + self.rock.y][j + self.rock.x] > 0:\n",
       "    26    297137    1228286.0      4.1      0.3                          intersection = True\n",
       "    27   1142842    3588668.0      3.1      0.9          return intersection"
      ]
     },
     "metadata": {},
     "output_type": "display_data"
    }
   ],
   "source": [
    "CAVE_WIDTH = 7\n",
    "HITBOX_SIZE = 4\n",
    "rock_limit = 100000\n",
    "max_height = 1500*HITBOX_SIZE\n",
    "\n",
    "jet_streams = get_input('test')\n",
    "\n",
    "%lprun -f Cave.intersects run_cave_sim(max_height, CAVE_WIDTH, rock_limit, jet_streams)"
   ]
  },
  {
   "cell_type": "code",
   "execution_count": 18,
   "id": "cec5c772-aa04-45d2-b76a-25ef1a47f93e",
   "metadata": {
    "tags": []
   },
   "outputs": [],
   "source": [
    "times = []\n",
    "for rock_limit in [1, 10, 100, 1000, 10000, 100000]:\n",
    "    if c in locals():\n",
    "        del c\n",
    "    t0 = timer()\n",
    "    CAVE_WIDTH = 7\n",
    "    HITBOX_SIZE = 4\n",
    "    # rock_limit = 1000000000000\n",
    "    max_height = 2500*HITBOX_SIZE\n",
    "\n",
    "    jet_streams = get_input('test')\n",
    "\n",
    "    c = run_cave_sim(max_height, CAVE_WIDTH, rock_limit, jet_streams)\n",
    "    times.append(timer()-t0)"
   ]
  },
  {
   "cell_type": "code",
   "execution_count": 19,
   "id": "685dcd26-a669-46d9-b047-cfcd7bdf72c6",
   "metadata": {},
   "outputs": [
    {
     "data": {
      "text/plain": [
       "[0.00047600000002034903,\n",
       " 0.0008498999999915213,\n",
       " 0.006065000000006648,\n",
       " 0.0385928999999976,\n",
       " 0.30672930000000065,\n",
       " 3.025119999999987]"
      ]
     },
     "execution_count": 19,
     "metadata": {},
     "output_type": "execute_result"
    }
   ],
   "source": [
    "times"
   ]
  },
  {
   "cell_type": "code",
   "execution_count": 107,
   "id": "1c809e13-d5f0-42da-bf22-0a012c21f553",
   "metadata": {},
   "outputs": [
    {
     "data": {
      "text/plain": [
       "[0.008702499999799329,\n",
       " 0.0012867000000369444,\n",
       " 0.00917059999983394,\n",
       " 0.0826563000000533,\n",
       " 0.7166383999997379,\n",
       " 7.264314699999886]"
      ]
     },
     "execution_count": 107,
     "metadata": {},
     "output_type": "execute_result"
    }
   ],
   "source": [
    "times"
   ]
  },
  {
   "cell_type": "code",
   "execution_count": null,
   "id": "dd4f4328-3637-429f-baae-79bb060484a8",
   "metadata": {},
   "outputs": [],
   "source": [
    "# 13 years runtime. Probably need to find another way"
   ]
  },
  {
   "cell_type": "code",
   "execution_count": null,
   "id": "268c30ef-a874-4ec4-9a3d-faa259429744",
   "metadata": {
    "tags": []
   },
   "outputs": [],
   "source": [
    "CRT = ''''''\n",
    "for row in c.field:\n",
    "    if any(row):\n",
    "        CRT += '|'\n",
    "        for pt in row:        \n",
    "            CRT += '#' if pt else '.'\n",
    "        CRT += '|\\n'\n",
    "print(CRT)"
   ]
  },
  {
   "cell_type": "markdown",
   "id": "0ddbe99f-b40d-4db1-a33d-6a5d529da55a",
   "metadata": {},
   "source": [
    "# Part 2"
   ]
  },
  {
   "cell_type": "code",
   "execution_count": null,
   "id": "01f4a6ee-3827-47b8-abaf-7102a7e27fc5",
   "metadata": {},
   "outputs": [],
   "source": []
  }
 ],
 "metadata": {
  "kernelspec": {
   "display_name": "Python 3 (ipykernel)",
   "language": "python",
   "name": "python3"
  },
  "language_info": {
   "codemirror_mode": {
    "name": "ipython",
    "version": 3
   },
   "file_extension": ".py",
   "mimetype": "text/x-python",
   "name": "python",
   "nbconvert_exporter": "python",
   "pygments_lexer": "ipython3",
   "version": "3.9.15"
  }
 },
 "nbformat": 4,
 "nbformat_minor": 5
}
