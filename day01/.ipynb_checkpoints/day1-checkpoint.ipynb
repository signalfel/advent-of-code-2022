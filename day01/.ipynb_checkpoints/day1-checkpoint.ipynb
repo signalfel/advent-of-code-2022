{
 "cells": [
  {
   "cell_type": "code",
   "execution_count": null,
   "id": "d55ffff0-25e4-4b7a-8326-744c215fff4c",
   "metadata": {},
   "outputs": [],
   "source": [
    "name = 'input'\n",
    "\n",
    "with open(f'{name}.txt') as f:\n",
    "    x = f.read().split('\\n')"
   ]
  },
  {
   "cell_type": "markdown",
   "id": "83b9661e-94a8-4996-8264-4c1acd3f8ed1",
   "metadata": {},
   "source": [
    "## Part 1"
   ]
  },
  {
   "cell_type": "code",
   "execution_count": null,
   "id": "3ba359a5-e30e-415e-b043-ad138e01e770",
   "metadata": {},
   "outputs": [],
   "source": [
    "elves = []\n",
    "elf_sum = 0\n",
    "for calory in x:\n",
    "    if calory == '':\n",
    "        elves.append(elf_sum)\n",
    "        elf_sum = 0\n",
    "    else:\n",
    "        elf_sum += int(calory)\n",
    "\n",
    "print(max(elves))"
   ]
  },
  {
   "cell_type": "markdown",
   "id": "d5c7fd9d-c392-4c1b-8fd8-910c4597e90d",
   "metadata": {},
   "source": [
    "## Part 2"
   ]
  },
  {
   "cell_type": "code",
   "execution_count": null,
   "id": "ed949167-f45b-4686-b8e6-45b79861a11a",
   "metadata": {},
   "outputs": [],
   "source": [
    "print(sum(sorted(elves)[-3:]))"
   ]
  }
 ],
 "metadata": {
  "kernelspec": {
   "display_name": "Python 3 (ipykernel)",
   "language": "python",
   "name": "python3"
  },
  "language_info": {
   "codemirror_mode": {
    "name": "ipython",
    "version": 3
   },
   "file_extension": ".py",
   "mimetype": "text/x-python",
   "name": "python",
   "nbconvert_exporter": "python",
   "pygments_lexer": "ipython3",
   "version": "3.9.15"
  }
 },
 "nbformat": 4,
 "nbformat_minor": 5
}
