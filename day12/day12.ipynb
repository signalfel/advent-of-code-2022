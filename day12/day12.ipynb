{
 "cells": [
  {
   "cell_type": "code",
   "execution_count": 4,
   "id": "d8637a49-badf-41cf-aff9-d1264ef634e7",
   "metadata": {},
   "outputs": [],
   "source": [
    "import itertools\n",
    "import heapq\n",
    "import numpy as np"
   ]
  },
  {
   "cell_type": "code",
   "execution_count": 5,
   "id": "cf360fb3-11de-49ae-a709-38bcfbba01e5",
   "metadata": {},
   "outputs": [],
   "source": [
    "def get_input(name):\n",
    "    with open(f'{name}.txt') as f:\n",
    "        return f.read().split('\\n')"
   ]
  },
  {
   "cell_type": "code",
   "execution_count": 9,
   "id": "e26865c4-e3a5-4599-bbb3-501cbbfa28b8",
   "metadata": {},
   "outputs": [],
   "source": [
    "\n",
    "class Tile():\n",
    "    def __init__(self, y, x):\n",
    "        self.x = x\n",
    "        self.y = y\n",
    "        self.parent = None\n",
    "        self.G = np.inf\n",
    "        self.F = np.inf\n",
    "        self.H = np.inf\n",
    "          \n",
    "    def __repr__(self):\n",
    "        return f'({self.y}, {self.x})'\n",
    "\n",
    "def generate_graph(rowmaze):\n",
    "    tiles = {(y,x): Tile(y,x) for y,x in itertools.product(range(len(rowmaze)), range(len(rowmaze[0])))}\n",
    "    graph = {}\n",
    "    for y,row in enumerate(rowmaze):\n",
    "        for x,current_height in enumerate(row):\n",
    "                   \n",
    "            children = []\n",
    "            for direction in [(0, -1), (0, 1), (-1, 0), (1, 0)]: # Adjacent squares\n",
    "                new_tile = (y + direction[0],\n",
    "                            x + direction[1])\n",
    "                \n",
    "                if (new_tile[0] > len(rowmaze) - 1) or (new_tile[0] < 0) or (new_tile[1] > len(rowmaze[len(rowmaze)-1]) - 1) or (new_tile[1] < 0):\n",
    "                    continue\n",
    "                \n",
    "                node_height = rowmaze[new_tile[0]][new_tile[1]]\n",
    "                if (ord(node_height) - ord(current_height)) > 1:\n",
    "                    continue\n",
    "                \n",
    "                children.append(tiles[new_tile[0], new_tile[1]])\n",
    "            \n",
    "            graph.update({tiles[(y,x)]: children})\n",
    "    return graph, tiles\n",
    "\n",
    "            \n",
    "def aStar(graph, current, end):\n",
    "    openSet = set()\n",
    "    openHeap = []\n",
    "    \n",
    "    def get_heuristic(t):\n",
    "        return abs(end.x - t.x) + abs(end.y - t.y)\n",
    "    \n",
    "    def retracePath(c):\n",
    "        path = [c]\n",
    "        while c.parent is not None:\n",
    "            c = c.parent\n",
    "            path.append(c)\n",
    "        path.reverse()\n",
    "        return path\n",
    "    \n",
    "    current.G = 0\n",
    "    current.H = get_heuristic(current)\n",
    "    current.F = current.G + current.H\n",
    "    \n",
    "    openSet.add(current)\n",
    "    openHeap.append((0, id(current), current))\n",
    "    \n",
    "    while openSet:\n",
    "        current = heapq.heappop(openHeap)[2]\n",
    "        if current == end:\n",
    "            return retracePath(current)\n",
    "        \n",
    "        openSet.remove(current)\n",
    "        for tile in graph[current]:\n",
    "            \n",
    "            tentative_g = current.G + 1                \n",
    "            if tentative_g < tile.G:\n",
    "                tile.parent = current\n",
    "                tile.G = tentative_g\n",
    "                tile.H = get_heuristic(tile)\n",
    "                tile.F = tile.G + tile.H\n",
    "                if tile not in openSet:\n",
    "                    openSet.add(tile)\n",
    "                    heapq.heappush(openHeap, (tile.F, id(tile), tile))\n",
    "    return []\n",
    "\n",
    "def find_point(pt,rowmaze):\n",
    "    for irow,row in enumerate(rowmaze):\n",
    "        try:\n",
    "            j = row.index(pt)\n",
    "            i = irow\n",
    "        except ValueError:\n",
    "            continue\n",
    "    return i,j"
   ]
  },
  {
   "cell_type": "markdown",
   "id": "e0ffec95-0a6b-4d25-989c-cf9e64c57340",
   "metadata": {
    "tags": []
   },
   "source": [
    "## Part 1"
   ]
  },
  {
   "cell_type": "code",
   "execution_count": 10,
   "id": "be870d26-c575-46e6-a5a7-6023b392d271",
   "metadata": {
    "tags": []
   },
   "outputs": [
    {
     "name": "stdout",
     "output_type": "stream",
     "text": [
      "517\n"
     ]
    }
   ],
   "source": [
    "rowmaze = get_input('input')\n",
    "\n",
    "start = find_point('S', rowmaze)\n",
    "end = find_point('E', rowmaze)\n",
    "\n",
    "rowmaze[start[0]] = rowmaze[start[0]].replace('S', 'a')\n",
    "rowmaze[end[0]] = rowmaze[end[0]].replace('E', 'z')\n",
    "graph, tiles = generate_graph(rowmaze)\n",
    "start_tile = tiles[start]\n",
    "end_tile = tiles[end]\n",
    "\n",
    "path = aStar(graph, start_tile, end_tile)\n",
    "print(len(path)-1)"
   ]
  },
  {
   "cell_type": "markdown",
   "id": "b02c9461-d1b4-4131-8f03-eecd51e6cb1e",
   "metadata": {},
   "source": [
    "## Part 2"
   ]
  },
  {
   "cell_type": "code",
   "execution_count": 11,
   "id": "caca71b4-a4a7-4d67-a042-99f5be1a6b73",
   "metadata": {},
   "outputs": [
    {
     "name": "stdout",
     "output_type": "stream",
     "text": [
      "512\n"
     ]
    }
   ],
   "source": [
    "rowmaze = get_input('input')\n",
    "\n",
    "start = find_point('S', rowmaze)\n",
    "end = find_point('E', rowmaze)\n",
    "\n",
    "rowmaze[start[0]] = rowmaze[start[0]].replace('S', 'a')\n",
    "rowmaze[end[0]] = rowmaze[end[0]].replace('E', 'z')\n",
    "\n",
    "minimum_path_length = np.inf\n",
    "for y in range(len(rowmaze)):\n",
    "    graph, tiles = generate_graph(rowmaze)\n",
    "    start_tile = tiles[(y, 0)]\n",
    "    end_tile = tiles[end]\n",
    "    path = aStar(graph, start_tile, end_tile)\n",
    "    if path:\n",
    "        minimum_path_length = min(len(path), minimum_path_length)\n",
    "print(minimum_path_length - 1)"
   ]
  },
  {
   "cell_type": "markdown",
   "id": "4ebffb0f-7657-4d12-aad0-32af8dfa6288",
   "metadata": {},
   "source": [
    "## Trying with NetworkX"
   ]
  },
  {
   "cell_type": "code",
   "execution_count": 13,
   "id": "18aa75a8-09d5-4e7a-a9f5-df986c641631",
   "metadata": {},
   "outputs": [],
   "source": [
    "import networkx as nx\n",
    "\n",
    "def generate_graph(rowmaze):\n",
    "    graph = nx.DiGraph()\n",
    "    for y,row in enumerate(rowmaze):\n",
    "        for x,current_height in enumerate(row):\n",
    "            \n",
    "            graph.add_node((y,x))       \n",
    "            for direction in [(0, -1), (0, 1), (-1, 0), (1, 0)]: # Adjacent squares\n",
    "                new_tile = (y + direction[1],\n",
    "                            x + direction[0])\n",
    "                \n",
    "                if (new_tile[0] > len(rowmaze) - 1) or (new_tile[0] < 0) or (new_tile[1] > len(rowmaze[0]) - 1) or (new_tile[1] < 0):\n",
    "                    continue\n",
    "                \n",
    "                node_height = rowmaze[new_tile[0]][new_tile[1]]\n",
    "                if (ord(node_height) - ord(current_height)) > 1:\n",
    "                    continue\n",
    "                \n",
    "                graph.add_edge( (y,x), (new_tile[0], new_tile[1]) )\n",
    "    return graph\n",
    "\n",
    "def dist(a, b):\n",
    "    (x1, y1) = a\n",
    "    (x2, y2) = b\n",
    "    return abs(x1 - x2) + abs(y1 - y2)"
   ]
  },
  {
   "cell_type": "markdown",
   "id": "11a6bce2-3afd-4c67-a3f9-af2325fff6eb",
   "metadata": {},
   "source": [
    "### Part 1"
   ]
  },
  {
   "cell_type": "code",
   "execution_count": 15,
   "id": "c821f567-b267-47f0-8f8c-2522e0558e01",
   "metadata": {},
   "outputs": [
    {
     "data": {
      "text/plain": [
       "517"
      ]
     },
     "execution_count": 15,
     "metadata": {},
     "output_type": "execute_result"
    }
   ],
   "source": [
    "rowmaze = get_input('input')\n",
    "\n",
    "start = find_point('S', rowmaze)\n",
    "end = find_point('E', rowmaze)\n",
    "\n",
    "rowmaze[start[0]] = rowmaze[start[0]].replace('S', 'a')\n",
    "rowmaze[end[0]] = rowmaze[end[0]].replace('E', 'z')\n",
    "G = generate_graph(rowmaze)\n",
    "\n",
    "nx.astar_path_length(G, start, end, heuristic=dist)"
   ]
  },
  {
   "cell_type": "markdown",
   "id": "16043577-0a1c-48f5-9731-5e1b658224a8",
   "metadata": {},
   "source": [
    "### Part 2"
   ]
  },
  {
   "cell_type": "code",
   "execution_count": 17,
   "id": "a0ec4745-a103-465f-adcd-aa2dad801b58",
   "metadata": {},
   "outputs": [
    {
     "name": "stdout",
     "output_type": "stream",
     "text": [
      "512\n"
     ]
    }
   ],
   "source": [
    "rowmaze = get_input('input')\n",
    "\n",
    "start = find_point('S', rowmaze)\n",
    "end = find_point('E', rowmaze)\n",
    "\n",
    "rowmaze[start[0]] = rowmaze[start[0]].replace('S', 'a')\n",
    "rowmaze[end[0]] = rowmaze[end[0]].replace('E', 'z')\n",
    "G = generate_graph(rowmaze)\n",
    "\n",
    "sources = [(y,0) for y in range(len(rowmaze))]\n",
    "length, _ = nx.multi_source_dijkstra(G, sources, end)\n",
    "print(length)"
   ]
  }
 ],
 "metadata": {
  "kernelspec": {
   "display_name": "Python 3 (ipykernel)",
   "language": "python",
   "name": "python3"
  },
  "language_info": {
   "codemirror_mode": {
    "name": "ipython",
    "version": 3
   },
   "file_extension": ".py",
   "mimetype": "text/x-python",
   "name": "python",
   "nbconvert_exporter": "python",
   "pygments_lexer": "ipython3",
   "version": "3.9.15"
  }
 },
 "nbformat": 4,
 "nbformat_minor": 5
}
