{
 "cells": [
  {
   "cell_type": "code",
   "execution_count": 1,
   "id": "d67a64f7-9cfa-4c89-9b57-56f911312ca7",
   "metadata": {},
   "outputs": [],
   "source": [
    "import numpy as np"
   ]
  },
  {
   "cell_type": "code",
   "execution_count": 2,
   "id": "cf360fb3-11de-49ae-a709-38bcfbba01e5",
   "metadata": {},
   "outputs": [],
   "source": [
    "name = 'input'\n",
    "\n",
    "with open(f'{name}.txt') as f:\n",
    "    x = f.read().split('\\n')"
   ]
  },
  {
   "cell_type": "code",
   "execution_count": 3,
   "id": "ef2a18d6-bc8d-4786-a671-ea6f272cd632",
   "metadata": {},
   "outputs": [],
   "source": [
    "N = len(x)\n",
    "matstr = ''\n",
    "for row in x:\n",
    "    matstr += ' '.join([c for c in row])\n",
    "    matstr += '; '\n",
    "matr = np.matrix(matstr[:-2])"
   ]
  },
  {
   "cell_type": "markdown",
   "id": "e0ffec95-0a6b-4d25-989c-cf9e64c57340",
   "metadata": {},
   "source": [
    "## Part 1"
   ]
  },
  {
   "cell_type": "code",
   "execution_count": 4,
   "id": "8362fa1f-492f-4986-814b-729ca98eb2cc",
   "metadata": {},
   "outputs": [
    {
     "data": {
      "text/plain": [
       "1859"
      ]
     },
     "execution_count": 4,
     "metadata": {},
     "output_type": "execute_result"
    }
   ],
   "source": [
    "n_visible = 0\n",
    "for i in range(N):\n",
    "    for j in range(N):\n",
    "        if (i in [0, N-1]) or (j in [0, N-1]):\n",
    "            n_visible += 1\n",
    "        else:\n",
    "            current_height = matr[i,j]\n",
    "            if not (matr[i, j+1:] >= current_height).any():\n",
    "                n_visible += 1\n",
    "            elif not (matr[i, :j] >= current_height).any():\n",
    "                n_visible += 1\n",
    "            elif not (matr[i+1:, j] >= current_height).any():\n",
    "                n_visible += 1\n",
    "            elif not (matr[:i, j] >= current_height).any():\n",
    "                n_visible += 1\n",
    "n_visible"
   ]
  },
  {
   "cell_type": "markdown",
   "id": "b02c9461-d1b4-4131-8f03-eecd51e6cb1e",
   "metadata": {},
   "source": [
    "## Part 2"
   ]
  },
  {
   "cell_type": "code",
   "execution_count": 5,
   "id": "ada10add-dcae-4db1-bbab-9819f8a72485",
   "metadata": {},
   "outputs": [
    {
     "data": {
      "text/plain": [
       "332640"
      ]
     },
     "execution_count": 5,
     "metadata": {},
     "output_type": "execute_result"
    }
   ],
   "source": [
    "max_scenic_score = 0\n",
    "for i in range(N):\n",
    "    for j in range(N):\n",
    "        \n",
    "        scenic_score = 1\n",
    "        if (i in [0, N-1]) or (j in [0, N-1]):\n",
    "            scenic_score = 0\n",
    "        else:\n",
    "            current_height = matr[i,j]\n",
    "            \n",
    "            # look right\n",
    "            if not (matr[i, j+1:] >= current_height).any():\n",
    "                scenic_score *= N-1-j\n",
    "            else:\n",
    "                scenic_score *= np.argmax(matr[i, j+1:] >= current_height) + 1\n",
    "            \n",
    "            # look left\n",
    "            if not (matr[i, :j] >= current_height).any():\n",
    "                scenic_score *= j\n",
    "            else:\n",
    "                row = matr[i, :j].A1\n",
    "                scenic_score *= np.argmax(list(reversed(row >= current_height))) + 1\n",
    "            \n",
    "            # look down\n",
    "            if not (matr[i+1:, j] >= current_height).any():\n",
    "                scenic_score *= N-1-i\n",
    "            else:\n",
    "                row = matr[i+1:, j].A1\n",
    "                scenic_score *= np.argmax(matr[i+1:, j] >= current_height) + 1\n",
    "            \n",
    "            # look up\n",
    "            if not (matr[:i, j] >= current_height).any():\n",
    "                scenic_score *= i\n",
    "            else:\n",
    "                row = matr[:i, j].A1\n",
    "                scenic_score *= np.argmax(list(reversed(row >= current_height))) + 1\n",
    "                \n",
    "        max_scenic_score = max(scenic_score, max_scenic_score)\n",
    "            \n",
    "max_scenic_score"
   ]
  }
 ],
 "metadata": {
  "kernelspec": {
   "display_name": "Python 3 (ipykernel)",
   "language": "python",
   "name": "python3"
  },
  "language_info": {
   "codemirror_mode": {
    "name": "ipython",
    "version": 3
   },
   "file_extension": ".py",
   "mimetype": "text/x-python",
   "name": "python",
   "nbconvert_exporter": "python",
   "pygments_lexer": "ipython3",
   "version": "3.9.15"
  }
 },
 "nbformat": 4,
 "nbformat_minor": 5
}
