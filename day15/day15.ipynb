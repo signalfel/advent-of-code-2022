{
 "cells": [
  {
   "cell_type": "code",
   "execution_count": null,
   "id": "c4fe7f51-4177-4949-8c82-bc1491e01dde",
   "metadata": {},
   "outputs": [],
   "source": [
    "import numpy as np\n",
    "import re\n",
    "from timeit import default_timer as timer"
   ]
  },
  {
   "cell_type": "code",
   "execution_count": null,
   "id": "57ac3de5-52ec-4a08-b420-2b770d8ed902",
   "metadata": {},
   "outputs": [],
   "source": [
    "def get_input(name):\n",
    "    with open(f'{name}.txt') as f:\n",
    "        return f.read().split('\\n')"
   ]
  },
  {
   "cell_type": "code",
   "execution_count": null,
   "id": "07eaacf2-f8be-4ab7-ab5c-b7c0c563d9df",
   "metadata": {},
   "outputs": [],
   "source": [
    "class Sensor():\n",
    "    def __init__(self, xs, ys, xb, yb):\n",
    "        self.x = xs\n",
    "        self.y = ys\n",
    "        self.x_beacon = xb\n",
    "        self.y_beacon = yb\n",
    "        \n",
    "        self.d_closest_beacon = self.distance_to(xb, yb)\n",
    "    \n",
    "    def distance_to(self, x, y):\n",
    "        return abs(y - self.y) + abs(x - self.x)\n",
    "    \n",
    "    def points_covered_at_row(self, y):\n",
    "\n",
    "        d_to_row = self.distance_to(self.x, y)\n",
    "        if d_to_row > self.d_closest_beacon:\n",
    "            return set()\n",
    "        else:\n",
    "            points = [(self.x, y)]\n",
    "            \n",
    "            for dx in range(1, self.d_closest_beacon - d_to_row + 1):\n",
    "                points += [(self.x - dx, y), (self.x + dx, y)]\n",
    "            \n",
    "            return set(points)\n",
    "\n",
    "    \n",
    "    def get_edge_points(self, minimum, maximum):\n",
    "        d = self.d_closest_beacon\n",
    "        points = []\n",
    "        for i in range(d + 2):\n",
    "            points += [ (0 + i, d+1 - i), \n",
    "                        (0 + i, -(d+1) + i),\n",
    "                        (0 - i, d+1 - i), \n",
    "                        (0 - i, -(d+1) + i)\n",
    "                        ]\n",
    "        points = list(set(points))\n",
    "\n",
    "        for p in points:\n",
    "            new_x = self.x + p[1]\n",
    "            new_y = self.y + p[0]\n",
    "            if (new_x >= minimum) and (new_x <= maximum) and (new_y >= minimum) and (new_y <= maximum):\n",
    "                yield (new_x, new_y)\n",
    "        \n",
    "    def is_seen(self, point):\n",
    "        return self.distance_to(point[0], point[1]) <= self.d_closest_beacon\n",
    "    \n",
    "    def get_corner_points(self):\n",
    "        return [(self.x, self.y + self.d_closest_beacon),\n",
    "                (self.x, self.y - self.d_closest_beacon),\n",
    "                (self.x + self.d_closest_beacon, self.y),\n",
    "                (self.x - self.d_closest_beacon, self.y)]"
   ]
  },
  {
   "cell_type": "markdown",
   "id": "11ed4cf4-5a91-4c2e-9d5f-3ce743b14400",
   "metadata": {},
   "source": [
    "# Part 1"
   ]
  },
  {
   "cell_type": "code",
   "execution_count": 80,
   "id": "eabfdce3-a01e-41bf-8899-99f73ee97886",
   "metadata": {},
   "outputs": [],
   "source": [
    "x = get_input('input')"
   ]
  },
  {
   "cell_type": "code",
   "execution_count": 81,
   "id": "ba70074e-dff3-419c-a759-9af5c496adb7",
   "metadata": {},
   "outputs": [],
   "source": [
    "sensors = []\n",
    "for s in x:\n",
    "    xs,ys, xb,yb = [int(c) for c in re.findall('=([-+]?[0-9]*)',s)]\n",
    "    sensors.append(Sensor(xs,ys,xb,yb))"
   ]
  },
  {
   "cell_type": "code",
   "execution_count": 113,
   "id": "a8c05846-c81b-4925-9351-d92b2085cee4",
   "metadata": {},
   "outputs": [],
   "source": [
    "points_covered = set()\n",
    "beacons = set()\n",
    "row = 2000000\n",
    "for sensor in sensors:\n",
    "    beacons = beacons.union( set( [(sensor.x_beacon, sensor.y_beacon)] ) )\n",
    "    points_covered = points_covered.union( sensor.points_covered_at_row(row) )"
   ]
  },
  {
   "cell_type": "code",
   "execution_count": 110,
   "id": "32addb13-9098-4ab4-b3c5-e4d98da1ef32",
   "metadata": {},
   "outputs": [
    {
     "data": {
      "text/plain": [
       "4879972"
      ]
     },
     "execution_count": 110,
     "metadata": {},
     "output_type": "execute_result"
    }
   ],
   "source": [
    "len(points_covered.difference(beacons))"
   ]
  },
  {
   "cell_type": "markdown",
   "id": "0ddbe99f-b40d-4db1-a33d-6a5d529da55a",
   "metadata": {},
   "source": [
    "# Part 2"
   ]
  },
  {
   "cell_type": "code",
   "execution_count": 87,
   "id": "b42d0a58-99f6-479a-ab0d-20acc2d1f7ae",
   "metadata": {},
   "outputs": [],
   "source": [
    "x = get_input('input')"
   ]
  },
  {
   "cell_type": "code",
   "execution_count": 88,
   "id": "73c00c3e-3618-4c1d-b3e8-0ba0318ff230",
   "metadata": {},
   "outputs": [],
   "source": [
    "sensors = []\n",
    "for s in x:\n",
    "    xs,ys, xb,yb = [int(c) for c in re.findall('=([-+]?[0-9]*)',s)]\n",
    "    sensors.append(Sensor(xs,ys,xb,yb))"
   ]
  },
  {
   "cell_type": "code",
   "execution_count": 89,
   "id": "e9c00035-b04a-4d71-bfb0-470aec33b080",
   "metadata": {},
   "outputs": [
    {
     "name": "stdout",
     "output_type": "stream",
     "text": [
      "5.01 min\n"
     ]
    }
   ],
   "source": [
    "t0 = timer()\n",
    "for sensor in sensors:\n",
    "    \n",
    "    for p in sensor.get_edge_points(0, 4000000):\n",
    "        seen = False\n",
    "        for sensor in sensors:\n",
    "            if sensor.is_seen(p):\n",
    "                seen = True\n",
    "                break\n",
    "\n",
    "        if not seen:\n",
    "            target = p\n",
    "print(f'{(timer()-t0)/60:.2f} min')"
   ]
  },
  {
   "cell_type": "code",
   "execution_count": 90,
   "id": "88986ea2-f0cc-4bc3-b8b9-c7995daed94e",
   "metadata": {},
   "outputs": [
    {
     "name": "stdout",
     "output_type": "stream",
     "text": [
      "12525726647448\n"
     ]
    }
   ],
   "source": [
    "print(target[0]*4000000 + target[1])"
   ]
  },
  {
   "cell_type": "code",
   "execution_count": 91,
   "id": "1e3e36e9-409c-4a8a-91a2-3d82571d565a",
   "metadata": {},
   "outputs": [
    {
     "data": {
      "text/plain": [
       "(3131431, 2647448)"
      ]
     },
     "execution_count": 91,
     "metadata": {},
     "output_type": "execute_result"
    }
   ],
   "source": [
    "target"
   ]
  },
  {
   "cell_type": "markdown",
   "id": "3fdb5c92-9b78-4bd4-9282-281de32d8b95",
   "metadata": {},
   "source": [
    "# Part 2 with line intersects"
   ]
  },
  {
   "cell_type": "code",
   "execution_count": 98,
   "id": "6aaaa5ff-c65e-4dc7-8c84-62f3634b1686",
   "metadata": {},
   "outputs": [],
   "source": [
    "x = get_input('test')"
   ]
  },
  {
   "cell_type": "code",
   "execution_count": 99,
   "id": "f70bec42-79ff-4a8a-9b7e-96192c9815df",
   "metadata": {},
   "outputs": [],
   "source": [
    "sensors = []\n",
    "for s in x:\n",
    "    xs,ys, xb,yb = [int(c) for c in re.findall('=([-+]?[0-9]*)',s)]\n",
    "    sensors.append(Sensor(xs,ys,xb,yb))"
   ]
  },
  {
   "cell_type": "code",
   "execution_count": 100,
   "id": "687bde71-e5b2-4182-9668-13bd2e9bb08f",
   "metadata": {},
   "outputs": [],
   "source": [
    "def add(tuple1, tuple2):\n",
    "    return tuple(map(lambda x, y: x + y, tuple1, tuple2))\n",
    "\n",
    "def line(p1, p2):\n",
    "    A = (p1[1] - p2[1])\n",
    "    B = (p2[0] - p1[0])\n",
    "    C = (p1[0]*p2[1] - p2[0]*p1[1])\n",
    "    return A, B, -C\n",
    "\n",
    "def intersection(L1, L2):\n",
    "    D  = L1[0] * L2[1] - L1[1] * L2[0]\n",
    "    Dx = L1[2] * L2[1] - L1[1] * L2[2]\n",
    "    Dy = L1[0] * L2[2] - L1[2] * L2[0]\n",
    "    if D != 0:\n",
    "        x = Dx / D\n",
    "        y = Dy / D\n",
    "        return int(x), int(y)\n",
    "    else:\n",
    "        return False"
   ]
  },
  {
   "cell_type": "code",
   "execution_count": 93,
   "id": "e7b8b04e-69f0-4db8-b8b7-a840ecdd447e",
   "metadata": {},
   "outputs": [],
   "source": [
    "tr = (3131431, 2647448)"
   ]
  },
  {
   "cell_type": "code",
   "execution_count": 106,
   "id": "8b1244d9-c8d4-4039-b357-99f5fd5fa9bc",
   "metadata": {},
   "outputs": [
    {
     "name": "stdout",
     "output_type": "stream",
     "text": [
      "56000011\n"
     ]
    }
   ],
   "source": [
    "def allowed(p, mini, maxi):\n",
    "    return ((max(p) <= maxi) & (min(p) >= mini))\n",
    "\n",
    "lines = []\n",
    "for sensor in sensors:\n",
    "    corners = sensor.get_corner_points()\n",
    "    for c1,c2 in zip(corners, corners[1:]+[corners[0]]):\n",
    "        lines.append(line(c1, c2))\n",
    "\n",
    "overlaps = []\n",
    "for L1, L2 in itertools.combinations(lines, 2):\n",
    "    if (pt := intersection(L1, L2)):\n",
    "        overlaps.append(pt)\n",
    "\n",
    "for pt in overlaps:\n",
    "    for d in [(0,1), (0,-1), (1,0), (-1,0)]:\n",
    "        nei = add(pt, d)\n",
    "        # 4000000\n",
    "        if allowed(nei, 0, 20):\n",
    "            seen = False\n",
    "            for sensor in sensors:\n",
    "                if sensor.is_seen(nei):\n",
    "                    seen = True\n",
    "                    break\n",
    "\n",
    "            if not seen:\n",
    "                target = nei\n",
    "                \n",
    "print(target[0]*4000000 + target[1])"
   ]
  },
  {
   "cell_type": "code",
   "execution_count": 107,
   "id": "88e87a68-4ed2-4cc9-b735-53600827d1b5",
   "metadata": {},
   "outputs": [
    {
     "data": {
      "text/plain": [
       "(14, 11)"
      ]
     },
     "execution_count": 107,
     "metadata": {},
     "output_type": "execute_result"
    }
   ],
   "source": [
    "target"
   ]
  },
  {
   "cell_type": "code",
   "execution_count": 102,
   "id": "7178324a-761b-4736-8d47-8ac9432be62a",
   "metadata": {},
   "outputs": [],
   "source": [
    "def manhattan(p1, p2):\n",
    "    return abs(p2[1] - p1[1]) + abs(p2[0] - p1[0])"
   ]
  },
  {
   "cell_type": "code",
   "execution_count": 110,
   "id": "43096f50-a010-433d-bc8f-2da306f9580f",
   "metadata": {},
   "outputs": [],
   "source": [
    "# for ol in overlaps:\n",
    "#     print(manhattan(ol, target))"
   ]
  },
  {
   "cell_type": "code",
   "execution_count": 78,
   "id": "64879d75-61c7-4823-81fe-403a2bbfd853",
   "metadata": {},
   "outputs": [],
   "source": [
    "l1 = line((0,1), (0,2))"
   ]
  },
  {
   "cell_type": "code",
   "execution_count": 80,
   "id": "9a544e34-55cb-4caf-a240-e3ed3d6f3fcd",
   "metadata": {},
   "outputs": [],
   "source": [
    "l2 = line((0, 5), (0, 6))"
   ]
  },
  {
   "cell_type": "code",
   "execution_count": 82,
   "id": "ca1c90c4-325a-4728-846c-62291df498d0",
   "metadata": {},
   "outputs": [
    {
     "data": {
      "text/plain": [
       "False"
      ]
     },
     "execution_count": 82,
     "metadata": {},
     "output_type": "execute_result"
    }
   ],
   "source": [
    "intersection(l1, l2)"
   ]
  }
 ],
 "metadata": {
  "kernelspec": {
   "display_name": "Python 3 (ipykernel)",
   "language": "python",
   "name": "python3"
  },
  "language_info": {
   "codemirror_mode": {
    "name": "ipython",
    "version": 3
   },
   "file_extension": ".py",
   "mimetype": "text/x-python",
   "name": "python",
   "nbconvert_exporter": "python",
   "pygments_lexer": "ipython3",
   "version": "3.9.15"
  }
 },
 "nbformat": 4,
 "nbformat_minor": 5
}
