{
 "cells": [
  {
   "cell_type": "code",
   "execution_count": 42,
   "id": "c4fe7f51-4177-4949-8c82-bc1491e01dde",
   "metadata": {},
   "outputs": [],
   "source": [
    "import numpy as np\n",
    "import re"
   ]
  },
  {
   "cell_type": "code",
   "execution_count": 43,
   "id": "57ac3de5-52ec-4a08-b420-2b770d8ed902",
   "metadata": {},
   "outputs": [],
   "source": [
    "def get_input(name):\n",
    "    with open(f'{name}.txt') as f:\n",
    "        return f.read().split('\\n')"
   ]
  },
  {
   "cell_type": "code",
   "execution_count": 157,
   "id": "07eaacf2-f8be-4ab7-ab5c-b7c0c563d9df",
   "metadata": {},
   "outputs": [],
   "source": [
    "class Sensor():\n",
    "    def __init__(self, xs, ys, xb, yb):\n",
    "        self.x = xs\n",
    "        self.y = ys\n",
    "        self.x_beacon = xb\n",
    "        self.y_beacon = yb\n",
    "        \n",
    "        self.d_closest_beacon = self.distance_to(xb, yb)\n",
    "    \n",
    "    def distance_to(self, x, y):\n",
    "        return abs(y - self.y) + abs(x - self.x)\n",
    "    \n",
    "    def points_covered_at_row(self, y):\n",
    "\n",
    "        d_to_row = self.distance_to(self.x, y)\n",
    "        if d_to_row > self.d_closest_beacon:\n",
    "            return set()\n",
    "        else:\n",
    "            points = [(self.x, y)]\n",
    "            \n",
    "            for dx in range(1, self.d_closest_beacon - d_to_row + 1):\n",
    "                points += [(self.x - dx, y), (self.x + dx, y)]\n",
    "            \n",
    "            return set(points)\n",
    "\n",
    "    \n",
    "    def get_edge_points(self, minimum, maximum):\n",
    "        d = self.d_closest_beacon\n",
    "        points = []\n",
    "        for i in range(d + 2):\n",
    "            points += [ (0 + i, d+1 - i), \n",
    "                        (0 + i, -(d+1) + i),\n",
    "                        (0 - i, d+1 - i), \n",
    "                        (0 - i, -(d+1) + i)\n",
    "                        ]\n",
    "        points = list(set(points))\n",
    "\n",
    "        for p in points:\n",
    "            new_x = self.x + p[1]\n",
    "            new_y = self.y + p[0]\n",
    "            if (new_x >= minimum) and (new_x <= maximum) and (new_y >= minimum) and (new_y <= maximum):\n",
    "                yield (new_x, new_y)\n",
    "        \n",
    "    def is_seen(self, point):\n",
    "        return self.distance_to(point[0], point[1]) <= self.d_closest_beacon"
   ]
  },
  {
   "cell_type": "markdown",
   "id": "11ed4cf4-5a91-4c2e-9d5f-3ce743b14400",
   "metadata": {},
   "source": [
    "# Part 1"
   ]
  },
  {
   "cell_type": "code",
   "execution_count": 80,
   "id": "eabfdce3-a01e-41bf-8899-99f73ee97886",
   "metadata": {},
   "outputs": [],
   "source": [
    "x = get_input('input')"
   ]
  },
  {
   "cell_type": "code",
   "execution_count": 81,
   "id": "ba70074e-dff3-419c-a759-9af5c496adb7",
   "metadata": {},
   "outputs": [],
   "source": [
    "sensors = []\n",
    "for s in x:\n",
    "    xs,ys, xb,yb = [int(c) for c in re.findall('=([-+]?[0-9]*)',s)]\n",
    "    sensors.append(Sensor(xs,ys,xb,yb))"
   ]
  },
  {
   "cell_type": "code",
   "execution_count": 113,
   "id": "a8c05846-c81b-4925-9351-d92b2085cee4",
   "metadata": {},
   "outputs": [],
   "source": [
    "points_covered = set()\n",
    "beacons = set()\n",
    "row = 2000000\n",
    "for sensor in sensors:\n",
    "    beacons = beacons.union( set( [(sensor.x_beacon, sensor.y_beacon)] ) )\n",
    "    points_covered = points_covered.union( sensor.points_covered_at_row(row) )"
   ]
  },
  {
   "cell_type": "code",
   "execution_count": 110,
   "id": "32addb13-9098-4ab4-b3c5-e4d98da1ef32",
   "metadata": {},
   "outputs": [
    {
     "data": {
      "text/plain": [
       "4879972"
      ]
     },
     "execution_count": 110,
     "metadata": {},
     "output_type": "execute_result"
    }
   ],
   "source": [
    "len(points_covered.difference(beacons))"
   ]
  },
  {
   "cell_type": "markdown",
   "id": "0ddbe99f-b40d-4db1-a33d-6a5d529da55a",
   "metadata": {},
   "source": [
    "# Part 2"
   ]
  },
  {
   "cell_type": "code",
   "execution_count": 123,
   "id": "b42d0a58-99f6-479a-ab0d-20acc2d1f7ae",
   "metadata": {},
   "outputs": [],
   "source": [
    "x = get_input('input')"
   ]
  },
  {
   "cell_type": "code",
   "execution_count": 124,
   "id": "73c00c3e-3618-4c1d-b3e8-0ba0318ff230",
   "metadata": {},
   "outputs": [],
   "source": [
    "sensors = []\n",
    "for s in x:\n",
    "    xs,ys, xb,yb = [int(c) for c in re.findall('=([-+]?[0-9]*)',s)]\n",
    "    sensors.append(Sensor(xs,ys,xb,yb))"
   ]
  },
  {
   "cell_type": "code",
   "execution_count": 158,
   "id": "e9c00035-b04a-4d71-bfb0-470aec33b080",
   "metadata": {},
   "outputs": [],
   "source": [
    "for sensor in sensors:\n",
    "    \n",
    "    for p in sensor.get_edge_points(0, 4000000):\n",
    "        seen = False\n",
    "        for sensor in sensors:\n",
    "            if sensor.is_seen(p):\n",
    "                seen = True\n",
    "                break\n",
    "\n",
    "        if not seen:\n",
    "            target = p"
   ]
  },
  {
   "cell_type": "code",
   "execution_count": 160,
   "id": "88986ea2-f0cc-4bc3-b8b9-c7995daed94e",
   "metadata": {},
   "outputs": [
    {
     "name": "stdout",
     "output_type": "stream",
     "text": [
      "12525726647448\n"
     ]
    }
   ],
   "source": [
    "print(target[0]*4000000 + target[1])"
   ]
  }
 ],
 "metadata": {
  "kernelspec": {
   "display_name": "Python 3 (ipykernel)",
   "language": "python",
   "name": "python3"
  },
  "language_info": {
   "codemirror_mode": {
    "name": "ipython",
    "version": 3
   },
   "file_extension": ".py",
   "mimetype": "text/x-python",
   "name": "python",
   "nbconvert_exporter": "python",
   "pygments_lexer": "ipython3",
   "version": "3.9.15"
  }
 },
 "nbformat": 4,
 "nbformat_minor": 5
}
