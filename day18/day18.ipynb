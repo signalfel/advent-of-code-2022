{
 "cells": [
  {
   "cell_type": "code",
   "execution_count": 2,
   "id": "c4fe7f51-4177-4949-8c82-bc1491e01dde",
   "metadata": {},
   "outputs": [],
   "source": [
    "import numpy as np\n",
    "import itertools\n",
    "from timeit import default_timer as timer"
   ]
  },
  {
   "cell_type": "code",
   "execution_count": 135,
   "id": "57ac3de5-52ec-4a08-b420-2b770d8ed902",
   "metadata": {},
   "outputs": [],
   "source": [
    "def get_input(name):\n",
    "    with open(f'{name}.txt') as f:\n",
    "        return [tuple([int(d) for d in pt.split(',')]) for pt in f.read().split('\\n')]"
   ]
  },
  {
   "cell_type": "code",
   "execution_count": 165,
   "id": "cb9e52da-1aec-4b4f-b514-08046d67c7cc",
   "metadata": {},
   "outputs": [],
   "source": [
    "def tuple_abs(tup):\n",
    "    return sum([abs(i) for i in tup])\n",
    "neighbors = [nei for nei in itertools.product([1,0,-1],[1,0,-1],[1,0,-1]) if tuple_abs(nei) == 1]"
   ]
  },
  {
   "cell_type": "code",
   "execution_count": 166,
   "id": "f80b322b-64b4-498a-9952-f97996878b9c",
   "metadata": {},
   "outputs": [],
   "source": [
    "def add(tuple1, tuple2):\n",
    "    return tuple(map(lambda x, y: x + y, tuple1, tuple2))"
   ]
  },
  {
   "cell_type": "markdown",
   "id": "11ed4cf4-5a91-4c2e-9d5f-3ce743b14400",
   "metadata": {},
   "source": [
    "# Part 1"
   ]
  },
  {
   "cell_type": "code",
   "execution_count": 167,
   "id": "34d2c736-e9b9-42f0-9fe0-5d1dfad54c32",
   "metadata": {},
   "outputs": [],
   "source": [
    "def get_exposed_faces(cubes):\n",
    "    exposed_faces = 0\n",
    "    for cube in cubes:\n",
    "        faces = 6\n",
    "        for nei in neighbors:\n",
    "            if add(cube, nei) in cubes:\n",
    "                faces -= 1\n",
    "        exposed_faces += faces\n",
    "    return exposed_faces"
   ]
  },
  {
   "cell_type": "code",
   "execution_count": 168,
   "id": "233ed7fd-ae74-4b12-9350-6484e4b8e6da",
   "metadata": {},
   "outputs": [],
   "source": [
    "cubes = get_input('input')"
   ]
  },
  {
   "cell_type": "code",
   "execution_count": 169,
   "id": "33086f26-f7de-4a23-adb1-dce7cb270755",
   "metadata": {},
   "outputs": [
    {
     "data": {
      "text/plain": [
       "4604"
      ]
     },
     "execution_count": 169,
     "metadata": {},
     "output_type": "execute_result"
    }
   ],
   "source": [
    "get_exposed_faces(cubes)"
   ]
  },
  {
   "cell_type": "markdown",
   "id": "0ddbe99f-b40d-4db1-a33d-6a5d529da55a",
   "metadata": {},
   "source": [
    "# Part 2"
   ]
  },
  {
   "cell_type": "code",
   "execution_count": 246,
   "id": "951e3f1c-dfd9-419c-bf56-e8563a40c400",
   "metadata": {},
   "outputs": [],
   "source": [
    "cubes = get_input('input')"
   ]
  },
  {
   "cell_type": "code",
   "execution_count": 247,
   "id": "84235694-c43e-4be8-ac2e-74616ca922a6",
   "metadata": {},
   "outputs": [],
   "source": [
    "x0,x1 = min(np.array(cubes)[:, 0]), max(np.array(cubes)[:, 0])\n",
    "y0,y1 = min(np.array(cubes)[:, 1]), max(np.array(cubes)[:, 1])\n",
    "z0,z1 = min(np.array(cubes)[:, 2]), max(np.array(cubes)[:, 2])"
   ]
  },
  {
   "cell_type": "code",
   "execution_count": 248,
   "id": "e066e305-0aa1-4e2f-998b-3fd5160ee1fd",
   "metadata": {},
   "outputs": [],
   "source": [
    "grid = list(itertools.product(range(x0-1,x1+2), range(y0-1,y1+2), range(z0-1,z1+2)))\n",
    "\n",
    "water_cubes = []\n",
    "exposed_cubes = []\n",
    "queue = [grid[0]]\n",
    "handled_cubes = []\n",
    "while queue:\n",
    "    cube = queue.pop(0)\n",
    "\n",
    "    for nei in neighbors:\n",
    "        nei_tup = add(cube, nei)\n",
    "        if nei_tup in handled_cubes:\n",
    "            continue\n",
    "        else:\n",
    "            handled_cubes.append(nei_tup)\n",
    "\n",
    "        if nei_tup in cubes:\n",
    "            exposed_cubes.append(nei_tup)\n",
    "        elif nei_tup in grid:\n",
    "            queue.append(nei_tup)\n",
    "            water_cubes.append(nei_tup)"
   ]
  },
  {
   "cell_type": "code",
   "execution_count": 249,
   "id": "fb0da70d-4ddd-45ce-b96a-6cd32da18532",
   "metadata": {},
   "outputs": [],
   "source": [
    "def get_water_exposed_faces(exposed_cubes, water_cubes):\n",
    "    exposed_faces = 0\n",
    "    for cube in exposed_cubes:\n",
    "        faces = 0\n",
    "        for nei in neighbors:\n",
    "            if add(cube, nei) in water_cubes:\n",
    "                faces += 1\n",
    "        exposed_faces += faces\n",
    "    return exposed_faces"
   ]
  },
  {
   "cell_type": "code",
   "execution_count": 250,
   "id": "c12d3da0-dd48-42d1-9204-c84f90b72e58",
   "metadata": {},
   "outputs": [
    {
     "data": {
      "text/plain": [
       "2604"
      ]
     },
     "execution_count": 250,
     "metadata": {},
     "output_type": "execute_result"
    }
   ],
   "source": [
    "get_water_exposed_faces(exposed_cubes, water_cubes)"
   ]
  }
 ],
 "metadata": {
  "kernelspec": {
   "display_name": "Python 3 (ipykernel)",
   "language": "python",
   "name": "python3"
  },
  "language_info": {
   "codemirror_mode": {
    "name": "ipython",
    "version": 3
   },
   "file_extension": ".py",
   "mimetype": "text/x-python",
   "name": "python",
   "nbconvert_exporter": "python",
   "pygments_lexer": "ipython3",
   "version": "3.9.15"
  }
 },
 "nbformat": 4,
 "nbformat_minor": 5
}
