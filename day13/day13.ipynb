{
 "cells": [
  {
   "cell_type": "code",
   "execution_count": 1,
   "id": "cf360fb3-11de-49ae-a709-38bcfbba01e5",
   "metadata": {},
   "outputs": [],
   "source": [
    "def get_input(name):\n",
    "    with open(f'{name}.txt') as f:\n",
    "        return f.read().split('\\n\\n')"
   ]
  },
  {
   "cell_type": "markdown",
   "id": "e0ffec95-0a6b-4d25-989c-cf9e64c57340",
   "metadata": {
    "tags": []
   },
   "source": [
    "## Part 1"
   ]
  },
  {
   "cell_type": "code",
   "execution_count": 2,
   "id": "9df120cb-2876-49f0-9220-875b25c01f45",
   "metadata": {},
   "outputs": [],
   "source": [
    "def compare(left, right, verbose=False):\n",
    "    if verbose:\n",
    "        print(f'Compare {left} with {right}') \n",
    "\n",
    "    if isinstance(left, list) & isinstance(right, int):\n",
    "        return compare(left, [right], verbose=verbose)\n",
    "    elif isinstance(left, int) & isinstance(right, list):\n",
    "        return compare([left], right, verbose=verbose)\n",
    "        \n",
    "    if isinstance(left, list) & isinstance(right, list):      \n",
    "        for i1, i2 in zip(left,right):\n",
    "            result = compare(i1, i2, verbose=verbose)\n",
    "            if result is not None:\n",
    "                return result\n",
    "        \n",
    "        # Finished checking the lists without verdict, continue if equal length or \n",
    "        # make decision based on which ran out of items first\n",
    "        return None if (len(left) == len(right)) else (len(right) > len(left))\n",
    "    \n",
    "    # If we reach here, both must be ints, so we continue checking if they're equal or make\n",
    "    # a decision based on their relative size if they differ\n",
    "    return None if (left == right) else (right > left)"
   ]
  },
  {
   "cell_type": "code",
   "execution_count": 3,
   "id": "a605f268-5234-454e-8eb9-912f6c7a3686",
   "metadata": {},
   "outputs": [
    {
     "data": {
      "text/plain": [
       "6187"
      ]
     },
     "execution_count": 3,
     "metadata": {},
     "output_type": "execute_result"
    }
   ],
   "source": [
    "x = get_input('input')\n",
    "verbose = False\n",
    "\n",
    "index_sum = 0\n",
    "for i, signal in enumerate(x):\n",
    "    left, right = eval(signal.replace('\\n', ','))\n",
    "    if compare(left, right, verbose=verbose):\n",
    "        if verbose:\n",
    "            print('True')\n",
    "        index_sum += i+1\n",
    "    else:\n",
    "        if verbose:\n",
    "            print('False')\n",
    "    if verbose:\n",
    "        print('')\n",
    "index_sum"
   ]
  },
  {
   "cell_type": "markdown",
   "id": "b02c9461-d1b4-4131-8f03-eecd51e6cb1e",
   "metadata": {},
   "source": [
    "## Part 2"
   ]
  },
  {
   "cell_type": "code",
   "execution_count": 4,
   "id": "42c4973e-ae93-4f29-858d-b3de524bab9b",
   "metadata": {},
   "outputs": [],
   "source": [
    "x = get_input('input')\n",
    "\n",
    "packets = []\n",
    "for row in x:\n",
    "    left, right = eval(row.replace('\\n', ','))\n",
    "    packets += [left, right]\n",
    "packets += [[[2]], [[6]]]"
   ]
  },
  {
   "cell_type": "code",
   "execution_count": 5,
   "id": "ef4b5332-3f00-4444-83da-22bcfd617d5a",
   "metadata": {},
   "outputs": [],
   "source": [
    "class packet():\n",
    "    def __init__(self, contents):\n",
    "        self.contents = contents\n",
    "    \n",
    "    def __lt__(self, other):\n",
    "        return compare(self.contents, other.contents)\n",
    "    \n",
    "    def __repr__(self):\n",
    "        return str(self.contents)"
   ]
  },
  {
   "cell_type": "code",
   "execution_count": 6,
   "id": "ddb90977-1f94-4cce-8cba-d4f094054c9d",
   "metadata": {},
   "outputs": [],
   "source": [
    "sorted_packets = [p.contents for p in sorted([packet(i) for i in packets])]"
   ]
  },
  {
   "cell_type": "code",
   "execution_count": 7,
   "id": "96828334-4722-4b56-b982-5ce215327f4f",
   "metadata": {},
   "outputs": [
    {
     "data": {
      "text/plain": [
       "23520"
      ]
     },
     "execution_count": 7,
     "metadata": {},
     "output_type": "execute_result"
    }
   ],
   "source": [
    "(sorted_packets.index([[2]]) + 1)*(sorted_packets.index([[6]]) + 1)"
   ]
  },
  {
   "cell_type": "markdown",
   "id": "2f26a355-a1b5-4056-ac97-9a57f8d77222",
   "metadata": {},
   "source": [
    "## Part 2 with Homebrewed Quicksort"
   ]
  },
  {
   "cell_type": "code",
   "execution_count": 8,
   "id": "b41c1283-4086-4011-8f21-431e4e467425",
   "metadata": {},
   "outputs": [],
   "source": [
    "# Sorts a (portion of an) array, divides it into partitions, then sorts those\n",
    "def quicksort(A, lo, hi): \n",
    "    # Ensure indices are in correct order\n",
    "    if (lo >= hi) or (lo < 0):\n",
    "        return A\n",
    "\n",
    "    # Partition array and get the pivot index\n",
    "    p, A = partition(A, lo, hi) \n",
    "\n",
    "    # Sort the two partitions\n",
    "    A = quicksort(A, lo, p - 1) # Left side of pivot\n",
    "    A = quicksort(A, p + 1, hi) # Right side of pivot\n",
    "    \n",
    "    return A\n",
    "\n",
    "def swap(A, i, j):\n",
    "    tmp = A[i]\n",
    "    A[i] = A[j]\n",
    "    A[j] = tmp\n",
    "    return A\n",
    "\n",
    "# Divides array into two partitions\n",
    "def partition(A, lo, hi): \n",
    "    pivot = A[hi] # Choose the last element as the pivot\n",
    "\n",
    "    # Temporary pivot index\n",
    "    i = lo - 1\n",
    "\n",
    "    for j in range(lo, hi): \n",
    "        # If the current element is less than or equal to the pivot\n",
    "        if compare(A[j], pivot):\n",
    "            # Move the temporary pivot index forward\n",
    "            i += 1\n",
    "            # Swap the current element with the element at the temporary pivot index\n",
    "            A = swap(A, i, j)\n",
    "            \n",
    "    # Move the pivot element to the correct pivot position (between the smaller and larger elements)\n",
    "    i += 1\n",
    "    A = swap(A, i, hi)\n",
    "    return i, A # the pivot index"
   ]
  },
  {
   "cell_type": "code",
   "execution_count": 9,
   "id": "2687e5a5-0845-484b-89fc-bd60c95fc671",
   "metadata": {},
   "outputs": [],
   "source": [
    "x = get_input('input')\n",
    "\n",
    "packets = []\n",
    "for row in x:\n",
    "    left, right = eval(row.replace('\\n', ','))\n",
    "    packets += [left, right]\n",
    "packets += [[[2]], [[6]]]"
   ]
  },
  {
   "cell_type": "code",
   "execution_count": 10,
   "id": "f5d17609-1b62-4e76-836f-5ad15a0fe7c1",
   "metadata": {},
   "outputs": [],
   "source": [
    "sorted_packets = quicksort(packets, 0, len(packets)-1)"
   ]
  },
  {
   "cell_type": "code",
   "execution_count": 11,
   "id": "cfc7b187-3350-42ee-b3e4-3ebf6f91f2ee",
   "metadata": {},
   "outputs": [
    {
     "data": {
      "text/plain": [
       "23520"
      ]
     },
     "execution_count": 11,
     "metadata": {},
     "output_type": "execute_result"
    }
   ],
   "source": [
    "(sorted_packets.index([[2]]) + 1)*(sorted_packets.index([[6]]) + 1)"
   ]
  }
 ],
 "metadata": {
  "kernelspec": {
   "display_name": "Python 3 (ipykernel)",
   "language": "python",
   "name": "python3"
  },
  "language_info": {
   "codemirror_mode": {
    "name": "ipython",
    "version": 3
   },
   "file_extension": ".py",
   "mimetype": "text/x-python",
   "name": "python",
   "nbconvert_exporter": "python",
   "pygments_lexer": "ipython3",
   "version": "3.9.15"
  }
 },
 "nbformat": 4,
 "nbformat_minor": 5
}
