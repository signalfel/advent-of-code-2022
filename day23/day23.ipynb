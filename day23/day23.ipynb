{
 "cells": [
  {
   "cell_type": "code",
   "execution_count": 1,
   "id": "6ad5c95d-63a0-4b38-9a17-bc60710c0ba4",
   "metadata": {},
   "outputs": [],
   "source": [
    "%load_ext autoreload\n",
    "%autoreload 2"
   ]
  },
  {
   "cell_type": "code",
   "execution_count": 2,
   "id": "57ac3de5-52ec-4a08-b420-2b770d8ed902",
   "metadata": {},
   "outputs": [],
   "source": [
    "def get_input(name):\n",
    "    with open(f'{name}.txt') as f:\n",
    "        return f.read().split('\\n')"
   ]
  },
  {
   "cell_type": "code",
   "execution_count": 3,
   "id": "3fec9628-01c2-480e-98a0-12e4b039bb63",
   "metadata": {},
   "outputs": [],
   "source": [
    "import numpy as np\n",
    "import sys\n",
    "sys.path.insert(0, '../')\n",
    "from aoc_utils import get_grid_neighbours"
   ]
  },
  {
   "cell_type": "markdown",
   "id": "11ed4cf4-5a91-4c2e-9d5f-3ce743b14400",
   "metadata": {},
   "source": [
    "# Part 1"
   ]
  },
  {
   "cell_type": "code",
   "execution_count": 47,
   "id": "ee6ec89a-6671-44fa-a9a8-2a06a3814dbb",
   "metadata": {},
   "outputs": [],
   "source": [
    "nei_dict = {'n': ['nw', 'n', 'ne'],\n",
    "            'e': ['ne', 'e', 'se'],\n",
    "            's': ['se', 's', 'sw'],\n",
    "            'w': ['sw', 'w', 'nw']}\n",
    "\n",
    "def get_elves_in_neighbour_tiles(elf_field, neis_8):\n",
    "    elves_in_tiles = dict()\n",
    "    for direction, tile in neis_8.items():\n",
    "        try:\n",
    "            elves_found = elf_field[tile]\n",
    "        except KeyError:\n",
    "            elves_found = []\n",
    "        elves_in_tiles[direction] = elves_found    \n",
    "        \n",
    "    return elves_in_tiles\n",
    "\n",
    "def check_neighbour_tiles_for_elves(direction, elves_in_tiles):\n",
    "    return any([any(elves_in_tiles[d]) for d in nei_dict[direction]])\n",
    "\n",
    "    \n",
    "class elf:\n",
    "    def __init__(self, location):\n",
    "        self.location = location\n",
    "        self.suggested_tile = None\n",
    "        \n",
    "    def __repr__(self):\n",
    "        return f'Elf at {self.location}, suggested: {self.suggested_tile}'\n",
    "    \n",
    "    def get_tile_suggestion(self, elf_field):\n",
    "        neis_8 = get_grid_neighbours(self.location, 8, as_dict=True)\n",
    "        \n",
    "        elves_in_tiles = get_elves_in_neighbour_tiles(elf_field, neis_8)\n",
    "        if not any(elves_in_tiles.values()):\n",
    "            return None\n",
    "        else:\n",
    "            for direction in order_of_movements:\n",
    "                if not check_neighbour_tiles_for_elves(direction, elves_in_tiles):\n",
    "                    return neis_8[direction]\n",
    "        return None\n",
    "\n",
    "    def suggest_tile(self, elf_field):\n",
    "        self.suggested_tile = self.get_tile_suggestion(elf_field)\n",
    "        \n",
    "    def approve_suggestion(self):\n",
    "        if self.suggested_tile is not None:\n",
    "            self.location = self.suggested_tile\n",
    "            self.suggested_tile = None\n",
    "\n",
    "        \n",
    "def update_elf_field(elves):\n",
    "    elf_field = dict()\n",
    "    for e in elves:\n",
    "        if not e.location in elf_field:\n",
    "            elf_field[e.location] = [e]\n",
    "        else:\n",
    "            elf_field[e.location].append(e)\n",
    "    return elf_field\n",
    "\n",
    "def update_tentative_elf_field(elves):\n",
    "    tentative_elf_field = dict()\n",
    "    for e in elves:\n",
    "        if (tile := e.suggested_tile) is not None:\n",
    "            if not tile in tentative_elf_field:\n",
    "                tentative_elf_field[tile] = [e]\n",
    "            else:\n",
    "                tentative_elf_field[tile].append(e)\n",
    "    return tentative_elf_field\n",
    "\n",
    "\n",
    "def initialize_elves(elf_arrangement):\n",
    "    elves = []\n",
    "    for i in range(len(elf_arrangement)):\n",
    "        for j in range(len(elf_arrangement[0])):\n",
    "            if elf_arrangement[i][j] == '#':\n",
    "                elves.append(elf((i, j)))\n",
    "    return elves"
   ]
  },
  {
   "cell_type": "code",
   "execution_count": 62,
   "id": "5793a1b8-7c24-40de-8931-20bbf2b365ac",
   "metadata": {},
   "outputs": [],
   "source": [
    "elf_arrangement = get_input('input')\n",
    "elves = initialize_elves(elf_arrangement)\n",
    "elf_field = update_elf_field(elves)\n",
    "\n",
    "order_of_movements = np.array(['n', 's', 'w', 'e'])\n",
    "\n",
    "for _ in range(10):\n",
    "    for e in elves:\n",
    "        e.suggest_tile(elf_field)\n",
    "    tentative_elf_field = update_tentative_elf_field(elves)\n",
    "    for suggested_tile, elves_that_want_to_move_here in tentative_elf_field.items():\n",
    "        if len(elves_that_want_to_move_here) == 1:\n",
    "            elves_that_want_to_move_here[0].approve_suggestion()\n",
    "    \n",
    "    elf_field = update_elf_field(elves)\n",
    "    order_of_movements = np.roll(order_of_movements, -1)"
   ]
  },
  {
   "cell_type": "code",
   "execution_count": 63,
   "id": "9e2ec7d6-f408-4083-84b4-ce7f4d8fd38e",
   "metadata": {},
   "outputs": [
    {
     "name": "stdout",
     "output_type": "stream",
     "text": [
      "4070\n"
     ]
    }
   ],
   "source": [
    "ymin = min(elf_field.keys(), key=lambda t: t[0])[0]\n",
    "ymax = max(elf_field.keys(), key=lambda t: t[0])[0]\n",
    "\n",
    "xmin = min(elf_field.keys(), key=lambda t: t[1])[1]\n",
    "xmax = max(elf_field.keys(), key=lambda t: t[1])[1]\n",
    "\n",
    "area = (xmax - xmin + 1)*(ymax - ymin + 1)\n",
    "print(area - len(elves))"
   ]
  },
  {
   "cell_type": "markdown",
   "id": "a1da65ee-b4f4-4ddf-aa5c-e3c65ef0b1ad",
   "metadata": {},
   "source": [
    "# Part 2"
   ]
  },
  {
   "cell_type": "code",
   "execution_count": 67,
   "id": "472bb5ae-bf5a-44d3-8b8e-959a1ae2aaf5",
   "metadata": {},
   "outputs": [],
   "source": [
    "elf_arrangement = get_input('input')\n",
    "elves = initialize_elves(elf_arrangement)\n",
    "elf_field = update_elf_field(elves)\n",
    "\n",
    "order_of_movements = np.array(['n', 's', 'w', 'e'])\n",
    "finished = False\n",
    "rnd = 0\n",
    "while not finished:\n",
    "    rnd += 1\n",
    "    for e in elves:\n",
    "        e.suggest_tile(elf_field)\n",
    "    tentative_elf_field = update_tentative_elf_field(elves)\n",
    "    if not tentative_elf_field:\n",
    "        finished = True\n",
    "        \n",
    "    for suggested_tile, elves_that_want_to_move_here in tentative_elf_field.items():\n",
    "        if len(elves_that_want_to_move_here) == 1:\n",
    "            elves_that_want_to_move_here[0].approve_suggestion()\n",
    "    \n",
    "    elf_field = update_elf_field(elves)\n",
    "    order_of_movements = np.roll(order_of_movements, -1)"
   ]
  },
  {
   "cell_type": "code",
   "execution_count": 68,
   "id": "5115a437-6394-41a4-a286-1409d7dc6043",
   "metadata": {},
   "outputs": [
    {
     "name": "stdout",
     "output_type": "stream",
     "text": [
      "881\n"
     ]
    }
   ],
   "source": [
    "print(rnd)"
   ]
  },
  {
   "cell_type": "code",
   "execution_count": null,
   "id": "426a4cf8-5b6d-458a-82c9-4420fbbbca2f",
   "metadata": {},
   "outputs": [],
   "source": []
  }
 ],
 "metadata": {
  "kernelspec": {
   "display_name": "Python 3 (ipykernel)",
   "language": "python",
   "name": "python3"
  },
  "language_info": {
   "codemirror_mode": {
    "name": "ipython",
    "version": 3
   },
   "file_extension": ".py",
   "mimetype": "text/x-python",
   "name": "python",
   "nbconvert_exporter": "python",
   "pygments_lexer": "ipython3",
   "version": "3.9.15"
  }
 },
 "nbformat": 4,
 "nbformat_minor": 5
}
